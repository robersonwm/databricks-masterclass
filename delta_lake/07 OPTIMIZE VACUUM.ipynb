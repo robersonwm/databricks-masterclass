{
 "cells": [
  {
   "cell_type": "markdown",
   "metadata": {
    "application/vnd.databricks.v1+cell": {
     "cellMetadata": {},
     "inputWidgets": {},
     "nuid": "b1bf92a1-0b7f-4237-a6bc-370cc1d0bc36",
     "showTitle": false,
     "tableResultSettingsMap": {},
     "title": ""
    }
   },
   "source": [
    "#### OPTIMIZE Intro"
   ]
  },
  {
   "cell_type": "code",
   "execution_count": 0,
   "metadata": {
    "application/vnd.databricks.v1+cell": {
     "cellMetadata": {
      "byteLimit": 2048000,
      "rowLimit": 10000
     },
     "inputWidgets": {},
     "nuid": "9fb1a9c3-480e-46e5-88cc-70f517672ae4",
     "showTitle": false,
     "tableResultSettingsMap": {},
     "title": ""
    }
   },
   "outputs": [
    {
     "output_type": "display_data",
     "data": {
      "text/html": [
       "<style scoped>\n",
       "  .table-result-container {\n",
       "    max-height: 300px;\n",
       "    overflow: auto;\n",
       "  }\n",
       "  table, th, td {\n",
       "    border: 1px solid black;\n",
       "    border-collapse: collapse;\n",
       "  }\n",
       "  th, td {\n",
       "    padding: 5px;\n",
       "  }\n",
       "  th {\n",
       "    text-align: left;\n",
       "  }\n",
       "</style><div class='table-result-container'><table class='table-result'><thead style='background-color: white'><tr><th>customer_id</th><th>invoice_no</th><th>gender</th><th>age</th><th>category</th><th>quantity</th><th>price</th><th>payment_method</th><th>invoice_date</th><th>shopping_mall</th><th>_rescued_data</th></tr></thead><tbody><tr><td>201</td><td>I885979</td><td>Female</td><td>26</td><td>Clothing</td><td>3</td><td>900.24</td><td>Debit Card</td><td>2021-07-04</td><td>Metrocity</td><td>null</td></tr><tr><td>202</td><td>I810217</td><td>Female</td><td>51</td><td>Clothing</td><td>3</td><td>900.24</td><td>Cash</td><td>2022-01-14</td><td>Metrocity</td><td>null</td></tr><tr><td>203</td><td>I499170</td><td>Female</td><td>38</td><td>Toys</td><td>1</td><td>35.84</td><td>Credit Card</td><td>2022-02-20</td><td>Kanyon</td><td>null</td></tr><tr><td>204</td><td>I792963</td><td>Female</td><td>59</td><td>Clothing</td><td>5</td><td>1500.4</td><td>Debit Card</td><td>2022-06-18</td><td>Emaar Square Mall</td><td>null</td></tr><tr><td>205</td><td>I311151</td><td>Female</td><td>39</td><td>Souvenir</td><td>3</td><td>35.19</td><td>Credit Card</td><td>2022-04-27</td><td>Mall of Istanbul</td><td>null</td></tr></tbody></table></div>"
      ]
     },
     "metadata": {
      "application/vnd.databricks.v1+output": {
       "addedWidgets": {},
       "aggData": [],
       "aggError": "",
       "aggOverflow": false,
       "aggSchema": [],
       "aggSeriesLimitReached": false,
       "aggType": "",
       "arguments": {},
       "columnCustomDisplayInfos": {},
       "data": [
        [
         201,
         "I885979",
         "Female",
         26,
         "Clothing",
         3,
         900.24,
         "Debit Card",
         "2021-07-04",
         "Metrocity",
         null
        ],
        [
         202,
         "I810217",
         "Female",
         51,
         "Clothing",
         3,
         900.24,
         "Cash",
         "2022-01-14",
         "Metrocity",
         null
        ],
        [
         203,
         "I499170",
         "Female",
         38,
         "Toys",
         1,
         35.84,
         "Credit Card",
         "2022-02-20",
         "Kanyon",
         null
        ],
        [
         204,
         "I792963",
         "Female",
         59,
         "Clothing",
         5,
         1500.4,
         "Debit Card",
         "2022-06-18",
         "Emaar Square Mall",
         null
        ],
        [
         205,
         "I311151",
         "Female",
         39,
         "Souvenir",
         3,
         35.19,
         "Credit Card",
         "2022-04-27",
         "Mall of Istanbul",
         null
        ]
       ],
       "datasetInfos": [],
       "dbfsResultPath": null,
       "isJsonSchema": true,
       "metadata": {},
       "overflow": false,
       "plotOptions": {
        "customPlotOptions": {},
        "displayType": "table",
        "pivotAggregation": null,
        "pivotColumns": null,
        "xColumns": null,
        "yColumns": null
       },
       "removedWidgets": [],
       "schema": [
        {
         "metadata": "{}",
         "name": "customer_id",
         "type": "\"integer\""
        },
        {
         "metadata": "{}",
         "name": "invoice_no",
         "type": "\"string\""
        },
        {
         "metadata": "{}",
         "name": "gender",
         "type": "\"string\""
        },
        {
         "metadata": "{}",
         "name": "age",
         "type": "\"integer\""
        },
        {
         "metadata": "{}",
         "name": "category",
         "type": "\"string\""
        },
        {
         "metadata": "{}",
         "name": "quantity",
         "type": "\"integer\""
        },
        {
         "metadata": "{}",
         "name": "price",
         "type": "\"double\""
        },
        {
         "metadata": "{}",
         "name": "payment_method",
         "type": "\"string\""
        },
        {
         "metadata": "{\"__detected_date_formats\":\"yyyy-M-d\"}",
         "name": "invoice_date",
         "type": "\"date\""
        },
        {
         "metadata": "{}",
         "name": "shopping_mall",
         "type": "\"string\""
        },
        {
         "metadata": "{}",
         "name": "_rescued_data",
         "type": "\"string\""
        }
       ],
       "type": "table"
      }
     },
     "output_type": "display_data"
    }
   ],
   "source": [
    "df = spark.read.parquet(\"abfss://labdata@dbdeltalabstorageacct.dfs.core.windows.net/invoices/invoices_201_99457.parquet\")\n",
    "display(df.limit(5))"
   ]
  },
  {
   "cell_type": "code",
   "execution_count": 0,
   "metadata": {
    "application/vnd.databricks.v1+cell": {
     "cellMetadata": {
      "byteLimit": 2048000,
      "rowLimit": 10000
     },
     "inputWidgets": {},
     "nuid": "765089f4-7bd9-4ed7-89d8-786907d4489f",
     "showTitle": false,
     "tableResultSettingsMap": {},
     "title": ""
    }
   },
   "outputs": [
    {
     "output_type": "stream",
     "name": "stdout",
     "output_type": "stream",
     "text": [
      "99257\n8\n"
     ]
    }
   ],
   "source": [
    "print(df.count())\n",
    "print(df.select(\"category\").distinct().count())"
   ]
  },
  {
   "cell_type": "code",
   "execution_count": 0,
   "metadata": {
    "application/vnd.databricks.v1+cell": {
     "cellMetadata": {
      "byteLimit": 2048000,
      "rowLimit": 10000
     },
     "inputWidgets": {},
     "nuid": "9ec4ef91-544e-4f84-a03f-c9f76877efdc",
     "showTitle": false,
     "tableResultSettingsMap": {},
     "title": ""
    }
   },
   "outputs": [],
   "source": [
    "df.repartition(5).write.mode(\"overwrite\").partitionBy(\"category\").saveAsTable(\"deltacatalog.deltadb.optimize_ex1\")"
   ]
  },
  {
   "cell_type": "code",
   "execution_count": 0,
   "metadata": {
    "application/vnd.databricks.v1+cell": {
     "cellMetadata": {
      "byteLimit": 2048000,
      "rowLimit": 10000
     },
     "inputWidgets": {},
     "nuid": "43e08dbd-1894-40cc-972a-1c447fd2b9f7",
     "showTitle": false,
     "tableResultSettingsMap": {},
     "title": ""
    }
   },
   "outputs": [
    {
     "output_type": "stream",
     "name": "stdout",
     "output_type": "stream",
     "text": [
      "CPU times: user 514 ms, sys: 22.1 ms, total: 536 ms\nWall time: 2.3 s\n"
     ]
    }
   ],
   "source": [
    "%%time\n",
    "df_ex1 = spark.read.table(\"deltacatalog.deltadb.optimize_ex1\")\n",
    "df_out = df_ex1.where(df_ex1.category == \"Clothing\").collect()"
   ]
  },
  {
   "cell_type": "code",
   "execution_count": 0,
   "metadata": {
    "application/vnd.databricks.v1+cell": {
     "cellMetadata": {
      "byteLimit": 2048000,
      "rowLimit": 10000
     },
     "inputWidgets": {},
     "nuid": "883ab0f3-1cff-417a-be4d-9b361b668ff6",
     "showTitle": false,
     "tableResultSettingsMap": {},
     "title": ""
    }
   },
   "outputs": [
    {
     "output_type": "execute_result",
     "data": {
      "text/plain": [
       "DataFrame[path: string, metrics: struct<numFilesAdded:bigint,numFilesRemoved:bigint,filesAdded:struct<min:bigint,max:bigint,avg:double,totalFiles:bigint,totalSize:bigint>,filesRemoved:struct<min:bigint,max:bigint,avg:double,totalFiles:bigint,totalSize:bigint>,partitionsOptimized:bigint,zOrderStats:struct<strategyName:string,inputCubeFiles:struct<num:bigint,size:bigint>,inputOtherFiles:struct<num:bigint,size:bigint>,inputNumCubes:bigint,mergedFiles:struct<num:bigint,size:bigint>,numOutputCubes:bigint,mergedNumCubes:bigint>,clusteringStats:struct<inputZCubeFiles:struct<numFiles:bigint,size:bigint>,inputOtherFiles:struct<numFiles:bigint,size:bigint>,inputNumZCubes:bigint,mergedFiles:struct<numFiles:bigint,size:bigint>,numOutputZCubes:bigint>,numBins:bigint,numBatches:bigint,totalConsideredFiles:bigint,totalFilesSkipped:bigint,preserveInsertionOrder:boolean,numFilesSkippedToReduceWriteAmplification:bigint,numBytesSkippedToReduceWriteAmplification:bigint,startTimeMs:bigint,endTimeMs:bigint,totalClusterParallelism:bigint,totalScheduledTasks:bigint,autoCompactParallelismStats:struct<maxClusterActiveParallelism:bigint,minClusterActiveParallelism:bigint,maxSessionActiveParallelism:bigint,minSessionActiveParallelism:bigint>,deletionVectorStats:struct<numDeletionVectorsRemoved:bigint,numDeletionVectorRowsRemoved:bigint>,numTableColumns:bigint,numTableColumnsWithStats:bigint,totalTaskExecutionTimeMs:bigint,skippedArchivedFiles:bigint,clusteringMetrics:struct<sizeOfTableInBytesBeforeLazyClustering:bigint,isNewMetadataCreated:boolean,isPOTriggered:boolean,numFilesSkippedWithoutStats:bigint,numFilesClassifiedToIntermediateNodes:bigint,sizeOfFilesClassifiedToIntermediateNodesInBytes:bigint,logicalSizeOfFilesClassifiedToIntermediateNodesInBytes:bigint,numFilesClassifiedToLeafNodes:bigint,sizeOfFilesClassifiedToLeafNodesInBytes:bigint,logicalSizeOfFilesClassifiedToLeafNodesInBytes:bigint,numThreadsForClassifier:int,clusterThresholdStrategy:string,minFileSize:bigint,maxFileSize:bigint,nodeMinNumFilesToCompact:bigint,numIdealFiles:bigint,numClusteringTasksPlanned:int,numCompactionTasksPlanned:int,numOptimizeBatchesPlanned:int,numLeafNodesExpanded:bigint,numLeafNodesClustered:bigint,numGetFilesForNodeCalls:bigint,numSamplingJobs:bigint,numLeafNodesCompacted:bigint,numIntermediateNodesCompacted:bigint,totalSizeOfDataToCompactInBytes:bigint,totalLogicalSizeOfDataToCompactInBytes:bigint,numIntermediateNodesClustered:bigint,numFilesSkippedAfterExpansion:bigint,totalSizeOfFilesSkippedAfterExpansionInBytes:bigint,totalLogicalSizeOfFilesSkippedAfterExpansionInBytes:bigint,totalSizeOfDataToRewriteInBytes:bigint,totalLogicalSizeOfDataToRewriteInBytes:bigint,timeMetrics:struct<classifierTimeMs:bigint,optimizerTimeMs:bigint,metadataLoadTimeMs:bigint,totalGetFilesForNodeCallsTimeMs:bigint,totalSamplingTimeMs:bigint,metadataCreationTimeMs:bigint>,maxOptimizeBatchesInParallel:bigint,currentIteration:int,maxIterations:int,clusteringStrategy:string>>]"
      ]
     },
     "execution_count": 5,
     "metadata": {},
     "output_type": "execute_result"
    }
   ],
   "source": [
    "from delta.tables import DeltaTable\n",
    "table = DeltaTable.forName(spark, \"deltacatalog.deltadb.optimize_ex1\")\n",
    "table.optimize().executeCompaction()"
   ]
  },
  {
   "cell_type": "code",
   "execution_count": 0,
   "metadata": {
    "application/vnd.databricks.v1+cell": {
     "cellMetadata": {
      "byteLimit": 2048000,
      "rowLimit": 10000
     },
     "inputWidgets": {},
     "nuid": "342464a5-77a5-471e-9446-f0ad15bb086c",
     "showTitle": false,
     "tableResultSettingsMap": {},
     "title": ""
    }
   },
   "outputs": [
    {
     "output_type": "execute_result",
     "data": {
      "text/plain": [
       "DataFrame[]"
      ]
     },
     "execution_count": 9,
     "metadata": {},
     "output_type": "execute_result"
    }
   ],
   "source": [
    "table.vacuum(0)"
   ]
  },
  {
   "cell_type": "code",
   "execution_count": 0,
   "metadata": {
    "application/vnd.databricks.v1+cell": {
     "cellMetadata": {
      "byteLimit": 2048000,
      "implicitDf": true,
      "rowLimit": 10000
     },
     "inputWidgets": {},
     "nuid": "da5c4d31-4a26-4994-99a0-76c27ee19ead",
     "showTitle": false,
     "tableResultSettingsMap": {},
     "title": ""
    }
   },
   "outputs": [
    {
     "output_type": "display_data",
     "data": {
      "text/html": [
       "<style scoped>\n",
       "  .table-result-container {\n",
       "    max-height: 300px;\n",
       "    overflow: auto;\n",
       "  }\n",
       "  table, th, td {\n",
       "    border: 1px solid black;\n",
       "    border-collapse: collapse;\n",
       "  }\n",
       "  th, td {\n",
       "    padding: 5px;\n",
       "  }\n",
       "  th {\n",
       "    text-align: left;\n",
       "  }\n",
       "</style><div class='table-result-container'><table class='table-result'><thead style='background-color: white'><tr><th>key</th><th>value</th></tr></thead><tbody><tr><td>spark.databricks.delta.retentionDurationCheck.enabled</td><td>false</td></tr></tbody></table></div>"
      ]
     },
     "metadata": {
      "application/vnd.databricks.v1+output": {
       "addedWidgets": {},
       "aggData": [],
       "aggError": "",
       "aggOverflow": false,
       "aggSchema": [],
       "aggSeriesLimitReached": false,
       "aggType": "",
       "arguments": {},
       "columnCustomDisplayInfos": {},
       "data": [
        [
         "spark.databricks.delta.retentionDurationCheck.enabled",
         "false"
        ]
       ],
       "datasetInfos": [],
       "dbfsResultPath": null,
       "isJsonSchema": true,
       "metadata": {
        "createTempViewForImplicitDf": true,
        "dataframeName": "_sqldf",
        "executionCount": 8
       },
       "overflow": false,
       "plotOptions": {
        "customPlotOptions": {},
        "displayType": "table",
        "pivotAggregation": null,
        "pivotColumns": null,
        "xColumns": null,
        "yColumns": null
       },
       "removedWidgets": [],
       "schema": [
        {
         "metadata": "{}",
         "name": "key",
         "type": "\"string\""
        },
        {
         "metadata": "{}",
         "name": "value",
         "type": "\"string\""
        }
       ],
       "type": "table"
      }
     },
     "output_type": "display_data"
    }
   ],
   "source": [
    "%sql \n",
    "SET spark.databricks.delta.retentionDurationCheck.enabled = false;"
   ]
  },
  {
   "cell_type": "code",
   "execution_count": 0,
   "metadata": {
    "application/vnd.databricks.v1+cell": {
     "cellMetadata": {
      "byteLimit": 2048000,
      "rowLimit": 10000
     },
     "inputWidgets": {},
     "nuid": "481774d5-4a37-4995-bb87-838ff749f8a8",
     "showTitle": false,
     "tableResultSettingsMap": {},
     "title": ""
    }
   },
   "outputs": [
    {
     "output_type": "stream",
     "name": "stdout",
     "output_type": "stream",
     "text": [
      "CPU times: user 157 ms, sys: 16.7 ms, total: 173 ms\nWall time: 1.4 s\n"
     ]
    }
   ],
   "source": [
    "%%time\n",
    "df_ex1 = spark.read.table(\"deltacatalog.deltadb.optimize_ex1\")\n",
    "df_out = df_ex1.where(df_ex1.category == \"Clothing\").collect()"
   ]
  },
  {
   "cell_type": "code",
   "execution_count": 0,
   "metadata": {
    "application/vnd.databricks.v1+cell": {
     "cellMetadata": {
      "byteLimit": 2048000,
      "rowLimit": 10000
     },
     "inputWidgets": {},
     "nuid": "b4ed5eb1-9ecb-40e3-bb36-c4dcc39c790b",
     "showTitle": false,
     "tableResultSettingsMap": {},
     "title": ""
    }
   },
   "outputs": [],
   "source": [
    "import pyspark.sql.functions as F\n",
    "df_fruits = df.filter(df.category == \"Clothing\").withColumn(\"category\", F.lit(\"Fruits\"))"
   ]
  },
  {
   "cell_type": "code",
   "execution_count": 0,
   "metadata": {
    "application/vnd.databricks.v1+cell": {
     "cellMetadata": {
      "byteLimit": 2048000,
      "rowLimit": 10000
     },
     "inputWidgets": {},
     "nuid": "cf326e97-0cb0-4069-aa48-298c9b77c230",
     "showTitle": false,
     "tableResultSettingsMap": {},
     "title": ""
    }
   },
   "outputs": [
    {
     "output_type": "execute_result",
     "data": {
      "text/plain": [
       "1"
      ]
     },
     "execution_count": 5,
     "metadata": {},
     "output_type": "execute_result"
    }
   ],
   "source": [
    "df_fruits.select(\"category\").distinct().count()"
   ]
  },
  {
   "cell_type": "code",
   "execution_count": 0,
   "metadata": {
    "application/vnd.databricks.v1+cell": {
     "cellMetadata": {
      "byteLimit": 2048000,
      "rowLimit": 10000
     },
     "inputWidgets": {},
     "nuid": "1ab3d1c0-2ffb-499a-a87e-1248c93ec718",
     "showTitle": false,
     "tableResultSettingsMap": {},
     "title": ""
    }
   },
   "outputs": [],
   "source": [
    "df_fruits.repartition(5).write.mode(\"overwrite\").partitionBy(\"category\").saveAsTable(\"deltacatalog.deltadb.optimize_ex1\")"
   ]
  },
  {
   "cell_type": "code",
   "execution_count": 0,
   "metadata": {
    "application/vnd.databricks.v1+cell": {
     "cellMetadata": {},
     "inputWidgets": {},
     "nuid": "3071a482-e0d4-47b1-a331-8c146e7d7f83",
     "showTitle": false,
     "tableResultSettingsMap": {},
     "title": ""
    }
   },
   "outputs": [],
   "source": [
    "# table.optimize().where(\"category = 'Fruits'\").executeCompaction()"
   ]
  },
  {
   "cell_type": "code",
   "execution_count": 0,
   "metadata": {
    "application/vnd.databricks.v1+cell": {
     "cellMetadata": {
      "byteLimit": 2048000,
      "implicitDf": true,
      "rowLimit": 10000
     },
     "inputWidgets": {},
     "nuid": "02971eb2-debd-4f7d-9b51-ec8a1a082ee8",
     "showTitle": false,
     "tableResultSettingsMap": {},
     "title": ""
    }
   },
   "outputs": [],
   "source": [
    "%sql\n",
    "OPTIMIZE deltacatalog.deltadb.optimize_ex1\n",
    "WHERE category = 'Fruits';"
   ]
  },
  {
   "cell_type": "code",
   "execution_count": 0,
   "metadata": {
    "application/vnd.databricks.v1+cell": {
     "cellMetadata": {
      "byteLimit": 2048000,
      "implicitDf": true,
      "rowLimit": 10000
     },
     "inputWidgets": {},
     "nuid": "1e3bdb1c-05ce-42be-8adb-c05382887e95",
     "showTitle": false,
     "tableResultSettingsMap": {},
     "title": ""
    }
   },
   "outputs": [
    {
     "output_type": "display_data",
     "data": {
      "text/html": [
       "<style scoped>\n",
       "  .table-result-container {\n",
       "    max-height: 300px;\n",
       "    overflow: auto;\n",
       "  }\n",
       "  table, th, td {\n",
       "    border: 1px solid black;\n",
       "    border-collapse: collapse;\n",
       "  }\n",
       "  th, td {\n",
       "    padding: 5px;\n",
       "  }\n",
       "  th {\n",
       "    text-align: left;\n",
       "  }\n",
       "</style><div class='table-result-container'><table class='table-result'><thead style='background-color: white'><tr><th>path</th></tr></thead><tbody><tr><td>abfss://metastore@dbdeltalabstorageacct.dfs.core.windows.net/9f512693-87be-436d-8e5b-ff08b7b4f77f/tables/27dc5d5f-ae60-4375-ad5a-658a6ced2696</td></tr></tbody></table></div>"
      ]
     },
     "metadata": {
      "application/vnd.databricks.v1+output": {
       "addedWidgets": {},
       "aggData": [],
       "aggError": "",
       "aggOverflow": false,
       "aggSchema": [],
       "aggSeriesLimitReached": false,
       "aggType": "",
       "arguments": {},
       "columnCustomDisplayInfos": {},
       "data": [
        [
         "abfss://metastore@dbdeltalabstorageacct.dfs.core.windows.net/9f512693-87be-436d-8e5b-ff08b7b4f77f/tables/27dc5d5f-ae60-4375-ad5a-658a6ced2696"
        ]
       ],
       "datasetInfos": [],
       "dbfsResultPath": null,
       "isJsonSchema": true,
       "metadata": {
        "createTempViewForImplicitDf": true,
        "dataframeName": "_sqldf",
        "executionCount": 10
       },
       "overflow": false,
       "plotOptions": {
        "customPlotOptions": {},
        "displayType": "table",
        "pivotAggregation": null,
        "pivotColumns": null,
        "xColumns": null,
        "yColumns": null
       },
       "removedWidgets": [],
       "schema": [
        {
         "metadata": "{}",
         "name": "path",
         "type": "\"string\""
        }
       ],
       "type": "table"
      }
     },
     "output_type": "display_data"
    }
   ],
   "source": [
    "%sql\n",
    "VACUUM deltacatalog.deltadb.optimize_ex1 RETAIN 0 HOURS;"
   ]
  },
  {
   "cell_type": "markdown",
   "metadata": {
    "application/vnd.databricks.v1+cell": {
     "cellMetadata": {},
     "inputWidgets": {},
     "nuid": "6c330883-a4b1-4ea3-9400-82c1fb8abbba",
     "showTitle": false,
     "tableResultSettingsMap": {},
     "title": ""
    }
   },
   "source": [
    "#### Optimized Write"
   ]
  },
  {
   "cell_type": "code",
   "execution_count": 0,
   "metadata": {
    "application/vnd.databricks.v1+cell": {
     "cellMetadata": {
      "byteLimit": 2048000,
      "rowLimit": 10000
     },
     "inputWidgets": {},
     "nuid": "77b06598-cb63-4dea-a033-6bed4e5f87e7",
     "showTitle": false,
     "tableResultSettingsMap": {},
     "title": ""
    }
   },
   "outputs": [],
   "source": [
    "df.repartition(288).write.mode(\"overwrite\").partitionBy(\"category\").saveAsTable(\"deltacatalog.deltadb.optimize_ex2\")"
   ]
  },
  {
   "cell_type": "code",
   "execution_count": 0,
   "metadata": {
    "application/vnd.databricks.v1+cell": {
     "cellMetadata": {
      "byteLimit": 2048000,
      "rowLimit": 10000
     },
     "inputWidgets": {},
     "nuid": "ca42ec41-fc11-442f-87d2-ddc42d764273",
     "showTitle": false,
     "tableResultSettingsMap": {},
     "title": ""
    }
   },
   "outputs": [
    {
     "output_type": "stream",
     "name": "stdout",
     "output_type": "stream",
     "text": [
      "CPU times: user 199 ms, sys: 23.6 ms, total: 223 ms\nWall time: 6.97 s\n"
     ]
    }
   ],
   "source": [
    "%%time\n",
    "df_ex2 = spark.read.table(\"deltacatalog.deltadb.optimize_ex2\")\n",
    "df_out = df_ex2.where(df_ex2.category == \"Clothing\").collect()"
   ]
  },
  {
   "cell_type": "code",
   "execution_count": 0,
   "metadata": {
    "application/vnd.databricks.v1+cell": {
     "cellMetadata": {
      "byteLimit": 2048000,
      "rowLimit": 10000
     },
     "inputWidgets": {},
     "nuid": "3f7bf4e8-a9cb-4a0d-8c3d-1dc3f9609248",
     "showTitle": false,
     "tableResultSettingsMap": {},
     "title": ""
    }
   },
   "outputs": [],
   "source": [
    "df.repartition(288).write.mode(\"overwrite\").partitionBy(\"category\").option(\"optimizeWrite\", \"True\").saveAsTable(\"deltacatalog.deltadb.optimize_ex3\")"
   ]
  },
  {
   "cell_type": "code",
   "execution_count": 0,
   "metadata": {
    "application/vnd.databricks.v1+cell": {
     "cellMetadata": {
      "byteLimit": 2048000,
      "rowLimit": 10000
     },
     "inputWidgets": {},
     "nuid": "3414c4c1-e998-4b52-80a1-d3eb2ebdae26",
     "showTitle": false,
     "tableResultSettingsMap": {},
     "title": ""
    }
   },
   "outputs": [
    {
     "output_type": "stream",
     "name": "stdout",
     "output_type": "stream",
     "text": [
      "CPU times: user 162 ms, sys: 22.9 ms, total: 185 ms\nWall time: 1.82 s\n"
     ]
    }
   ],
   "source": [
    "%%time\n",
    "df_ex3 = spark.read.table(\"deltacatalog.deltadb.optimize_ex3\")\n",
    "df_out = df_ex3.where(df_ex3.category == \"Clothing\").collect()"
   ]
  },
  {
   "cell_type": "markdown",
   "metadata": {
    "application/vnd.databricks.v1+cell": {
     "cellMetadata": {},
     "inputWidgets": {},
     "nuid": "b9f499c5-30c1-460d-879b-0e070f2d6ef7",
     "showTitle": false,
     "tableResultSettingsMap": {},
     "title": ""
    }
   },
   "source": [
    "#### Auto Compaction"
   ]
  },
  {
   "cell_type": "code",
   "execution_count": 0,
   "metadata": {
    "application/vnd.databricks.v1+cell": {
     "cellMetadata": {
      "byteLimit": 2048000,
      "implicitDf": true,
      "rowLimit": 10000
     },
     "inputWidgets": {},
     "nuid": "317256b1-7fb2-4c84-8594-f73f0c38d17b",
     "showTitle": false,
     "tableResultSettingsMap": {},
     "title": ""
    }
   },
   "outputs": [
    {
     "output_type": "display_data",
     "data": {
      "text/html": [
       "<style scoped>\n",
       "  .table-result-container {\n",
       "    max-height: 300px;\n",
       "    overflow: auto;\n",
       "  }\n",
       "  table, th, td {\n",
       "    border: 1px solid black;\n",
       "    border-collapse: collapse;\n",
       "  }\n",
       "  th, td {\n",
       "    padding: 5px;\n",
       "  }\n",
       "  th {\n",
       "    text-align: left;\n",
       "  }\n",
       "</style><div class='table-result-container'><table class='table-result'><thead style='background-color: white'><tr></tr></thead><tbody></tbody></table></div>"
      ]
     },
     "metadata": {
      "application/vnd.databricks.v1+output": {
       "addedWidgets": {},
       "aggData": [],
       "aggError": "",
       "aggOverflow": false,
       "aggSchema": [],
       "aggSeriesLimitReached": false,
       "aggType": "",
       "arguments": {},
       "columnCustomDisplayInfos": {},
       "data": [],
       "datasetInfos": [],
       "dbfsResultPath": null,
       "isJsonSchema": true,
       "metadata": {
        "dataframeName": null
       },
       "overflow": false,
       "plotOptions": {
        "customPlotOptions": {},
        "displayType": "table",
        "pivotAggregation": null,
        "pivotColumns": null,
        "xColumns": null,
        "yColumns": null
       },
       "removedWidgets": [],
       "schema": [],
       "type": "table"
      }
     },
     "output_type": "display_data"
    }
   ],
   "source": [
    "%sql \n",
    "ALTER TABLE deltacatalog.deltadb.optimize_ex3 SET TBLPROPERTIES ('delta.autoOptimize.optimizeWrite' = 'false');\n",
    "ALTER TABLE deltacatalog.deltadb.optimize_ex3 SET TBLPROPERTIES ('delta.autoOptimize.autoCompact' = 'true');"
   ]
  },
  {
   "cell_type": "code",
   "execution_count": 0,
   "metadata": {
    "application/vnd.databricks.v1+cell": {
     "cellMetadata": {
      "byteLimit": 2048000,
      "rowLimit": 10000
     },
     "inputWidgets": {},
     "nuid": "6e834905-3c57-424e-8ac0-690e6113f250",
     "showTitle": false,
     "tableResultSettingsMap": {},
     "title": ""
    }
   },
   "outputs": [
    {
     "output_type": "execute_result",
     "data": {
      "text/plain": [
       "'3'"
      ]
     },
     "execution_count": 20,
     "metadata": {},
     "output_type": "execute_result"
    }
   ],
   "source": [
    "spark.conf.get(\"spark.databricks.delta.autoCompact.minNumFiles\")\n",
    "# spark.conf.set(\"spark.databricks.delta.autoCompact.minNumFiles\", \"3\")"
   ]
  },
  {
   "cell_type": "code",
   "execution_count": 0,
   "metadata": {
    "application/vnd.databricks.v1+cell": {
     "cellMetadata": {
      "byteLimit": 2048000,
      "rowLimit": 10000
     },
     "inputWidgets": {},
     "nuid": "91485493-a765-4dbe-b30d-928b2f3a78c7",
     "showTitle": false,
     "tableResultSettingsMap": {},
     "title": ""
    }
   },
   "outputs": [],
   "source": [
    "df_detergents = df.filter(df.category == \"Clothing\").withColumn(\"category\", F.lit(\"Detergents\"))"
   ]
  },
  {
   "cell_type": "code",
   "execution_count": 0,
   "metadata": {
    "application/vnd.databricks.v1+cell": {
     "cellMetadata": {
      "byteLimit": 2048000,
      "rowLimit": 10000
     },
     "inputWidgets": {},
     "nuid": "bc1aa9be-8b00-4ec8-a6e5-e985e25c1ece",
     "showTitle": false,
     "tableResultSettingsMap": {},
     "title": ""
    }
   },
   "outputs": [],
   "source": [
    "df_detergents.repartition(5).write.mode(\"overwrite\").partitionBy(\"category\").saveAsTable(\"deltacatalog.deltadb.optimize_ex3\")"
   ]
  },
  {
   "cell_type": "markdown",
   "metadata": {
    "application/vnd.databricks.v1+cell": {
     "cellMetadata": {},
     "inputWidgets": {},
     "nuid": "b9d213b6-21a4-493b-8527-a4f8eb21a442",
     "showTitle": false,
     "tableResultSettingsMap": {},
     "title": ""
    }
   },
   "source": [
    "#### VACUUM \n",
    "(How it limits ability to time travel)"
   ]
  },
  {
   "cell_type": "code",
   "execution_count": 0,
   "metadata": {
    "application/vnd.databricks.v1+cell": {
     "cellMetadata": {
      "byteLimit": 2048000,
      "rowLimit": 10000
     },
     "inputWidgets": {},
     "nuid": "74812bee-c3ed-4f71-bb86-27dff7912e22",
     "showTitle": false,
     "tableResultSettingsMap": {},
     "title": ""
    }
   },
   "outputs": [],
   "source": [
    "df_101_150 = (\n",
    "    spark.read.parquet(\"abfss://labdata@dbdeltalabstorageacct.dfs.core.windows.net/invoices/invoices_101_200.parquet\")\n",
    "    .filter(F.col(\"customer_id\").between(101, 150))\n",
    ")\n",
    "\n",
    "df_151_200 = (\n",
    "    spark.read.parquet(\"abfss://labdata@dbdeltalabstorageacct.dfs.core.windows.net/invoices/invoices_101_200.parquet\")\n",
    "    .filter(F.col(\"customer_id\").between(151, 200))\n",
    ")"
   ]
  },
  {
   "cell_type": "code",
   "execution_count": 0,
   "metadata": {
    "application/vnd.databricks.v1+cell": {
     "cellMetadata": {
      "byteLimit": 2048000,
      "rowLimit": 10000
     },
     "inputWidgets": {},
     "nuid": "025f66ba-7a5e-4e2f-88a8-d02e78b8e3cd",
     "showTitle": false,
     "tableResultSettingsMap": {},
     "title": ""
    }
   },
   "outputs": [],
   "source": [
    "df_101_150.write.mode(\"overwrite\").saveAsTable(\"deltacatalog.deltadb.vacuum_ex1\")"
   ]
  },
  {
   "cell_type": "code",
   "execution_count": 0,
   "metadata": {
    "application/vnd.databricks.v1+cell": {
     "cellMetadata": {
      "byteLimit": 2048000,
      "implicitDf": true,
      "rowLimit": 10000
     },
     "inputWidgets": {},
     "nuid": "68e6d2c1-dd57-444d-978d-cfca7d456cd9",
     "showTitle": false,
     "tableResultSettingsMap": {},
     "title": ""
    }
   },
   "outputs": [
    {
     "output_type": "display_data",
     "data": {
      "text/html": [
       "<style scoped>\n",
       "  .table-result-container {\n",
       "    max-height: 300px;\n",
       "    overflow: auto;\n",
       "  }\n",
       "  table, th, td {\n",
       "    border: 1px solid black;\n",
       "    border-collapse: collapse;\n",
       "  }\n",
       "  th, td {\n",
       "    padding: 5px;\n",
       "  }\n",
       "  th {\n",
       "    text-align: left;\n",
       "  }\n",
       "</style><div class='table-result-container'><table class='table-result'><thead style='background-color: white'><tr><th>version</th><th>timestamp</th><th>userId</th><th>userName</th><th>operation</th><th>operationParameters</th><th>job</th><th>notebook</th><th>clusterId</th><th>readVersion</th><th>isolationLevel</th><th>isBlindAppend</th><th>operationMetrics</th><th>userMetadata</th><th>engineInfo</th></tr></thead><tbody><tr><td>0</td><td>2025-05-03T14:21:24Z</td><td>2095506903161383</td><td>linkedafaque_gmail.com#ext#@linkedafaquegmail.onmicrosoft.com</td><td>CREATE OR REPLACE TABLE AS SELECT</td><td>Map(partitionBy -> [], clusterBy -> [], description -> null, isManaged -> true, properties -> {\"delta.enableDeletionVectors\":\"true\"}, statsOnLoad -> false)</td><td>null</td><td>List(663055675511912)</td><td>0503-103113-z182bj2u</td><td>null</td><td>WriteSerializable</td><td>false</td><td>Map(numFiles -> 1, numOutputRows -> 50, numOutputBytes -> 4854)</td><td>null</td><td>Databricks-Runtime/15.4.x-scala2.12</td></tr></tbody></table></div>"
      ]
     },
     "metadata": {
      "application/vnd.databricks.v1+output": {
       "addedWidgets": {},
       "aggData": [],
       "aggError": "",
       "aggOverflow": false,
       "aggSchema": [],
       "aggSeriesLimitReached": false,
       "aggType": "",
       "arguments": {},
       "columnCustomDisplayInfos": {},
       "data": [
        [
         0,
         "2025-05-03T14:21:24Z",
         "2095506903161383",
         "linkedafaque_gmail.com#ext#@linkedafaquegmail.onmicrosoft.com",
         "CREATE OR REPLACE TABLE AS SELECT",
         {
          "clusterBy": "[]",
          "description": null,
          "isManaged": "true",
          "partitionBy": "[]",
          "properties": "{\"delta.enableDeletionVectors\":\"true\"}",
          "statsOnLoad": "false"
         },
         null,
         [
          "663055675511912"
         ],
         "0503-103113-z182bj2u",
         null,
         "WriteSerializable",
         false,
         {
          "numFiles": "1",
          "numOutputBytes": "4854",
          "numOutputRows": "50"
         },
         null,
         "Databricks-Runtime/15.4.x-scala2.12"
        ]
       ],
       "datasetInfos": [],
       "dbfsResultPath": null,
       "isJsonSchema": true,
       "metadata": {
        "createTempViewForImplicitDf": true,
        "dataframeName": "_sqldf",
        "executionCount": 20
       },
       "overflow": false,
       "plotOptions": {
        "customPlotOptions": {},
        "displayType": "table",
        "pivotAggregation": null,
        "pivotColumns": null,
        "xColumns": null,
        "yColumns": null
       },
       "removedWidgets": [],
       "schema": [
        {
         "metadata": "{}",
         "name": "version",
         "type": "\"long\""
        },
        {
         "metadata": "{}",
         "name": "timestamp",
         "type": "\"timestamp\""
        },
        {
         "metadata": "{}",
         "name": "userId",
         "type": "\"string\""
        },
        {
         "metadata": "{}",
         "name": "userName",
         "type": "\"string\""
        },
        {
         "metadata": "{}",
         "name": "operation",
         "type": "\"string\""
        },
        {
         "metadata": "{}",
         "name": "operationParameters",
         "type": "{\"type\":\"map\",\"keyType\":\"string\",\"valueType\":\"string\",\"valueContainsNull\":true}"
        },
        {
         "metadata": "{}",
         "name": "job",
         "type": "{\"type\":\"struct\",\"fields\":[{\"name\":\"jobId\",\"type\":\"string\",\"nullable\":true,\"metadata\":{}},{\"name\":\"jobName\",\"type\":\"string\",\"nullable\":true,\"metadata\":{}},{\"name\":\"jobRunId\",\"type\":\"string\",\"nullable\":true,\"metadata\":{}},{\"name\":\"runId\",\"type\":\"string\",\"nullable\":true,\"metadata\":{}},{\"name\":\"jobOwnerId\",\"type\":\"string\",\"nullable\":true,\"metadata\":{}},{\"name\":\"triggerType\",\"type\":\"string\",\"nullable\":true,\"metadata\":{}}]}"
        },
        {
         "metadata": "{}",
         "name": "notebook",
         "type": "{\"type\":\"struct\",\"fields\":[{\"name\":\"notebookId\",\"type\":\"string\",\"nullable\":true,\"metadata\":{}}]}"
        },
        {
         "metadata": "{}",
         "name": "clusterId",
         "type": "\"string\""
        },
        {
         "metadata": "{}",
         "name": "readVersion",
         "type": "\"long\""
        },
        {
         "metadata": "{}",
         "name": "isolationLevel",
         "type": "\"string\""
        },
        {
         "metadata": "{}",
         "name": "isBlindAppend",
         "type": "\"boolean\""
        },
        {
         "metadata": "{}",
         "name": "operationMetrics",
         "type": "{\"type\":\"map\",\"keyType\":\"string\",\"valueType\":\"string\",\"valueContainsNull\":true}"
        },
        {
         "metadata": "{}",
         "name": "userMetadata",
         "type": "\"string\""
        },
        {
         "metadata": "{}",
         "name": "engineInfo",
         "type": "\"string\""
        }
       ],
       "type": "table"
      }
     },
     "output_type": "display_data"
    }
   ],
   "source": [
    "%sql\n",
    "DESCRIBE HISTORY deltacatalog.deltadb.vacuum_ex1;"
   ]
  },
  {
   "cell_type": "code",
   "execution_count": 0,
   "metadata": {
    "application/vnd.databricks.v1+cell": {
     "cellMetadata": {
      "byteLimit": 2048000,
      "rowLimit": 10000
     },
     "inputWidgets": {},
     "nuid": "3d4aff6c-3506-4afc-8210-c1d21b0ad6e8",
     "showTitle": false,
     "tableResultSettingsMap": {},
     "title": ""
    }
   },
   "outputs": [],
   "source": [
    "df_151_200.write.mode(\"append\").saveAsTable(\"deltacatalog.deltadb.vacuum_ex1\")"
   ]
  },
  {
   "cell_type": "code",
   "execution_count": 0,
   "metadata": {
    "application/vnd.databricks.v1+cell": {
     "cellMetadata": {
      "byteLimit": 2048000,
      "implicitDf": true,
      "rowLimit": 10000
     },
     "inputWidgets": {},
     "nuid": "d7ab1005-6c12-4414-806f-55e5203c4aa9",
     "showTitle": false,
     "tableResultSettingsMap": {},
     "title": ""
    }
   },
   "outputs": [
    {
     "output_type": "display_data",
     "data": {
      "text/html": [
       "<style scoped>\n",
       "  .table-result-container {\n",
       "    max-height: 300px;\n",
       "    overflow: auto;\n",
       "  }\n",
       "  table, th, td {\n",
       "    border: 1px solid black;\n",
       "    border-collapse: collapse;\n",
       "  }\n",
       "  th, td {\n",
       "    padding: 5px;\n",
       "  }\n",
       "  th {\n",
       "    text-align: left;\n",
       "  }\n",
       "</style><div class='table-result-container'><table class='table-result'><thead style='background-color: white'><tr><th>version</th><th>timestamp</th><th>userId</th><th>userName</th><th>operation</th><th>operationParameters</th><th>job</th><th>notebook</th><th>clusterId</th><th>readVersion</th><th>isolationLevel</th><th>isBlindAppend</th><th>operationMetrics</th><th>userMetadata</th><th>engineInfo</th></tr></thead><tbody><tr><td>1</td><td>2025-05-03T14:22:06Z</td><td>2095506903161383</td><td>linkedafaque_gmail.com#ext#@linkedafaquegmail.onmicrosoft.com</td><td>WRITE</td><td>Map(mode -> Append, statsOnLoad -> false, partitionBy -> [])</td><td>null</td><td>List(663055675511912)</td><td>0503-103113-z182bj2u</td><td>0</td><td>WriteSerializable</td><td>true</td><td>Map(numFiles -> 1, numOutputRows -> 50, numOutputBytes -> 4902)</td><td>null</td><td>Databricks-Runtime/15.4.x-scala2.12</td></tr><tr><td>0</td><td>2025-05-03T14:21:24Z</td><td>2095506903161383</td><td>linkedafaque_gmail.com#ext#@linkedafaquegmail.onmicrosoft.com</td><td>CREATE OR REPLACE TABLE AS SELECT</td><td>Map(partitionBy -> [], clusterBy -> [], description -> null, isManaged -> true, properties -> {\"delta.enableDeletionVectors\":\"true\"}, statsOnLoad -> false)</td><td>null</td><td>List(663055675511912)</td><td>0503-103113-z182bj2u</td><td>null</td><td>WriteSerializable</td><td>false</td><td>Map(numFiles -> 1, numOutputRows -> 50, numOutputBytes -> 4854)</td><td>null</td><td>Databricks-Runtime/15.4.x-scala2.12</td></tr></tbody></table></div>"
      ]
     },
     "metadata": {
      "application/vnd.databricks.v1+output": {
       "addedWidgets": {},
       "aggData": [],
       "aggError": "",
       "aggOverflow": false,
       "aggSchema": [],
       "aggSeriesLimitReached": false,
       "aggType": "",
       "arguments": {},
       "columnCustomDisplayInfos": {},
       "data": [
        [
         1,
         "2025-05-03T14:22:06Z",
         "2095506903161383",
         "linkedafaque_gmail.com#ext#@linkedafaquegmail.onmicrosoft.com",
         "WRITE",
         {
          "mode": "Append",
          "partitionBy": "[]",
          "statsOnLoad": "false"
         },
         null,
         [
          "663055675511912"
         ],
         "0503-103113-z182bj2u",
         0,
         "WriteSerializable",
         true,
         {
          "numFiles": "1",
          "numOutputBytes": "4902",
          "numOutputRows": "50"
         },
         null,
         "Databricks-Runtime/15.4.x-scala2.12"
        ],
        [
         0,
         "2025-05-03T14:21:24Z",
         "2095506903161383",
         "linkedafaque_gmail.com#ext#@linkedafaquegmail.onmicrosoft.com",
         "CREATE OR REPLACE TABLE AS SELECT",
         {
          "clusterBy": "[]",
          "description": null,
          "isManaged": "true",
          "partitionBy": "[]",
          "properties": "{\"delta.enableDeletionVectors\":\"true\"}",
          "statsOnLoad": "false"
         },
         null,
         [
          "663055675511912"
         ],
         "0503-103113-z182bj2u",
         null,
         "WriteSerializable",
         false,
         {
          "numFiles": "1",
          "numOutputBytes": "4854",
          "numOutputRows": "50"
         },
         null,
         "Databricks-Runtime/15.4.x-scala2.12"
        ]
       ],
       "datasetInfos": [],
       "dbfsResultPath": null,
       "isJsonSchema": true,
       "metadata": {
        "createTempViewForImplicitDf": true,
        "dataframeName": "_sqldf",
        "executionCount": 22
       },
       "overflow": false,
       "plotOptions": {
        "customPlotOptions": {},
        "displayType": "table",
        "pivotAggregation": null,
        "pivotColumns": null,
        "xColumns": null,
        "yColumns": null
       },
       "removedWidgets": [],
       "schema": [
        {
         "metadata": "{}",
         "name": "version",
         "type": "\"long\""
        },
        {
         "metadata": "{}",
         "name": "timestamp",
         "type": "\"timestamp\""
        },
        {
         "metadata": "{}",
         "name": "userId",
         "type": "\"string\""
        },
        {
         "metadata": "{}",
         "name": "userName",
         "type": "\"string\""
        },
        {
         "metadata": "{}",
         "name": "operation",
         "type": "\"string\""
        },
        {
         "metadata": "{}",
         "name": "operationParameters",
         "type": "{\"type\":\"map\",\"keyType\":\"string\",\"valueType\":\"string\",\"valueContainsNull\":true}"
        },
        {
         "metadata": "{}",
         "name": "job",
         "type": "{\"type\":\"struct\",\"fields\":[{\"name\":\"jobId\",\"type\":\"string\",\"nullable\":true,\"metadata\":{}},{\"name\":\"jobName\",\"type\":\"string\",\"nullable\":true,\"metadata\":{}},{\"name\":\"jobRunId\",\"type\":\"string\",\"nullable\":true,\"metadata\":{}},{\"name\":\"runId\",\"type\":\"string\",\"nullable\":true,\"metadata\":{}},{\"name\":\"jobOwnerId\",\"type\":\"string\",\"nullable\":true,\"metadata\":{}},{\"name\":\"triggerType\",\"type\":\"string\",\"nullable\":true,\"metadata\":{}}]}"
        },
        {
         "metadata": "{}",
         "name": "notebook",
         "type": "{\"type\":\"struct\",\"fields\":[{\"name\":\"notebookId\",\"type\":\"string\",\"nullable\":true,\"metadata\":{}}]}"
        },
        {
         "metadata": "{}",
         "name": "clusterId",
         "type": "\"string\""
        },
        {
         "metadata": "{}",
         "name": "readVersion",
         "type": "\"long\""
        },
        {
         "metadata": "{}",
         "name": "isolationLevel",
         "type": "\"string\""
        },
        {
         "metadata": "{}",
         "name": "isBlindAppend",
         "type": "\"boolean\""
        },
        {
         "metadata": "{}",
         "name": "operationMetrics",
         "type": "{\"type\":\"map\",\"keyType\":\"string\",\"valueType\":\"string\",\"valueContainsNull\":true}"
        },
        {
         "metadata": "{}",
         "name": "userMetadata",
         "type": "\"string\""
        },
        {
         "metadata": "{}",
         "name": "engineInfo",
         "type": "\"string\""
        }
       ],
       "type": "table"
      }
     },
     "output_type": "display_data"
    }
   ],
   "source": [
    "%sql\n",
    "DESCRIBE HISTORY deltacatalog.deltadb.vacuum_ex1;"
   ]
  },
  {
   "cell_type": "code",
   "execution_count": 0,
   "metadata": {
    "application/vnd.databricks.v1+cell": {
     "cellMetadata": {
      "byteLimit": 2048000,
      "implicitDf": true,
      "rowLimit": 10000
     },
     "inputWidgets": {},
     "nuid": "d5bd0bd7-d9a0-4890-94c3-7119535504e2",
     "showTitle": false,
     "tableResultSettingsMap": {},
     "title": ""
    }
   },
   "outputs": [
    {
     "output_type": "display_data",
     "data": {
      "text/html": [
       "<style scoped>\n",
       "  .table-result-container {\n",
       "    max-height: 300px;\n",
       "    overflow: auto;\n",
       "  }\n",
       "  table, th, td {\n",
       "    border: 1px solid black;\n",
       "    border-collapse: collapse;\n",
       "  }\n",
       "  th, td {\n",
       "    padding: 5px;\n",
       "  }\n",
       "  th {\n",
       "    text-align: left;\n",
       "  }\n",
       "</style><div class='table-result-container'><table class='table-result'><thead style='background-color: white'><tr><th>num_affected_rows</th></tr></thead><tbody><tr><td>50</td></tr></tbody></table></div>"
      ]
     },
     "metadata": {
      "application/vnd.databricks.v1+output": {
       "addedWidgets": {},
       "aggData": [],
       "aggError": "",
       "aggOverflow": false,
       "aggSchema": [],
       "aggSeriesLimitReached": false,
       "aggType": "",
       "arguments": {},
       "columnCustomDisplayInfos": {},
       "data": [
        [
         50
        ]
       ],
       "datasetInfos": [],
       "dbfsResultPath": null,
       "isJsonSchema": true,
       "metadata": {
        "createTempViewForImplicitDf": true,
        "dataframeName": "_sqldf",
        "executionCount": 23
       },
       "overflow": false,
       "plotOptions": {
        "customPlotOptions": {},
        "displayType": "table",
        "pivotAggregation": null,
        "pivotColumns": null,
        "xColumns": null,
        "yColumns": null
       },
       "removedWidgets": [],
       "schema": [
        {
         "metadata": "{}",
         "name": "num_affected_rows",
         "type": "\"long\""
        }
       ],
       "type": "table"
      }
     },
     "output_type": "display_data"
    }
   ],
   "source": [
    "%sql\n",
    "DELETE FROM deltacatalog.deltadb.vacuum_ex1 WHERE customer_id BETWEEN 151 AND 200; "
   ]
  },
  {
   "cell_type": "code",
   "execution_count": 0,
   "metadata": {
    "application/vnd.databricks.v1+cell": {
     "cellMetadata": {
      "byteLimit": 2048000,
      "implicitDf": true,
      "rowLimit": 10000
     },
     "inputWidgets": {},
     "nuid": "e8b12c3c-a036-4890-b0da-0216b45e217b",
     "showTitle": false,
     "tableResultSettingsMap": {},
     "title": ""
    }
   },
   "outputs": [
    {
     "output_type": "display_data",
     "data": {
      "text/html": [
       "<style scoped>\n",
       "  .table-result-container {\n",
       "    max-height: 300px;\n",
       "    overflow: auto;\n",
       "  }\n",
       "  table, th, td {\n",
       "    border: 1px solid black;\n",
       "    border-collapse: collapse;\n",
       "  }\n",
       "  th, td {\n",
       "    padding: 5px;\n",
       "  }\n",
       "  th {\n",
       "    text-align: left;\n",
       "  }\n",
       "</style><div class='table-result-container'><table class='table-result'><thead style='background-color: white'><tr><th>version</th><th>timestamp</th><th>userId</th><th>userName</th><th>operation</th><th>operationParameters</th><th>job</th><th>notebook</th><th>clusterId</th><th>readVersion</th><th>isolationLevel</th><th>isBlindAppend</th><th>operationMetrics</th><th>userMetadata</th><th>engineInfo</th></tr></thead><tbody><tr><td>2</td><td>2025-05-03T14:23:47Z</td><td>2095506903161383</td><td>linkedafaque_gmail.com#ext#@linkedafaquegmail.onmicrosoft.com</td><td>DELETE</td><td>Map(predicate -> [\"((customer_id#8510 >= 151) AND (customer_id#8510 <= 200))\"])</td><td>null</td><td>List(663055675511912)</td><td>0503-103113-z182bj2u</td><td>1</td><td>WriteSerializable</td><td>false</td><td>Map(numRemovedFiles -> 1, numRemovedBytes -> 4902, numCopiedRows -> 0, numDeletionVectorsAdded -> 0, numDeletionVectorsRemoved -> 0, numAddedChangeFiles -> 0, executionTimeMs -> 1389, numDeletionVectorsUpdated -> 0, numDeletedRows -> 50, scanTimeMs -> 1195, numAddedFiles -> 0, numAddedBytes -> 0, rewriteTimeMs -> 191)</td><td>null</td><td>Databricks-Runtime/15.4.x-scala2.12</td></tr><tr><td>1</td><td>2025-05-03T14:22:06Z</td><td>2095506903161383</td><td>linkedafaque_gmail.com#ext#@linkedafaquegmail.onmicrosoft.com</td><td>WRITE</td><td>Map(mode -> Append, statsOnLoad -> false, partitionBy -> [])</td><td>null</td><td>List(663055675511912)</td><td>0503-103113-z182bj2u</td><td>0</td><td>WriteSerializable</td><td>true</td><td>Map(numFiles -> 1, numOutputRows -> 50, numOutputBytes -> 4902)</td><td>null</td><td>Databricks-Runtime/15.4.x-scala2.12</td></tr><tr><td>0</td><td>2025-05-03T14:21:24Z</td><td>2095506903161383</td><td>linkedafaque_gmail.com#ext#@linkedafaquegmail.onmicrosoft.com</td><td>CREATE OR REPLACE TABLE AS SELECT</td><td>Map(partitionBy -> [], clusterBy -> [], description -> null, isManaged -> true, properties -> {\"delta.enableDeletionVectors\":\"true\"}, statsOnLoad -> false)</td><td>null</td><td>List(663055675511912)</td><td>0503-103113-z182bj2u</td><td>null</td><td>WriteSerializable</td><td>false</td><td>Map(numFiles -> 1, numOutputRows -> 50, numOutputBytes -> 4854)</td><td>null</td><td>Databricks-Runtime/15.4.x-scala2.12</td></tr></tbody></table></div>"
      ]
     },
     "metadata": {
      "application/vnd.databricks.v1+output": {
       "addedWidgets": {},
       "aggData": [],
       "aggError": "",
       "aggOverflow": false,
       "aggSchema": [],
       "aggSeriesLimitReached": false,
       "aggType": "",
       "arguments": {},
       "columnCustomDisplayInfos": {},
       "data": [
        [
         2,
         "2025-05-03T14:23:47Z",
         "2095506903161383",
         "linkedafaque_gmail.com#ext#@linkedafaquegmail.onmicrosoft.com",
         "DELETE",
         {
          "predicate": "[\"((customer_id#8510 >= 151) AND (customer_id#8510 <= 200))\"]"
         },
         null,
         [
          "663055675511912"
         ],
         "0503-103113-z182bj2u",
         1,
         "WriteSerializable",
         false,
         {
          "executionTimeMs": "1389",
          "numAddedBytes": "0",
          "numAddedChangeFiles": "0",
          "numAddedFiles": "0",
          "numCopiedRows": "0",
          "numDeletedRows": "50",
          "numDeletionVectorsAdded": "0",
          "numDeletionVectorsRemoved": "0",
          "numDeletionVectorsUpdated": "0",
          "numRemovedBytes": "4902",
          "numRemovedFiles": "1",
          "rewriteTimeMs": "191",
          "scanTimeMs": "1195"
         },
         null,
         "Databricks-Runtime/15.4.x-scala2.12"
        ],
        [
         1,
         "2025-05-03T14:22:06Z",
         "2095506903161383",
         "linkedafaque_gmail.com#ext#@linkedafaquegmail.onmicrosoft.com",
         "WRITE",
         {
          "mode": "Append",
          "partitionBy": "[]",
          "statsOnLoad": "false"
         },
         null,
         [
          "663055675511912"
         ],
         "0503-103113-z182bj2u",
         0,
         "WriteSerializable",
         true,
         {
          "numFiles": "1",
          "numOutputBytes": "4902",
          "numOutputRows": "50"
         },
         null,
         "Databricks-Runtime/15.4.x-scala2.12"
        ],
        [
         0,
         "2025-05-03T14:21:24Z",
         "2095506903161383",
         "linkedafaque_gmail.com#ext#@linkedafaquegmail.onmicrosoft.com",
         "CREATE OR REPLACE TABLE AS SELECT",
         {
          "clusterBy": "[]",
          "description": null,
          "isManaged": "true",
          "partitionBy": "[]",
          "properties": "{\"delta.enableDeletionVectors\":\"true\"}",
          "statsOnLoad": "false"
         },
         null,
         [
          "663055675511912"
         ],
         "0503-103113-z182bj2u",
         null,
         "WriteSerializable",
         false,
         {
          "numFiles": "1",
          "numOutputBytes": "4854",
          "numOutputRows": "50"
         },
         null,
         "Databricks-Runtime/15.4.x-scala2.12"
        ]
       ],
       "datasetInfos": [],
       "dbfsResultPath": null,
       "isJsonSchema": true,
       "metadata": {
        "createTempViewForImplicitDf": true,
        "dataframeName": "_sqldf",
        "executionCount": 24
       },
       "overflow": false,
       "plotOptions": {
        "customPlotOptions": {},
        "displayType": "table",
        "pivotAggregation": null,
        "pivotColumns": null,
        "xColumns": null,
        "yColumns": null
       },
       "removedWidgets": [],
       "schema": [
        {
         "metadata": "{}",
         "name": "version",
         "type": "\"long\""
        },
        {
         "metadata": "{}",
         "name": "timestamp",
         "type": "\"timestamp\""
        },
        {
         "metadata": "{}",
         "name": "userId",
         "type": "\"string\""
        },
        {
         "metadata": "{}",
         "name": "userName",
         "type": "\"string\""
        },
        {
         "metadata": "{}",
         "name": "operation",
         "type": "\"string\""
        },
        {
         "metadata": "{}",
         "name": "operationParameters",
         "type": "{\"type\":\"map\",\"keyType\":\"string\",\"valueType\":\"string\",\"valueContainsNull\":true}"
        },
        {
         "metadata": "{}",
         "name": "job",
         "type": "{\"type\":\"struct\",\"fields\":[{\"name\":\"jobId\",\"type\":\"string\",\"nullable\":true,\"metadata\":{}},{\"name\":\"jobName\",\"type\":\"string\",\"nullable\":true,\"metadata\":{}},{\"name\":\"jobRunId\",\"type\":\"string\",\"nullable\":true,\"metadata\":{}},{\"name\":\"runId\",\"type\":\"string\",\"nullable\":true,\"metadata\":{}},{\"name\":\"jobOwnerId\",\"type\":\"string\",\"nullable\":true,\"metadata\":{}},{\"name\":\"triggerType\",\"type\":\"string\",\"nullable\":true,\"metadata\":{}}]}"
        },
        {
         "metadata": "{}",
         "name": "notebook",
         "type": "{\"type\":\"struct\",\"fields\":[{\"name\":\"notebookId\",\"type\":\"string\",\"nullable\":true,\"metadata\":{}}]}"
        },
        {
         "metadata": "{}",
         "name": "clusterId",
         "type": "\"string\""
        },
        {
         "metadata": "{}",
         "name": "readVersion",
         "type": "\"long\""
        },
        {
         "metadata": "{}",
         "name": "isolationLevel",
         "type": "\"string\""
        },
        {
         "metadata": "{}",
         "name": "isBlindAppend",
         "type": "\"boolean\""
        },
        {
         "metadata": "{}",
         "name": "operationMetrics",
         "type": "{\"type\":\"map\",\"keyType\":\"string\",\"valueType\":\"string\",\"valueContainsNull\":true}"
        },
        {
         "metadata": "{}",
         "name": "userMetadata",
         "type": "\"string\""
        },
        {
         "metadata": "{}",
         "name": "engineInfo",
         "type": "\"string\""
        }
       ],
       "type": "table"
      }
     },
     "output_type": "display_data"
    }
   ],
   "source": [
    "%sql\n",
    "DESCRIBE HISTORY deltacatalog.deltadb.vacuum_ex1;"
   ]
  },
  {
   "cell_type": "code",
   "execution_count": 0,
   "metadata": {
    "application/vnd.databricks.v1+cell": {
     "cellMetadata": {
      "byteLimit": 2048000,
      "implicitDf": true,
      "rowLimit": 10000
     },
     "inputWidgets": {},
     "nuid": "39fbd140-1532-4acc-a565-c9dbb89ea84f",
     "showTitle": false,
     "tableResultSettingsMap": {},
     "title": ""
    }
   },
   "outputs": [
    {
     "output_type": "display_data",
     "data": {
      "text/html": [
       "<style scoped>\n",
       "  .table-result-container {\n",
       "    max-height: 300px;\n",
       "    overflow: auto;\n",
       "  }\n",
       "  table, th, td {\n",
       "    border: 1px solid black;\n",
       "    border-collapse: collapse;\n",
       "  }\n",
       "  th, td {\n",
       "    padding: 5px;\n",
       "  }\n",
       "  th {\n",
       "    text-align: left;\n",
       "  }\n",
       "</style><div class='table-result-container'><table class='table-result'><thead style='background-color: white'><tr><th>min(customer_id)</th><th>max(customer_id)</th></tr></thead><tbody><tr><td>101</td><td>150</td></tr></tbody></table></div>"
      ]
     },
     "metadata": {
      "application/vnd.databricks.v1+output": {
       "addedWidgets": {},
       "aggData": [],
       "aggError": "",
       "aggOverflow": false,
       "aggSchema": [],
       "aggSeriesLimitReached": false,
       "aggType": "",
       "arguments": {},
       "columnCustomDisplayInfos": {},
       "data": [
        [
         101,
         150
        ]
       ],
       "datasetInfos": [],
       "dbfsResultPath": null,
       "isJsonSchema": true,
       "metadata": {
        "createTempViewForImplicitDf": true,
        "dataframeName": "_sqldf",
        "executionCount": 25
       },
       "overflow": false,
       "plotOptions": {
        "customPlotOptions": {},
        "displayType": "table",
        "pivotAggregation": null,
        "pivotColumns": null,
        "xColumns": null,
        "yColumns": null
       },
       "removedWidgets": [],
       "schema": [
        {
         "metadata": "{\"__autoGeneratedAlias\":\"true\"}",
         "name": "min(customer_id)",
         "type": "\"integer\""
        },
        {
         "metadata": "{\"__autoGeneratedAlias\":\"true\"}",
         "name": "max(customer_id)",
         "type": "\"integer\""
        }
       ],
       "type": "table"
      }
     },
     "output_type": "display_data"
    }
   ],
   "source": [
    "%sql \n",
    "SELECT MIN(customer_id), MAX(customer_id)\n",
    "FROM deltacatalog.deltadb.vacuum_ex1;"
   ]
  },
  {
   "cell_type": "code",
   "execution_count": 0,
   "metadata": {
    "application/vnd.databricks.v1+cell": {
     "cellMetadata": {
      "byteLimit": 2048000,
      "implicitDf": true,
      "rowLimit": 10000
     },
     "inputWidgets": {},
     "nuid": "b69931b8-f377-4419-82ca-77c124c70606",
     "showTitle": false,
     "tableResultSettingsMap": {},
     "title": ""
    }
   },
   "outputs": [
    {
     "output_type": "display_data",
     "data": {
      "text/html": [
       "<style scoped>\n",
       "  .table-result-container {\n",
       "    max-height: 300px;\n",
       "    overflow: auto;\n",
       "  }\n",
       "  table, th, td {\n",
       "    border: 1px solid black;\n",
       "    border-collapse: collapse;\n",
       "  }\n",
       "  th, td {\n",
       "    padding: 5px;\n",
       "  }\n",
       "  th {\n",
       "    text-align: left;\n",
       "  }\n",
       "</style><div class='table-result-container'><table class='table-result'><thead style='background-color: white'><tr><th>min(customer_id)</th><th>max(customer_id)</th></tr></thead><tbody><tr><td>101</td><td>200</td></tr></tbody></table></div>"
      ]
     },
     "metadata": {
      "application/vnd.databricks.v1+output": {
       "addedWidgets": {},
       "aggData": [],
       "aggError": "",
       "aggOverflow": false,
       "aggSchema": [],
       "aggSeriesLimitReached": false,
       "aggType": "",
       "arguments": {},
       "columnCustomDisplayInfos": {},
       "data": [
        [
         101,
         200
        ]
       ],
       "datasetInfos": [],
       "dbfsResultPath": null,
       "isJsonSchema": true,
       "metadata": {
        "createTempViewForImplicitDf": true,
        "dataframeName": "_sqldf",
        "executionCount": 26
       },
       "overflow": false,
       "plotOptions": {
        "customPlotOptions": {},
        "displayType": "table",
        "pivotAggregation": null,
        "pivotColumns": null,
        "xColumns": null,
        "yColumns": null
       },
       "removedWidgets": [],
       "schema": [
        {
         "metadata": "{\"__autoGeneratedAlias\":\"true\"}",
         "name": "min(customer_id)",
         "type": "\"integer\""
        },
        {
         "metadata": "{\"__autoGeneratedAlias\":\"true\"}",
         "name": "max(customer_id)",
         "type": "\"integer\""
        }
       ],
       "type": "table"
      }
     },
     "output_type": "display_data"
    }
   ],
   "source": [
    "%sql \n",
    "SELECT MIN(customer_id), MAX(customer_id)\n",
    "FROM deltacatalog.deltadb.vacuum_ex1 VERSION AS OF 1;"
   ]
  },
  {
   "cell_type": "code",
   "execution_count": 0,
   "metadata": {
    "application/vnd.databricks.v1+cell": {
     "cellMetadata": {
      "byteLimit": 2048000,
      "implicitDf": true,
      "rowLimit": 10000
     },
     "inputWidgets": {},
     "nuid": "e5cfb3b3-958c-47bd-9674-653ebcdd6ef3",
     "showTitle": false,
     "tableResultSettingsMap": {},
     "title": ""
    }
   },
   "outputs": [
    {
     "output_type": "display_data",
     "data": {
      "text/html": [
       "<style scoped>\n",
       "  .table-result-container {\n",
       "    max-height: 300px;\n",
       "    overflow: auto;\n",
       "  }\n",
       "  table, th, td {\n",
       "    border: 1px solid black;\n",
       "    border-collapse: collapse;\n",
       "  }\n",
       "  th, td {\n",
       "    padding: 5px;\n",
       "  }\n",
       "  th {\n",
       "    text-align: left;\n",
       "  }\n",
       "</style><div class='table-result-container'><table class='table-result'><thead style='background-color: white'><tr><th>key</th><th>value</th></tr></thead><tbody><tr><td>spark.databricks.delta.retentionDurationCheck.enabled</td><td>false</td></tr></tbody></table></div>"
      ]
     },
     "metadata": {
      "application/vnd.databricks.v1+output": {
       "addedWidgets": {},
       "aggData": [],
       "aggError": "",
       "aggOverflow": false,
       "aggSchema": [],
       "aggSeriesLimitReached": false,
       "aggType": "",
       "arguments": {},
       "columnCustomDisplayInfos": {},
       "data": [
        [
         "spark.databricks.delta.retentionDurationCheck.enabled",
         "false"
        ]
       ],
       "datasetInfos": [],
       "dbfsResultPath": null,
       "isJsonSchema": true,
       "metadata": {
        "createTempViewForImplicitDf": true,
        "dataframeName": "_sqldf",
        "executionCount": 27
       },
       "overflow": false,
       "plotOptions": {
        "customPlotOptions": {},
        "displayType": "table",
        "pivotAggregation": null,
        "pivotColumns": null,
        "xColumns": null,
        "yColumns": null
       },
       "removedWidgets": [],
       "schema": [
        {
         "metadata": "{}",
         "name": "key",
         "type": "\"string\""
        },
        {
         "metadata": "{}",
         "name": "value",
         "type": "\"string\""
        }
       ],
       "type": "table"
      }
     },
     "output_type": "display_data"
    }
   ],
   "source": [
    "%sql\n",
    "SET spark.databricks.delta.retentionDurationCheck.enabled = false;"
   ]
  },
  {
   "cell_type": "code",
   "execution_count": 0,
   "metadata": {
    "application/vnd.databricks.v1+cell": {
     "cellMetadata": {
      "byteLimit": 2048000,
      "implicitDf": true,
      "rowLimit": 10000
     },
     "inputWidgets": {},
     "nuid": "59f82a75-78ee-439f-ac93-15cb15305230",
     "showTitle": false,
     "tableResultSettingsMap": {},
     "title": ""
    }
   },
   "outputs": [
    {
     "output_type": "display_data",
     "data": {
      "text/html": [
       "<style scoped>\n",
       "  .table-result-container {\n",
       "    max-height: 300px;\n",
       "    overflow: auto;\n",
       "  }\n",
       "  table, th, td {\n",
       "    border: 1px solid black;\n",
       "    border-collapse: collapse;\n",
       "  }\n",
       "  th, td {\n",
       "    padding: 5px;\n",
       "  }\n",
       "  th {\n",
       "    text-align: left;\n",
       "  }\n",
       "</style><div class='table-result-container'><table class='table-result'><thead style='background-color: white'><tr><th>path</th></tr></thead><tbody><tr><td>abfss://metastore@dbdeltalabstorageacct.dfs.core.windows.net/9f512693-87be-436d-8e5b-ff08b7b4f77f/tables/af4a7ed2-6344-453a-98fb-ee3a6c220b14</td></tr></tbody></table></div>"
      ]
     },
     "metadata": {
      "application/vnd.databricks.v1+output": {
       "addedWidgets": {},
       "aggData": [],
       "aggError": "",
       "aggOverflow": false,
       "aggSchema": [],
       "aggSeriesLimitReached": false,
       "aggType": "",
       "arguments": {},
       "columnCustomDisplayInfos": {},
       "data": [
        [
         "abfss://metastore@dbdeltalabstorageacct.dfs.core.windows.net/9f512693-87be-436d-8e5b-ff08b7b4f77f/tables/af4a7ed2-6344-453a-98fb-ee3a6c220b14"
        ]
       ],
       "datasetInfos": [],
       "dbfsResultPath": null,
       "isJsonSchema": true,
       "metadata": {
        "createTempViewForImplicitDf": true,
        "dataframeName": "_sqldf",
        "executionCount": 28
       },
       "overflow": false,
       "plotOptions": {
        "customPlotOptions": {},
        "displayType": "table",
        "pivotAggregation": null,
        "pivotColumns": null,
        "xColumns": null,
        "yColumns": null
       },
       "removedWidgets": [],
       "schema": [
        {
         "metadata": "{}",
         "name": "path",
         "type": "\"string\""
        }
       ],
       "type": "table"
      }
     },
     "output_type": "display_data"
    }
   ],
   "source": [
    "%sql\n",
    "VACUUM deltacatalog.deltadb.vacuum_ex1 RETAIN 0 HOURS;"
   ]
  },
  {
   "cell_type": "code",
   "execution_count": 0,
   "metadata": {
    "application/vnd.databricks.v1+cell": {
     "cellMetadata": {
      "byteLimit": 2048000,
      "implicitDf": true,
      "rowLimit": 10000
     },
     "inputWidgets": {},
     "nuid": "8b0a9174-c809-4a52-9b0b-4eb7e3a13616",
     "showTitle": false,
     "tableResultSettingsMap": {},
     "title": ""
    }
   },
   "outputs": [
    {
     "output_type": "display_data",
     "data": {
      "text/html": [
       "<style scoped>\n",
       "  .table-result-container {\n",
       "    max-height: 300px;\n",
       "    overflow: auto;\n",
       "  }\n",
       "  table, th, td {\n",
       "    border: 1px solid black;\n",
       "    border-collapse: collapse;\n",
       "  }\n",
       "  th, td {\n",
       "    padding: 5px;\n",
       "  }\n",
       "  th {\n",
       "    text-align: left;\n",
       "  }\n",
       "</style><div class='table-result-container'><table class='table-result'><thead style='background-color: white'><tr><th>version</th><th>timestamp</th><th>userId</th><th>userName</th><th>operation</th><th>operationParameters</th><th>job</th><th>notebook</th><th>clusterId</th><th>readVersion</th><th>isolationLevel</th><th>isBlindAppend</th><th>operationMetrics</th><th>userMetadata</th><th>engineInfo</th></tr></thead><tbody><tr><td>4</td><td>2025-05-03T14:27:10Z</td><td>2095506903161383</td><td>linkedafaque_gmail.com#ext#@linkedafaquegmail.onmicrosoft.com</td><td>VACUUM END</td><td>Map(status -> COMPLETED)</td><td>null</td><td>List(663055675511912)</td><td>0503-103113-z182bj2u</td><td>3</td><td>SnapshotIsolation</td><td>true</td><td>Map(numDeletedFiles -> 2, numVacuumedDirectories -> 1)</td><td>null</td><td>Databricks-Runtime/15.4.x-scala2.12</td></tr><tr><td>3</td><td>2025-05-03T14:27:02Z</td><td>2095506903161383</td><td>linkedafaque_gmail.com#ext#@linkedafaquegmail.onmicrosoft.com</td><td>VACUUM START</td><td>Map(retentionCheckEnabled -> false, defaultRetentionMillis -> 604800000, specifiedRetentionMillis -> 0)</td><td>null</td><td>List(663055675511912)</td><td>0503-103113-z182bj2u</td><td>2</td><td>SnapshotIsolation</td><td>true</td><td>Map(numFilesToDelete -> 2, sizeOfDataToDelete -> 4942)</td><td>null</td><td>Databricks-Runtime/15.4.x-scala2.12</td></tr><tr><td>2</td><td>2025-05-03T14:23:47Z</td><td>2095506903161383</td><td>linkedafaque_gmail.com#ext#@linkedafaquegmail.onmicrosoft.com</td><td>DELETE</td><td>Map(predicate -> [\"((customer_id#8510 >= 151) AND (customer_id#8510 <= 200))\"])</td><td>null</td><td>List(663055675511912)</td><td>0503-103113-z182bj2u</td><td>1</td><td>WriteSerializable</td><td>false</td><td>Map(numRemovedFiles -> 1, numRemovedBytes -> 4902, numCopiedRows -> 0, numDeletionVectorsAdded -> 0, numDeletionVectorsRemoved -> 0, numAddedChangeFiles -> 0, executionTimeMs -> 1389, numDeletionVectorsUpdated -> 0, numDeletedRows -> 50, scanTimeMs -> 1195, numAddedFiles -> 0, numAddedBytes -> 0, rewriteTimeMs -> 191)</td><td>null</td><td>Databricks-Runtime/15.4.x-scala2.12</td></tr><tr><td>1</td><td>2025-05-03T14:22:06Z</td><td>2095506903161383</td><td>linkedafaque_gmail.com#ext#@linkedafaquegmail.onmicrosoft.com</td><td>WRITE</td><td>Map(mode -> Append, statsOnLoad -> false, partitionBy -> [])</td><td>null</td><td>List(663055675511912)</td><td>0503-103113-z182bj2u</td><td>0</td><td>WriteSerializable</td><td>true</td><td>Map(numFiles -> 1, numOutputRows -> 50, numOutputBytes -> 4902)</td><td>null</td><td>Databricks-Runtime/15.4.x-scala2.12</td></tr><tr><td>0</td><td>2025-05-03T14:21:24Z</td><td>2095506903161383</td><td>linkedafaque_gmail.com#ext#@linkedafaquegmail.onmicrosoft.com</td><td>CREATE OR REPLACE TABLE AS SELECT</td><td>Map(partitionBy -> [], clusterBy -> [], description -> null, isManaged -> true, properties -> {\"delta.enableDeletionVectors\":\"true\"}, statsOnLoad -> false)</td><td>null</td><td>List(663055675511912)</td><td>0503-103113-z182bj2u</td><td>null</td><td>WriteSerializable</td><td>false</td><td>Map(numFiles -> 1, numOutputRows -> 50, numOutputBytes -> 4854)</td><td>null</td><td>Databricks-Runtime/15.4.x-scala2.12</td></tr></tbody></table></div>"
      ]
     },
     "metadata": {
      "application/vnd.databricks.v1+output": {
       "addedWidgets": {},
       "aggData": [],
       "aggError": "",
       "aggOverflow": false,
       "aggSchema": [],
       "aggSeriesLimitReached": false,
       "aggType": "",
       "arguments": {},
       "columnCustomDisplayInfos": {},
       "data": [
        [
         4,
         "2025-05-03T14:27:10Z",
         "2095506903161383",
         "linkedafaque_gmail.com#ext#@linkedafaquegmail.onmicrosoft.com",
         "VACUUM END",
         {
          "status": "COMPLETED"
         },
         null,
         [
          "663055675511912"
         ],
         "0503-103113-z182bj2u",
         3,
         "SnapshotIsolation",
         true,
         {
          "numDeletedFiles": "2",
          "numVacuumedDirectories": "1"
         },
         null,
         "Databricks-Runtime/15.4.x-scala2.12"
        ],
        [
         3,
         "2025-05-03T14:27:02Z",
         "2095506903161383",
         "linkedafaque_gmail.com#ext#@linkedafaquegmail.onmicrosoft.com",
         "VACUUM START",
         {
          "defaultRetentionMillis": "604800000",
          "retentionCheckEnabled": "false",
          "specifiedRetentionMillis": "0"
         },
         null,
         [
          "663055675511912"
         ],
         "0503-103113-z182bj2u",
         2,
         "SnapshotIsolation",
         true,
         {
          "numFilesToDelete": "2",
          "sizeOfDataToDelete": "4942"
         },
         null,
         "Databricks-Runtime/15.4.x-scala2.12"
        ],
        [
         2,
         "2025-05-03T14:23:47Z",
         "2095506903161383",
         "linkedafaque_gmail.com#ext#@linkedafaquegmail.onmicrosoft.com",
         "DELETE",
         {
          "predicate": "[\"((customer_id#8510 >= 151) AND (customer_id#8510 <= 200))\"]"
         },
         null,
         [
          "663055675511912"
         ],
         "0503-103113-z182bj2u",
         1,
         "WriteSerializable",
         false,
         {
          "executionTimeMs": "1389",
          "numAddedBytes": "0",
          "numAddedChangeFiles": "0",
          "numAddedFiles": "0",
          "numCopiedRows": "0",
          "numDeletedRows": "50",
          "numDeletionVectorsAdded": "0",
          "numDeletionVectorsRemoved": "0",
          "numDeletionVectorsUpdated": "0",
          "numRemovedBytes": "4902",
          "numRemovedFiles": "1",
          "rewriteTimeMs": "191",
          "scanTimeMs": "1195"
         },
         null,
         "Databricks-Runtime/15.4.x-scala2.12"
        ],
        [
         1,
         "2025-05-03T14:22:06Z",
         "2095506903161383",
         "linkedafaque_gmail.com#ext#@linkedafaquegmail.onmicrosoft.com",
         "WRITE",
         {
          "mode": "Append",
          "partitionBy": "[]",
          "statsOnLoad": "false"
         },
         null,
         [
          "663055675511912"
         ],
         "0503-103113-z182bj2u",
         0,
         "WriteSerializable",
         true,
         {
          "numFiles": "1",
          "numOutputBytes": "4902",
          "numOutputRows": "50"
         },
         null,
         "Databricks-Runtime/15.4.x-scala2.12"
        ],
        [
         0,
         "2025-05-03T14:21:24Z",
         "2095506903161383",
         "linkedafaque_gmail.com#ext#@linkedafaquegmail.onmicrosoft.com",
         "CREATE OR REPLACE TABLE AS SELECT",
         {
          "clusterBy": "[]",
          "description": null,
          "isManaged": "true",
          "partitionBy": "[]",
          "properties": "{\"delta.enableDeletionVectors\":\"true\"}",
          "statsOnLoad": "false"
         },
         null,
         [
          "663055675511912"
         ],
         "0503-103113-z182bj2u",
         null,
         "WriteSerializable",
         false,
         {
          "numFiles": "1",
          "numOutputBytes": "4854",
          "numOutputRows": "50"
         },
         null,
         "Databricks-Runtime/15.4.x-scala2.12"
        ]
       ],
       "datasetInfos": [],
       "dbfsResultPath": null,
       "isJsonSchema": true,
       "metadata": {
        "createTempViewForImplicitDf": true,
        "dataframeName": "_sqldf",
        "executionCount": 39
       },
       "overflow": false,
       "plotOptions": {
        "customPlotOptions": {},
        "displayType": "table",
        "pivotAggregation": null,
        "pivotColumns": null,
        "xColumns": null,
        "yColumns": null
       },
       "removedWidgets": [],
       "schema": [
        {
         "metadata": "{}",
         "name": "version",
         "type": "\"long\""
        },
        {
         "metadata": "{}",
         "name": "timestamp",
         "type": "\"timestamp\""
        },
        {
         "metadata": "{}",
         "name": "userId",
         "type": "\"string\""
        },
        {
         "metadata": "{}",
         "name": "userName",
         "type": "\"string\""
        },
        {
         "metadata": "{}",
         "name": "operation",
         "type": "\"string\""
        },
        {
         "metadata": "{}",
         "name": "operationParameters",
         "type": "{\"type\":\"map\",\"keyType\":\"string\",\"valueType\":\"string\",\"valueContainsNull\":true}"
        },
        {
         "metadata": "{}",
         "name": "job",
         "type": "{\"type\":\"struct\",\"fields\":[{\"name\":\"jobId\",\"type\":\"string\",\"nullable\":true,\"metadata\":{}},{\"name\":\"jobName\",\"type\":\"string\",\"nullable\":true,\"metadata\":{}},{\"name\":\"jobRunId\",\"type\":\"string\",\"nullable\":true,\"metadata\":{}},{\"name\":\"runId\",\"type\":\"string\",\"nullable\":true,\"metadata\":{}},{\"name\":\"jobOwnerId\",\"type\":\"string\",\"nullable\":true,\"metadata\":{}},{\"name\":\"triggerType\",\"type\":\"string\",\"nullable\":true,\"metadata\":{}}]}"
        },
        {
         "metadata": "{}",
         "name": "notebook",
         "type": "{\"type\":\"struct\",\"fields\":[{\"name\":\"notebookId\",\"type\":\"string\",\"nullable\":true,\"metadata\":{}}]}"
        },
        {
         "metadata": "{}",
         "name": "clusterId",
         "type": "\"string\""
        },
        {
         "metadata": "{}",
         "name": "readVersion",
         "type": "\"long\""
        },
        {
         "metadata": "{}",
         "name": "isolationLevel",
         "type": "\"string\""
        },
        {
         "metadata": "{}",
         "name": "isBlindAppend",
         "type": "\"boolean\""
        },
        {
         "metadata": "{}",
         "name": "operationMetrics",
         "type": "{\"type\":\"map\",\"keyType\":\"string\",\"valueType\":\"string\",\"valueContainsNull\":true}"
        },
        {
         "metadata": "{}",
         "name": "userMetadata",
         "type": "\"string\""
        },
        {
         "metadata": "{}",
         "name": "engineInfo",
         "type": "\"string\""
        }
       ],
       "type": "table"
      }
     },
     "output_type": "display_data"
    }
   ],
   "source": [
    "%sql\n",
    "DESCRIBE HISTORY deltacatalog.deltadb.vacuum_ex1;"
   ]
  },
  {
   "cell_type": "code",
   "execution_count": 0,
   "metadata": {
    "application/vnd.databricks.v1+cell": {
     "cellMetadata": {
      "byteLimit": 2048000,
      "implicitDf": true,
      "rowLimit": 10000
     },
     "inputWidgets": {},
     "nuid": "275831e6-fa07-4ce0-836d-0566aab01013",
     "showTitle": false,
     "tableResultSettingsMap": {},
     "title": ""
    }
   },
   "outputs": [
    {
     "output_type": "display_data",
     "data": {
      "text/html": [
       "<style scoped>\n",
       "  .table-result-container {\n",
       "    max-height: 300px;\n",
       "    overflow: auto;\n",
       "  }\n",
       "  table, th, td {\n",
       "    border: 1px solid black;\n",
       "    border-collapse: collapse;\n",
       "  }\n",
       "  th, td {\n",
       "    padding: 5px;\n",
       "  }\n",
       "  th {\n",
       "    text-align: left;\n",
       "  }\n",
       "</style><div class='table-result-container'><table class='table-result'><thead style='background-color: white'><tr><th>customer_id</th><th>invoice_no</th><th>gender</th><th>age</th><th>category</th><th>quantity</th><th>price</th><th>payment_method</th><th>invoice_date</th><th>shopping_mall</th><th>_rescued_data</th></tr></thead><tbody><tr><td>101</td><td>I302068</td><td>Female</td><td>58</td><td>Shoes</td><td>2</td><td>1200.34</td><td>Debit Card</td><td>2022-07-15</td><td>Metropol AVM</td><td>null</td></tr><tr><td>102</td><td>I193229</td><td>Male</td><td>40</td><td>Clothing</td><td>5</td><td>1500.4</td><td>Cash</td><td>2021-03-05</td><td>Cevahir AVM</td><td>null</td></tr><tr><td>103</td><td>I313092</td><td>Female</td><td>23</td><td>Cosmetics</td><td>2</td><td>81.32</td><td>Credit Card</td><td>2022-04-23</td><td>Zorlu Center</td><td>null</td></tr><tr><td>104</td><td>I258750</td><td>Female</td><td>40</td><td>Food & Beverage</td><td>3</td><td>15.69</td><td>Cash</td><td>2022-04-04</td><td>Istinye Park</td><td>null</td></tr><tr><td>105</td><td>I126182</td><td>Female</td><td>57</td><td>Clothing</td><td>5</td><td>1500.4</td><td>Cash</td><td>2022-02-06</td><td>Istinye Park</td><td>null</td></tr><tr><td>106</td><td>I155060</td><td>Female</td><td>51</td><td>Souvenir</td><td>1</td><td>11.73</td><td>Cash</td><td>2023-02-28</td><td>Forum Istanbul</td><td>null</td></tr><tr><td>107</td><td>I296886</td><td>Female</td><td>50</td><td>Cosmetics</td><td>4</td><td>162.64</td><td>Cash</td><td>2022-12-30</td><td>Kanyon</td><td>null</td></tr><tr><td>108</td><td>I997903</td><td>Female</td><td>57</td><td>Clothing</td><td>5</td><td>1500.4</td><td>Cash</td><td>2021-08-19</td><td>Istinye Park</td><td>null</td></tr><tr><td>109</td><td>I962731</td><td>Female</td><td>38</td><td>Books</td><td>3</td><td>45.45</td><td>Credit Card</td><td>2021-01-07</td><td>Metrocity</td><td>null</td></tr><tr><td>110</td><td>I157442</td><td>Female</td><td>20</td><td>Shoes</td><td>2</td><td>1200.34</td><td>Cash</td><td>2021-12-05</td><td>Metrocity</td><td>null</td></tr><tr><td>111</td><td>I937013</td><td>Female</td><td>27</td><td>Food & Beverage</td><td>1</td><td>5.23</td><td>Cash</td><td>2022-02-16</td><td>Viaport Outlet</td><td>null</td></tr><tr><td>112</td><td>I264100</td><td>Male</td><td>64</td><td>Books</td><td>4</td><td>60.6</td><td>Credit Card</td><td>2021-10-09</td><td>Mall of Istanbul</td><td>null</td></tr><tr><td>113</td><td>I593706</td><td>Female</td><td>66</td><td>Clothing</td><td>3</td><td>900.24</td><td>Cash</td><td>2021-10-05</td><td>Emaar Square Mall</td><td>null</td></tr><tr><td>114</td><td>I319086</td><td>Male</td><td>52</td><td>Clothing</td><td>1</td><td>300.08</td><td>Debit Card</td><td>2022-08-22</td><td>Mall of Istanbul</td><td>null</td></tr><tr><td>115</td><td>I754473</td><td>Female</td><td>60</td><td>Clothing</td><td>1</td><td>300.08</td><td>Credit Card</td><td>2021-12-23</td><td>Mall of Istanbul</td><td>null</td></tr><tr><td>116</td><td>I273979</td><td>Female</td><td>35</td><td>Clothing</td><td>5</td><td>1500.4</td><td>Credit Card</td><td>2022-09-22</td><td>Zorlu Center</td><td>null</td></tr><tr><td>117</td><td>I219403</td><td>Female</td><td>30</td><td>Clothing</td><td>1</td><td>300.08</td><td>Cash</td><td>2022-02-15</td><td>Istinye Park</td><td>null</td></tr><tr><td>118</td><td>I738389</td><td>Female</td><td>53</td><td>Clothing</td><td>5</td><td>1500.4</td><td>Credit Card</td><td>2022-10-09</td><td>Forum Istanbul</td><td>null</td></tr><tr><td>119</td><td>I152488</td><td>Female</td><td>36</td><td>Food & Beverage</td><td>3</td><td>15.69</td><td>Debit Card</td><td>2022-04-28</td><td>Viaport Outlet</td><td>null</td></tr><tr><td>120</td><td>I205644</td><td>Male</td><td>68</td><td>Clothing</td><td>5</td><td>1500.4</td><td>Debit Card</td><td>2021-06-24</td><td>Forum Istanbul</td><td>null</td></tr><tr><td>121</td><td>I150428</td><td>Male</td><td>58</td><td>Clothing</td><td>3</td><td>900.24</td><td>Debit Card</td><td>2021-07-09</td><td>Kanyon</td><td>null</td></tr><tr><td>122</td><td>I510860</td><td>Male</td><td>57</td><td>Souvenir</td><td>1</td><td>11.73</td><td>Cash</td><td>2021-09-19</td><td>Istinye Park</td><td>null</td></tr><tr><td>123</td><td>I149728</td><td>Female</td><td>64</td><td>Food & Beverage</td><td>1</td><td>5.23</td><td>Debit Card</td><td>2022-07-26</td><td>Istinye Park</td><td>null</td></tr><tr><td>124</td><td>I125980</td><td>Female</td><td>53</td><td>Clothing</td><td>4</td><td>1200.32</td><td>Cash</td><td>2022-02-28</td><td>Mall of Istanbul</td><td>null</td></tr><tr><td>125</td><td>I218743</td><td>Male</td><td>22</td><td>Shoes</td><td>1</td><td>600.17</td><td>Credit Card</td><td>2021-08-23</td><td>Metropol AVM</td><td>null</td></tr><tr><td>126</td><td>I235304</td><td>Male</td><td>36</td><td>Cosmetics</td><td>3</td><td>121.98</td><td>Cash</td><td>2022-11-25</td><td>Istinye Park</td><td>null</td></tr><tr><td>127</td><td>I216525</td><td>Female</td><td>34</td><td>Clothing</td><td>4</td><td>1200.32</td><td>Credit Card</td><td>2021-10-02</td><td>Mall of Istanbul</td><td>null</td></tr><tr><td>128</td><td>I265317</td><td>Female</td><td>52</td><td>Toys</td><td>2</td><td>71.68</td><td>Cash</td><td>2021-11-15</td><td>Emaar Square Mall</td><td>null</td></tr><tr><td>129</td><td>I153868</td><td>Female</td><td>32</td><td>Food & Beverage</td><td>1</td><td>5.23</td><td>Cash</td><td>2022-08-23</td><td>Kanyon</td><td>null</td></tr><tr><td>130</td><td>I261512</td><td>Female</td><td>35</td><td>Clothing</td><td>3</td><td>900.24</td><td>Credit Card</td><td>2022-08-19</td><td>Metropol AVM</td><td>null</td></tr><tr><td>131</td><td>I225666</td><td>Male</td><td>66</td><td>Cosmetics</td><td>4</td><td>162.64</td><td>Cash</td><td>2022-11-22</td><td>Mall of Istanbul</td><td>null</td></tr><tr><td>132</td><td>I305696</td><td>Female</td><td>27</td><td>Toys</td><td>4</td><td>143.36</td><td>Cash</td><td>2021-02-13</td><td>Metrocity</td><td>null</td></tr><tr><td>133</td><td>I142638</td><td>Female</td><td>42</td><td>Food & Beverage</td><td>2</td><td>10.46</td><td>Cash</td><td>2022-08-15</td><td>Istinye Park</td><td>null</td></tr><tr><td>134</td><td>I164646</td><td>Male</td><td>32</td><td>Shoes</td><td>4</td><td>2400.68</td><td>Cash</td><td>2021-07-30</td><td>Mall of Istanbul</td><td>null</td></tr><tr><td>135</td><td>I153682</td><td>Female</td><td>51</td><td>Clothing</td><td>4</td><td>1200.32</td><td>Debit Card</td><td>2022-03-06</td><td>Metrocity</td><td>null</td></tr><tr><td>136</td><td>I117657</td><td>Female</td><td>45</td><td>Clothing</td><td>3</td><td>900.24</td><td>Credit Card</td><td>2022-10-01</td><td>Mall of Istanbul</td><td>null</td></tr><tr><td>137</td><td>I209548</td><td>Female</td><td>26</td><td>Food & Beverage</td><td>3</td><td>15.69</td><td>Credit Card</td><td>2023-02-21</td><td>Metrocity</td><td>null</td></tr><tr><td>138</td><td>I238721</td><td>Female</td><td>54</td><td>Shoes</td><td>3</td><td>1800.51</td><td>Credit Card</td><td>2021-10-24</td><td>Mall of Istanbul</td><td>null</td></tr><tr><td>139</td><td>I515200</td><td>Male</td><td>48</td><td>Food & Beverage</td><td>2</td><td>10.46</td><td>Credit Card</td><td>2021-07-20</td><td>Metropol AVM</td><td>null</td></tr><tr><td>140</td><td>I111282</td><td>Female</td><td>57</td><td>Food & Beverage</td><td>5</td><td>26.15</td><td>Cash</td><td>2022-02-13</td><td>Kanyon</td><td>null</td></tr><tr><td>141</td><td>I313261</td><td>Male</td><td>40</td><td>Cosmetics</td><td>3</td><td>121.98</td><td>Debit Card</td><td>2022-10-06</td><td>Istinye Park</td><td>null</td></tr><tr><td>142</td><td>I174531</td><td>Female</td><td>64</td><td>Food & Beverage</td><td>1</td><td>5.23</td><td>Cash</td><td>2021-04-15</td><td>Metrocity</td><td>null</td></tr><tr><td>143</td><td>I231186</td><td>Male</td><td>66</td><td>Food & Beverage</td><td>2</td><td>10.46</td><td>Debit Card</td><td>2022-12-13</td><td>Metrocity</td><td>null</td></tr><tr><td>144</td><td>I279989</td><td>Female</td><td>28</td><td>Clothing</td><td>5</td><td>1500.4</td><td>Credit Card</td><td>2021-08-15</td><td>Zorlu Center</td><td>null</td></tr><tr><td>145</td><td>I204945</td><td>Female</td><td>45</td><td>Food & Beverage</td><td>4</td><td>20.92</td><td>Debit Card</td><td>2022-09-16</td><td>Mall of Istanbul</td><td>null</td></tr><tr><td>146</td><td>I225692</td><td>Female</td><td>29</td><td>Toys</td><td>5</td><td>179.2</td><td>Cash</td><td>2021-12-27</td><td>Mall of Istanbul</td><td>null</td></tr><tr><td>147</td><td>I241735</td><td>Female</td><td>49</td><td>Books</td><td>4</td><td>60.6</td><td>Cash</td><td>2022-08-12</td><td>Metropol AVM</td><td>null</td></tr><tr><td>148</td><td>I155404</td><td>Male</td><td>48</td><td>Toys</td><td>4</td><td>143.36</td><td>Cash</td><td>2022-09-19</td><td>Metrocity</td><td>null</td></tr><tr><td>149</td><td>I258949</td><td>Female</td><td>57</td><td>Food & Beverage</td><td>3</td><td>15.69</td><td>Cash</td><td>2022-02-19</td><td>Kanyon</td><td>null</td></tr><tr><td>150</td><td>I500960</td><td>Male</td><td>36</td><td>Clothing</td><td>4</td><td>1200.32</td><td>Debit Card</td><td>2022-12-31</td><td>Viaport Outlet</td><td>null</td></tr></tbody></table></div>"
      ]
     },
     "metadata": {
      "application/vnd.databricks.v1+output": {
       "addedWidgets": {},
       "aggData": [],
       "aggError": "",
       "aggOverflow": false,
       "aggSchema": [],
       "aggSeriesLimitReached": false,
       "aggType": "",
       "arguments": {},
       "columnCustomDisplayInfos": {},
       "data": [
        [
         101,
         "I302068",
         "Female",
         58,
         "Shoes",
         2,
         1200.34,
         "Debit Card",
         "2022-07-15",
         "Metropol AVM",
         null
        ],
        [
         102,
         "I193229",
         "Male",
         40,
         "Clothing",
         5,
         1500.4,
         "Cash",
         "2021-03-05",
         "Cevahir AVM",
         null
        ],
        [
         103,
         "I313092",
         "Female",
         23,
         "Cosmetics",
         2,
         81.32,
         "Credit Card",
         "2022-04-23",
         "Zorlu Center",
         null
        ],
        [
         104,
         "I258750",
         "Female",
         40,
         "Food & Beverage",
         3,
         15.69,
         "Cash",
         "2022-04-04",
         "Istinye Park",
         null
        ],
        [
         105,
         "I126182",
         "Female",
         57,
         "Clothing",
         5,
         1500.4,
         "Cash",
         "2022-02-06",
         "Istinye Park",
         null
        ],
        [
         106,
         "I155060",
         "Female",
         51,
         "Souvenir",
         1,
         11.73,
         "Cash",
         "2023-02-28",
         "Forum Istanbul",
         null
        ],
        [
         107,
         "I296886",
         "Female",
         50,
         "Cosmetics",
         4,
         162.64,
         "Cash",
         "2022-12-30",
         "Kanyon",
         null
        ],
        [
         108,
         "I997903",
         "Female",
         57,
         "Clothing",
         5,
         1500.4,
         "Cash",
         "2021-08-19",
         "Istinye Park",
         null
        ],
        [
         109,
         "I962731",
         "Female",
         38,
         "Books",
         3,
         45.45,
         "Credit Card",
         "2021-01-07",
         "Metrocity",
         null
        ],
        [
         110,
         "I157442",
         "Female",
         20,
         "Shoes",
         2,
         1200.34,
         "Cash",
         "2021-12-05",
         "Metrocity",
         null
        ],
        [
         111,
         "I937013",
         "Female",
         27,
         "Food & Beverage",
         1,
         5.23,
         "Cash",
         "2022-02-16",
         "Viaport Outlet",
         null
        ],
        [
         112,
         "I264100",
         "Male",
         64,
         "Books",
         4,
         60.6,
         "Credit Card",
         "2021-10-09",
         "Mall of Istanbul",
         null
        ],
        [
         113,
         "I593706",
         "Female",
         66,
         "Clothing",
         3,
         900.24,
         "Cash",
         "2021-10-05",
         "Emaar Square Mall",
         null
        ],
        [
         114,
         "I319086",
         "Male",
         52,
         "Clothing",
         1,
         300.08,
         "Debit Card",
         "2022-08-22",
         "Mall of Istanbul",
         null
        ],
        [
         115,
         "I754473",
         "Female",
         60,
         "Clothing",
         1,
         300.08,
         "Credit Card",
         "2021-12-23",
         "Mall of Istanbul",
         null
        ],
        [
         116,
         "I273979",
         "Female",
         35,
         "Clothing",
         5,
         1500.4,
         "Credit Card",
         "2022-09-22",
         "Zorlu Center",
         null
        ],
        [
         117,
         "I219403",
         "Female",
         30,
         "Clothing",
         1,
         300.08,
         "Cash",
         "2022-02-15",
         "Istinye Park",
         null
        ],
        [
         118,
         "I738389",
         "Female",
         53,
         "Clothing",
         5,
         1500.4,
         "Credit Card",
         "2022-10-09",
         "Forum Istanbul",
         null
        ],
        [
         119,
         "I152488",
         "Female",
         36,
         "Food & Beverage",
         3,
         15.69,
         "Debit Card",
         "2022-04-28",
         "Viaport Outlet",
         null
        ],
        [
         120,
         "I205644",
         "Male",
         68,
         "Clothing",
         5,
         1500.4,
         "Debit Card",
         "2021-06-24",
         "Forum Istanbul",
         null
        ],
        [
         121,
         "I150428",
         "Male",
         58,
         "Clothing",
         3,
         900.24,
         "Debit Card",
         "2021-07-09",
         "Kanyon",
         null
        ],
        [
         122,
         "I510860",
         "Male",
         57,
         "Souvenir",
         1,
         11.73,
         "Cash",
         "2021-09-19",
         "Istinye Park",
         null
        ],
        [
         123,
         "I149728",
         "Female",
         64,
         "Food & Beverage",
         1,
         5.23,
         "Debit Card",
         "2022-07-26",
         "Istinye Park",
         null
        ],
        [
         124,
         "I125980",
         "Female",
         53,
         "Clothing",
         4,
         1200.32,
         "Cash",
         "2022-02-28",
         "Mall of Istanbul",
         null
        ],
        [
         125,
         "I218743",
         "Male",
         22,
         "Shoes",
         1,
         600.17,
         "Credit Card",
         "2021-08-23",
         "Metropol AVM",
         null
        ],
        [
         126,
         "I235304",
         "Male",
         36,
         "Cosmetics",
         3,
         121.98,
         "Cash",
         "2022-11-25",
         "Istinye Park",
         null
        ],
        [
         127,
         "I216525",
         "Female",
         34,
         "Clothing",
         4,
         1200.32,
         "Credit Card",
         "2021-10-02",
         "Mall of Istanbul",
         null
        ],
        [
         128,
         "I265317",
         "Female",
         52,
         "Toys",
         2,
         71.68,
         "Cash",
         "2021-11-15",
         "Emaar Square Mall",
         null
        ],
        [
         129,
         "I153868",
         "Female",
         32,
         "Food & Beverage",
         1,
         5.23,
         "Cash",
         "2022-08-23",
         "Kanyon",
         null
        ],
        [
         130,
         "I261512",
         "Female",
         35,
         "Clothing",
         3,
         900.24,
         "Credit Card",
         "2022-08-19",
         "Metropol AVM",
         null
        ],
        [
         131,
         "I225666",
         "Male",
         66,
         "Cosmetics",
         4,
         162.64,
         "Cash",
         "2022-11-22",
         "Mall of Istanbul",
         null
        ],
        [
         132,
         "I305696",
         "Female",
         27,
         "Toys",
         4,
         143.36,
         "Cash",
         "2021-02-13",
         "Metrocity",
         null
        ],
        [
         133,
         "I142638",
         "Female",
         42,
         "Food & Beverage",
         2,
         10.46,
         "Cash",
         "2022-08-15",
         "Istinye Park",
         null
        ],
        [
         134,
         "I164646",
         "Male",
         32,
         "Shoes",
         4,
         2400.68,
         "Cash",
         "2021-07-30",
         "Mall of Istanbul",
         null
        ],
        [
         135,
         "I153682",
         "Female",
         51,
         "Clothing",
         4,
         1200.32,
         "Debit Card",
         "2022-03-06",
         "Metrocity",
         null
        ],
        [
         136,
         "I117657",
         "Female",
         45,
         "Clothing",
         3,
         900.24,
         "Credit Card",
         "2022-10-01",
         "Mall of Istanbul",
         null
        ],
        [
         137,
         "I209548",
         "Female",
         26,
         "Food & Beverage",
         3,
         15.69,
         "Credit Card",
         "2023-02-21",
         "Metrocity",
         null
        ],
        [
         138,
         "I238721",
         "Female",
         54,
         "Shoes",
         3,
         1800.51,
         "Credit Card",
         "2021-10-24",
         "Mall of Istanbul",
         null
        ],
        [
         139,
         "I515200",
         "Male",
         48,
         "Food & Beverage",
         2,
         10.46,
         "Credit Card",
         "2021-07-20",
         "Metropol AVM",
         null
        ],
        [
         140,
         "I111282",
         "Female",
         57,
         "Food & Beverage",
         5,
         26.15,
         "Cash",
         "2022-02-13",
         "Kanyon",
         null
        ],
        [
         141,
         "I313261",
         "Male",
         40,
         "Cosmetics",
         3,
         121.98,
         "Debit Card",
         "2022-10-06",
         "Istinye Park",
         null
        ],
        [
         142,
         "I174531",
         "Female",
         64,
         "Food & Beverage",
         1,
         5.23,
         "Cash",
         "2021-04-15",
         "Metrocity",
         null
        ],
        [
         143,
         "I231186",
         "Male",
         66,
         "Food & Beverage",
         2,
         10.46,
         "Debit Card",
         "2022-12-13",
         "Metrocity",
         null
        ],
        [
         144,
         "I279989",
         "Female",
         28,
         "Clothing",
         5,
         1500.4,
         "Credit Card",
         "2021-08-15",
         "Zorlu Center",
         null
        ],
        [
         145,
         "I204945",
         "Female",
         45,
         "Food & Beverage",
         4,
         20.92,
         "Debit Card",
         "2022-09-16",
         "Mall of Istanbul",
         null
        ],
        [
         146,
         "I225692",
         "Female",
         29,
         "Toys",
         5,
         179.2,
         "Cash",
         "2021-12-27",
         "Mall of Istanbul",
         null
        ],
        [
         147,
         "I241735",
         "Female",
         49,
         "Books",
         4,
         60.6,
         "Cash",
         "2022-08-12",
         "Metropol AVM",
         null
        ],
        [
         148,
         "I155404",
         "Male",
         48,
         "Toys",
         4,
         143.36,
         "Cash",
         "2022-09-19",
         "Metrocity",
         null
        ],
        [
         149,
         "I258949",
         "Female",
         57,
         "Food & Beverage",
         3,
         15.69,
         "Cash",
         "2022-02-19",
         "Kanyon",
         null
        ],
        [
         150,
         "I500960",
         "Male",
         36,
         "Clothing",
         4,
         1200.32,
         "Debit Card",
         "2022-12-31",
         "Viaport Outlet",
         null
        ]
       ],
       "datasetInfos": [],
       "dbfsResultPath": null,
       "isJsonSchema": true,
       "metadata": {
        "createTempViewForImplicitDf": true,
        "dataframeName": "_sqldf",
        "executionCount": 41
       },
       "overflow": false,
       "plotOptions": {
        "customPlotOptions": {},
        "displayType": "table",
        "pivotAggregation": null,
        "pivotColumns": null,
        "xColumns": null,
        "yColumns": null
       },
       "removedWidgets": [],
       "schema": [
        {
         "metadata": "{}",
         "name": "customer_id",
         "type": "\"integer\""
        },
        {
         "metadata": "{}",
         "name": "invoice_no",
         "type": "\"string\""
        },
        {
         "metadata": "{}",
         "name": "gender",
         "type": "\"string\""
        },
        {
         "metadata": "{}",
         "name": "age",
         "type": "\"integer\""
        },
        {
         "metadata": "{}",
         "name": "category",
         "type": "\"string\""
        },
        {
         "metadata": "{}",
         "name": "quantity",
         "type": "\"integer\""
        },
        {
         "metadata": "{}",
         "name": "price",
         "type": "\"double\""
        },
        {
         "metadata": "{}",
         "name": "payment_method",
         "type": "\"string\""
        },
        {
         "metadata": "{\"__detected_date_formats\":\"yyyy-M-d\"}",
         "name": "invoice_date",
         "type": "\"date\""
        },
        {
         "metadata": "{}",
         "name": "shopping_mall",
         "type": "\"string\""
        },
        {
         "metadata": "{}",
         "name": "_rescued_data",
         "type": "\"string\""
        }
       ],
       "type": "table"
      }
     },
     "output_type": "display_data"
    }
   ],
   "source": [
    "%sql\n",
    "SELECT * \n",
    "FROM deltacatalog.deltadb.vacuum_ex1 VERSION AS OF 0;"
   ]
  },
  {
   "cell_type": "code",
   "execution_count": 0,
   "metadata": {
    "application/vnd.databricks.v1+cell": {
     "cellMetadata": {},
     "inputWidgets": {},
     "nuid": "01713f81-2137-49ca-8695-8fdf2d9ee8b0",
     "showTitle": false,
     "tableResultSettingsMap": {},
     "title": ""
    }
   },
   "outputs": [],
   "source": []
  }
 ],
 "metadata": {
  "application/vnd.databricks.v1+notebook": {
   "computePreferences": null,
   "dashboards": [],
   "environmentMetadata": {
    "base_environment": "",
    "environment_version": "2"
   },
   "inputWidgetPreferences": null,
   "language": "python",
   "notebookMetadata": {
    "mostRecentlyExecutedCommandWithImplicitDF": {
     "commandId": 5495497186735993,
     "dataframes": [
      "_sqldf"
     ]
    },
    "pythonIndentUnit": 4
   },
   "notebookName": "07 OPTIMIZE VACUUM",
   "widgets": {}
  },
  "language_info": {
   "name": "python"
  }
 },
 "nbformat": 4,
 "nbformat_minor": 0
}