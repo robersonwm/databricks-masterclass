{
 "cells": [
  {
   "cell_type": "markdown",
   "metadata": {
    "application/vnd.databricks.v1+cell": {
     "cellMetadata": {},
     "inputWidgets": {},
     "nuid": "80fe8841-9c8c-4af6-bdfb-8f28ac0e3803",
     "showTitle": false,
     "tableResultSettingsMap": {},
     "title": ""
    }
   },
   "source": [
    "# Schema Evolution\n",
    "1. Adding New Columns (Manual / Automatic)\n",
    "2. Widening Data Types (Supported Delta >= 3.2): Sometimes we need to expand a column's data type to accommodate larger values. Delta Lake allows \"widening\" type conversions that won't lose data, such as:\n",
    "- `INT` to `BIGINT`\n",
    "- `FLOAT` to `DOUBLE`\n",
    "- `VARCHAR(10)` to `VARCHAR(20)`\n",
    "\n",
    "3. Nested Structure Evolution (Manual / Automatic): Delta Lake supports evolution of complex data types like structs and arrays. We can:\n",
    "- Add new fields to structs\n",
    "- Modify nested field types\n",
    "- Add new elements to arrays\n",
    "\n",
    "4. Column Position Changes (Manual / Automatic): we can reorganize our columns\n",
    "\n",
    "Note: \n",
    "- `INSERT` works by matching columns by position\n",
    "- `MERGE` works by matching columns by name"
   ]
  },
  {
   "cell_type": "markdown",
   "metadata": {
    "application/vnd.databricks.v1+cell": {
     "cellMetadata": {},
     "inputWidgets": {},
     "nuid": "f22cc1d5-c3e3-4704-9267-2c10e97b0ea2",
     "showTitle": false,
     "tableResultSettingsMap": {},
     "title": ""
    }
   },
   "source": [
    "#### Scenario 1: Adding New Columns "
   ]
  },
  {
   "cell_type": "code",
   "execution_count": 0,
   "metadata": {
    "application/vnd.databricks.v1+cell": {
     "cellMetadata": {
      "byteLimit": 2048000,
      "rowLimit": 10000
     },
     "inputWidgets": {},
     "nuid": "de64d186-44d8-44b3-9d6c-85c24f19bca1",
     "showTitle": false,
     "tableResultSettingsMap": {},
     "title": ""
    }
   },
   "outputs": [
    {
     "output_type": "display_data",
     "data": {
      "text/html": [
       "<style scoped>\n",
       "  .table-result-container {\n",
       "    max-height: 300px;\n",
       "    overflow: auto;\n",
       "  }\n",
       "  table, th, td {\n",
       "    border: 1px solid black;\n",
       "    border-collapse: collapse;\n",
       "  }\n",
       "  th, td {\n",
       "    padding: 5px;\n",
       "  }\n",
       "  th {\n",
       "    text-align: left;\n",
       "  }\n",
       "</style><div class='table-result-container'><table class='table-result'><thead style='background-color: white'><tr></tr></thead><tbody></tbody></table></div>"
      ]
     },
     "metadata": {
      "application/vnd.databricks.v1+output": {
       "addedWidgets": {},
       "aggData": [],
       "aggError": "",
       "aggOverflow": false,
       "aggSchema": [],
       "aggSeriesLimitReached": false,
       "aggType": "",
       "arguments": {},
       "columnCustomDisplayInfos": {},
       "data": [],
       "datasetInfos": [],
       "dbfsResultPath": null,
       "isJsonSchema": true,
       "metadata": {
        "isDbfsCommandResult": false
       },
       "overflow": false,
       "plotOptions": {
        "customPlotOptions": {},
        "displayType": "table",
        "pivotAggregation": null,
        "pivotColumns": null,
        "xColumns": null,
        "yColumns": null
       },
       "removedWidgets": [],
       "schema": [],
       "type": "table"
      }
     },
     "output_type": "display_data"
    }
   ],
   "source": [
    "DROP TABLE deltacatalog.deltadb.invoices_se;"
   ]
  },
  {
   "cell_type": "code",
   "execution_count": 0,
   "metadata": {
    "application/vnd.databricks.v1+cell": {
     "cellMetadata": {
      "byteLimit": 2048000,
      "rowLimit": 10000
     },
     "inputWidgets": {},
     "nuid": "05b32d30-92d3-4cd3-8623-f5b0484fe5d9",
     "showTitle": false,
     "tableResultSettingsMap": {},
     "title": ""
    }
   },
   "outputs": [
    {
     "output_type": "display_data",
     "data": {
      "text/html": [
       "<style scoped>\n",
       "  .table-result-container {\n",
       "    max-height: 300px;\n",
       "    overflow: auto;\n",
       "  }\n",
       "  table, th, td {\n",
       "    border: 1px solid black;\n",
       "    border-collapse: collapse;\n",
       "  }\n",
       "  th, td {\n",
       "    padding: 5px;\n",
       "  }\n",
       "  th {\n",
       "    text-align: left;\n",
       "  }\n",
       "</style><div class='table-result-container'><table class='table-result'><thead style='background-color: white'><tr><th>customer_id</th><th>invoice_no</th><th>gender</th><th>age</th><th>category</th><th>quantity</th><th>price</th><th>payment_method</th><th>invoice_date</th><th>shopping_mall</th><th>_rescued_data</th></tr></thead><tbody><tr><td>1</td><td>I178410</td><td>Male</td><td>61</td><td>Clothing</td><td>5</td><td>1500.4</td><td>Credit Card</td><td>2021-11-26</td><td>Metrocity</td><td>null</td></tr><tr><td>2</td><td>I158163</td><td>Male</td><td>34</td><td>Shoes</td><td>2</td><td>1200.34</td><td>Cash</td><td>2023-03-03</td><td>Kanyon</td><td>null</td></tr><tr><td>3</td><td>I262373</td><td>Male</td><td>44</td><td>Toys</td><td>3</td><td>107.52</td><td>Credit Card</td><td>2022-12-01</td><td>Cevahir AVM</td><td>null</td></tr><tr><td>4</td><td>I334895</td><td>Male</td><td>25</td><td>Food & Beverage</td><td>5</td><td>26.15</td><td>Cash</td><td>2021-08-15</td><td>Kanyon</td><td>null</td></tr><tr><td>5</td><td>I202043</td><td>Female</td><td>21</td><td>Toys</td><td>1</td><td>35.84</td><td>Credit Card</td><td>2021-07-25</td><td>Metrocity</td><td>null</td></tr></tbody></table></div>"
      ]
     },
     "metadata": {
      "application/vnd.databricks.v1+output": {
       "addedWidgets": {},
       "aggData": [],
       "aggError": "",
       "aggOverflow": false,
       "aggSchema": [],
       "aggSeriesLimitReached": false,
       "aggType": "",
       "arguments": {},
       "columnCustomDisplayInfos": {},
       "data": [
        [
         1,
         "I178410",
         "Male",
         61,
         "Clothing",
         5,
         1500.4,
         "Credit Card",
         "2021-11-26",
         "Metrocity",
         null
        ],
        [
         2,
         "I158163",
         "Male",
         34,
         "Shoes",
         2,
         1200.34,
         "Cash",
         "2023-03-03",
         "Kanyon",
         null
        ],
        [
         3,
         "I262373",
         "Male",
         44,
         "Toys",
         3,
         107.52,
         "Credit Card",
         "2022-12-01",
         "Cevahir AVM",
         null
        ],
        [
         4,
         "I334895",
         "Male",
         25,
         "Food & Beverage",
         5,
         26.15,
         "Cash",
         "2021-08-15",
         "Kanyon",
         null
        ],
        [
         5,
         "I202043",
         "Female",
         21,
         "Toys",
         1,
         35.84,
         "Credit Card",
         "2021-07-25",
         "Metrocity",
         null
        ]
       ],
       "datasetInfos": [],
       "dbfsResultPath": null,
       "isJsonSchema": true,
       "metadata": {
        "isDbfsCommandResult": false
       },
       "overflow": false,
       "plotOptions": {
        "customPlotOptions": {},
        "displayType": "table",
        "pivotAggregation": null,
        "pivotColumns": null,
        "xColumns": null,
        "yColumns": null
       },
       "removedWidgets": [],
       "schema": [
        {
         "metadata": "{}",
         "name": "customer_id",
         "type": "\"integer\""
        },
        {
         "metadata": "{}",
         "name": "invoice_no",
         "type": "\"string\""
        },
        {
         "metadata": "{}",
         "name": "gender",
         "type": "\"string\""
        },
        {
         "metadata": "{}",
         "name": "age",
         "type": "\"integer\""
        },
        {
         "metadata": "{}",
         "name": "category",
         "type": "\"string\""
        },
        {
         "metadata": "{}",
         "name": "quantity",
         "type": "\"integer\""
        },
        {
         "metadata": "{}",
         "name": "price",
         "type": "\"double\""
        },
        {
         "metadata": "{}",
         "name": "payment_method",
         "type": "\"string\""
        },
        {
         "metadata": "{\"__detected_date_formats\":\"yyyy-M-d\"}",
         "name": "invoice_date",
         "type": "\"date\""
        },
        {
         "metadata": "{}",
         "name": "shopping_mall",
         "type": "\"string\""
        },
        {
         "metadata": "{}",
         "name": "_rescued_data",
         "type": "\"string\""
        }
       ],
       "type": "table"
      }
     },
     "output_type": "display_data"
    }
   ],
   "source": [
    "SELECT *\n",
    "FROM PARQUET.`abfss://labdata@dbdeltalabstorageacct.dfs.core.windows.net/invoices/invoices_1_100.parquet`\n",
    "WHERE customer_id BETWEEN 1 AND 5"
   ]
  },
  {
   "cell_type": "code",
   "execution_count": 0,
   "metadata": {
    "application/vnd.databricks.v1+cell": {
     "cellMetadata": {
      "byteLimit": 2048000,
      "rowLimit": 10000
     },
     "inputWidgets": {},
     "nuid": "45a5f2af-b826-4972-a47d-09e0569bb6c6",
     "showTitle": false,
     "tableResultSettingsMap": {},
     "title": ""
    }
   },
   "outputs": [
    {
     "output_type": "display_data",
     "data": {
      "text/html": [
       "<style scoped>\n",
       "  .table-result-container {\n",
       "    max-height: 300px;\n",
       "    overflow: auto;\n",
       "  }\n",
       "  table, th, td {\n",
       "    border: 1px solid black;\n",
       "    border-collapse: collapse;\n",
       "  }\n",
       "  th, td {\n",
       "    padding: 5px;\n",
       "  }\n",
       "  th {\n",
       "    text-align: left;\n",
       "  }\n",
       "</style><div class='table-result-container'><table class='table-result'><thead style='background-color: white'><tr><th>num_affected_rows</th><th>num_inserted_rows</th></tr></thead><tbody><tr><td>5</td><td>5</td></tr></tbody></table></div>"
      ]
     },
     "metadata": {
      "application/vnd.databricks.v1+output": {
       "addedWidgets": {},
       "aggData": [],
       "aggError": "",
       "aggOverflow": false,
       "aggSchema": [],
       "aggSeriesLimitReached": false,
       "aggType": "",
       "arguments": {},
       "columnCustomDisplayInfos": {},
       "data": [
        [
         5,
         5
        ]
       ],
       "datasetInfos": [],
       "dbfsResultPath": null,
       "isJsonSchema": true,
       "metadata": {
        "isDbfsCommandResult": false
       },
       "overflow": false,
       "plotOptions": {
        "customPlotOptions": {},
        "displayType": "table",
        "pivotAggregation": null,
        "pivotColumns": null,
        "xColumns": null,
        "yColumns": null
       },
       "removedWidgets": [],
       "schema": [
        {
         "metadata": "{}",
         "name": "num_affected_rows",
         "type": "\"long\""
        },
        {
         "metadata": "{}",
         "name": "num_inserted_rows",
         "type": "\"long\""
        }
       ],
       "type": "table"
      }
     },
     "output_type": "display_data"
    }
   ],
   "source": [
    "CREATE OR REPLACE TABLE deltacatalog.deltadb.invoices_se (\n",
    "  customer_id INT NOT NULL,  \n",
    "  invoice_no STRING,\n",
    "  price FLOAT, \n",
    "  invoice_date DATE\n",
    "); \n",
    "\n",
    "INSERT INTO deltacatalog.deltadb.invoices_se\n",
    "SELECT customer_id, invoice_no, price, invoice_date\n",
    "FROM PARQUET.`abfss://labdata@dbdeltalabstorageacct.dfs.core.windows.net/invoices/invoices_1_100.parquet`\n",
    "WHERE customer_id BETWEEN 1 AND 5"
   ]
  },
  {
   "cell_type": "code",
   "execution_count": 0,
   "metadata": {
    "application/vnd.databricks.v1+cell": {
     "cellMetadata": {
      "byteLimit": 2048000,
      "rowLimit": 10000
     },
     "inputWidgets": {},
     "nuid": "8d0b1f1d-11bb-482f-8889-f60bdde9ad0a",
     "showTitle": false,
     "tableResultSettingsMap": {},
     "title": ""
    }
   },
   "outputs": [
    {
     "output_type": "display_data",
     "data": {
      "text/html": [
       "<style scoped>\n",
       "  .table-result-container {\n",
       "    max-height: 300px;\n",
       "    overflow: auto;\n",
       "  }\n",
       "  table, th, td {\n",
       "    border: 1px solid black;\n",
       "    border-collapse: collapse;\n",
       "  }\n",
       "  th, td {\n",
       "    padding: 5px;\n",
       "  }\n",
       "  th {\n",
       "    text-align: left;\n",
       "  }\n",
       "</style><div class='table-result-container'><table class='table-result'><thead style='background-color: white'><tr><th>customer_id</th><th>invoice_no</th><th>price</th><th>invoice_date</th></tr></thead><tbody><tr><td>1</td><td>I178410</td><td>1500.4</td><td>2021-11-26</td></tr><tr><td>2</td><td>I158163</td><td>1200.34</td><td>2023-03-03</td></tr><tr><td>3</td><td>I262373</td><td>107.52</td><td>2022-12-01</td></tr><tr><td>4</td><td>I334895</td><td>26.15</td><td>2021-08-15</td></tr><tr><td>5</td><td>I202043</td><td>35.84</td><td>2021-07-25</td></tr></tbody></table></div>"
      ]
     },
     "metadata": {
      "application/vnd.databricks.v1+output": {
       "addedWidgets": {},
       "aggData": [],
       "aggError": "",
       "aggOverflow": false,
       "aggSchema": [],
       "aggSeriesLimitReached": false,
       "aggType": "",
       "arguments": {},
       "columnCustomDisplayInfos": {},
       "data": [
        [
         1,
         "I178410",
         1500.4,
         "2021-11-26"
        ],
        [
         2,
         "I158163",
         1200.34,
         "2023-03-03"
        ],
        [
         3,
         "I262373",
         107.52,
         "2022-12-01"
        ],
        [
         4,
         "I334895",
         26.15,
         "2021-08-15"
        ],
        [
         5,
         "I202043",
         35.84,
         "2021-07-25"
        ]
       ],
       "datasetInfos": [],
       "dbfsResultPath": null,
       "isJsonSchema": true,
       "metadata": {
        "isDbfsCommandResult": false
       },
       "overflow": false,
       "plotOptions": {
        "customPlotOptions": {},
        "displayType": "table",
        "pivotAggregation": null,
        "pivotColumns": null,
        "xColumns": null,
        "yColumns": null
       },
       "removedWidgets": [],
       "schema": [
        {
         "metadata": "{}",
         "name": "customer_id",
         "type": "\"integer\""
        },
        {
         "metadata": "{}",
         "name": "invoice_no",
         "type": "\"string\""
        },
        {
         "metadata": "{}",
         "name": "price",
         "type": "\"float\""
        },
        {
         "metadata": "{}",
         "name": "invoice_date",
         "type": "\"date\""
        }
       ],
       "type": "table"
      }
     },
     "output_type": "display_data"
    }
   ],
   "source": [
    "SELECT * FROM deltacatalog.deltadb.invoices_se;"
   ]
  },
  {
   "cell_type": "code",
   "execution_count": 0,
   "metadata": {
    "application/vnd.databricks.v1+cell": {
     "cellMetadata": {
      "byteLimit": 2048000,
      "rowLimit": 10000
     },
     "inputWidgets": {},
     "nuid": "a9093aa6-26ec-4e4e-87bd-e76e7a113429",
     "showTitle": false,
     "tableResultSettingsMap": {},
     "title": ""
    }
   },
   "outputs": [
    {
     "output_type": "display_data",
     "data": {
      "text/html": [
       "<style scoped>\n",
       "  .table-result-container {\n",
       "    max-height: 300px;\n",
       "    overflow: auto;\n",
       "  }\n",
       "  table, th, td {\n",
       "    border: 1px solid black;\n",
       "    border-collapse: collapse;\n",
       "  }\n",
       "  th, td {\n",
       "    padding: 5px;\n",
       "  }\n",
       "  th {\n",
       "    text-align: left;\n",
       "  }\n",
       "</style><div class='table-result-container'><table class='table-result'><thead style='background-color: white'><tr></tr></thead><tbody></tbody></table></div>"
      ]
     },
     "metadata": {
      "application/vnd.databricks.v1+output": {
       "addedWidgets": {},
       "aggData": [],
       "aggError": "",
       "aggOverflow": false,
       "aggSchema": [],
       "aggSeriesLimitReached": false,
       "aggType": "",
       "arguments": {},
       "columnCustomDisplayInfos": {},
       "data": [],
       "datasetInfos": [],
       "dbfsResultPath": null,
       "isJsonSchema": true,
       "metadata": {
        "isDbfsCommandResult": false
       },
       "overflow": false,
       "plotOptions": {
        "customPlotOptions": {},
        "displayType": "table",
        "pivotAggregation": null,
        "pivotColumns": null,
        "xColumns": null,
        "yColumns": null
       },
       "removedWidgets": [],
       "schema": [],
       "type": "table"
      }
     },
     "output_type": "display_data"
    }
   ],
   "source": [
    "ALTER TABLE deltacatalog.deltadb.invoices_se\n",
    "ADD COLUMNS (quantity INT);"
   ]
  },
  {
   "cell_type": "code",
   "execution_count": 0,
   "metadata": {
    "application/vnd.databricks.v1+cell": {
     "cellMetadata": {
      "byteLimit": 2048000,
      "rowLimit": 10000
     },
     "inputWidgets": {},
     "nuid": "2564fe75-a70a-409c-aa31-0d658eb2499f",
     "showTitle": false,
     "tableResultSettingsMap": {},
     "title": ""
    }
   },
   "outputs": [
    {
     "output_type": "display_data",
     "data": {
      "text/html": [
       "<style scoped>\n",
       "  .table-result-container {\n",
       "    max-height: 300px;\n",
       "    overflow: auto;\n",
       "  }\n",
       "  table, th, td {\n",
       "    border: 1px solid black;\n",
       "    border-collapse: collapse;\n",
       "  }\n",
       "  th, td {\n",
       "    padding: 5px;\n",
       "  }\n",
       "  th {\n",
       "    text-align: left;\n",
       "  }\n",
       "</style><div class='table-result-container'><table class='table-result'><thead style='background-color: white'><tr><th>num_affected_rows</th><th>num_inserted_rows</th></tr></thead><tbody><tr><td>5</td><td>5</td></tr></tbody></table></div>"
      ]
     },
     "metadata": {
      "application/vnd.databricks.v1+output": {
       "addedWidgets": {},
       "aggData": [],
       "aggError": "",
       "aggOverflow": false,
       "aggSchema": [],
       "aggSeriesLimitReached": false,
       "aggType": "",
       "arguments": {},
       "columnCustomDisplayInfos": {},
       "data": [
        [
         5,
         5
        ]
       ],
       "datasetInfos": [],
       "dbfsResultPath": null,
       "isJsonSchema": true,
       "metadata": {
        "isDbfsCommandResult": false
       },
       "overflow": false,
       "plotOptions": {
        "customPlotOptions": {},
        "displayType": "table",
        "pivotAggregation": null,
        "pivotColumns": null,
        "xColumns": null,
        "yColumns": null
       },
       "removedWidgets": [],
       "schema": [
        {
         "metadata": "{}",
         "name": "num_affected_rows",
         "type": "\"long\""
        },
        {
         "metadata": "{}",
         "name": "num_inserted_rows",
         "type": "\"long\""
        }
       ],
       "type": "table"
      }
     },
     "output_type": "display_data"
    }
   ],
   "source": [
    "INSERT INTO deltacatalog.deltadb.invoices_se\n",
    "SELECT customer_id, invoice_no, price, invoice_date, quantity\n",
    "FROM PARQUET.`abfss://labdata@dbdeltalabstorageacct.dfs.core.windows.net/invoices/invoices_1_100.parquet`\n",
    "WHERE customer_id BETWEEN 6 AND 10 "
   ]
  },
  {
   "cell_type": "code",
   "execution_count": 0,
   "metadata": {
    "application/vnd.databricks.v1+cell": {
     "cellMetadata": {
      "byteLimit": 2048000,
      "rowLimit": 10000
     },
     "inputWidgets": {},
     "nuid": "a2ab35b3-85a6-4673-bb73-e0468a101638",
     "showTitle": false,
     "tableResultSettingsMap": {},
     "title": ""
    }
   },
   "outputs": [
    {
     "output_type": "display_data",
     "data": {
      "text/html": [
       "<style scoped>\n",
       "  .table-result-container {\n",
       "    max-height: 300px;\n",
       "    overflow: auto;\n",
       "  }\n",
       "  table, th, td {\n",
       "    border: 1px solid black;\n",
       "    border-collapse: collapse;\n",
       "  }\n",
       "  th, td {\n",
       "    padding: 5px;\n",
       "  }\n",
       "  th {\n",
       "    text-align: left;\n",
       "  }\n",
       "</style><div class='table-result-container'><table class='table-result'><thead style='background-color: white'><tr><th>customer_id</th><th>invoice_no</th><th>price</th><th>invoice_date</th><th>quantity</th></tr></thead><tbody><tr><td>6</td><td>I303349</td><td>71.68</td><td>2021-06-03</td><td>2</td></tr><tr><td>7</td><td>I336350</td><td>15.15</td><td>2021-11-25</td><td>1</td></tr><tr><td>8</td><td>I134255</td><td>1200.32</td><td>2022-10-13</td><td>4</td></tr><tr><td>9</td><td>I306929</td><td>600.16</td><td>2021-08-06</td><td>2</td></tr><tr><td>10</td><td>I280920</td><td>900.24</td><td>2021-04-23</td><td>3</td></tr><tr><td>1</td><td>I178410</td><td>1500.4</td><td>2021-11-26</td><td>null</td></tr><tr><td>2</td><td>I158163</td><td>1200.34</td><td>2023-03-03</td><td>null</td></tr><tr><td>3</td><td>I262373</td><td>107.52</td><td>2022-12-01</td><td>null</td></tr><tr><td>4</td><td>I334895</td><td>26.15</td><td>2021-08-15</td><td>null</td></tr><tr><td>5</td><td>I202043</td><td>35.84</td><td>2021-07-25</td><td>null</td></tr></tbody></table></div>"
      ]
     },
     "metadata": {
      "application/vnd.databricks.v1+output": {
       "addedWidgets": {},
       "aggData": [],
       "aggError": "",
       "aggOverflow": false,
       "aggSchema": [],
       "aggSeriesLimitReached": false,
       "aggType": "",
       "arguments": {},
       "columnCustomDisplayInfos": {},
       "data": [
        [
         6,
         "I303349",
         71.68,
         "2021-06-03",
         2
        ],
        [
         7,
         "I336350",
         15.15,
         "2021-11-25",
         1
        ],
        [
         8,
         "I134255",
         1200.32,
         "2022-10-13",
         4
        ],
        [
         9,
         "I306929",
         600.16,
         "2021-08-06",
         2
        ],
        [
         10,
         "I280920",
         900.24,
         "2021-04-23",
         3
        ],
        [
         1,
         "I178410",
         1500.4,
         "2021-11-26",
         null
        ],
        [
         2,
         "I158163",
         1200.34,
         "2023-03-03",
         null
        ],
        [
         3,
         "I262373",
         107.52,
         "2022-12-01",
         null
        ],
        [
         4,
         "I334895",
         26.15,
         "2021-08-15",
         null
        ],
        [
         5,
         "I202043",
         35.84,
         "2021-07-25",
         null
        ]
       ],
       "datasetInfos": [],
       "dbfsResultPath": null,
       "isJsonSchema": true,
       "metadata": {
        "isDbfsCommandResult": false
       },
       "overflow": false,
       "plotOptions": {
        "customPlotOptions": {},
        "displayType": "table",
        "pivotAggregation": null,
        "pivotColumns": null,
        "xColumns": null,
        "yColumns": null
       },
       "removedWidgets": [],
       "schema": [
        {
         "metadata": "{}",
         "name": "customer_id",
         "type": "\"integer\""
        },
        {
         "metadata": "{}",
         "name": "invoice_no",
         "type": "\"string\""
        },
        {
         "metadata": "{}",
         "name": "price",
         "type": "\"float\""
        },
        {
         "metadata": "{}",
         "name": "invoice_date",
         "type": "\"date\""
        },
        {
         "metadata": "{}",
         "name": "quantity",
         "type": "\"integer\""
        }
       ],
       "type": "table"
      }
     },
     "output_type": "display_data"
    }
   ],
   "source": [
    "SELECT * FROM deltacatalog.deltadb.invoices_se;"
   ]
  },
  {
   "cell_type": "code",
   "execution_count": 0,
   "metadata": {
    "application/vnd.databricks.v1+cell": {
     "cellMetadata": {
      "byteLimit": 2048000,
      "rowLimit": 10000
     },
     "inputWidgets": {},
     "nuid": "a7efabb9-f93a-4249-bba0-554fc9b55cc7",
     "showTitle": false,
     "tableResultSettingsMap": {},
     "title": ""
    }
   },
   "outputs": [
    {
     "output_type": "display_data",
     "data": {
      "text/html": [
       "<style scoped>\n",
       "  .table-result-container {\n",
       "    max-height: 300px;\n",
       "    overflow: auto;\n",
       "  }\n",
       "  table, th, td {\n",
       "    border: 1px solid black;\n",
       "    border-collapse: collapse;\n",
       "  }\n",
       "  th, td {\n",
       "    padding: 5px;\n",
       "  }\n",
       "  th {\n",
       "    text-align: left;\n",
       "  }\n",
       "</style><div class='table-result-container'><table class='table-result'><thead style='background-color: white'><tr><th>key</th><th>value</th></tr></thead><tbody><tr><td>spark.databricks.delta.schema.autoMerge.enabled</td><td>false</td></tr></tbody></table></div>"
      ]
     },
     "metadata": {
      "application/vnd.databricks.v1+output": {
       "addedWidgets": {},
       "aggData": [],
       "aggError": "",
       "aggOverflow": false,
       "aggSchema": [],
       "aggSeriesLimitReached": false,
       "aggType": "",
       "arguments": {},
       "columnCustomDisplayInfos": {},
       "data": [
        [
         "spark.databricks.delta.schema.autoMerge.enabled",
         "false"
        ]
       ],
       "datasetInfos": [],
       "dbfsResultPath": null,
       "isJsonSchema": true,
       "metadata": {
        "isDbfsCommandResult": false
       },
       "overflow": false,
       "plotOptions": {
        "customPlotOptions": {},
        "displayType": "table",
        "pivotAggregation": null,
        "pivotColumns": null,
        "xColumns": null,
        "yColumns": null
       },
       "removedWidgets": [],
       "schema": [
        {
         "metadata": "{}",
         "name": "key",
         "type": "\"string\""
        },
        {
         "metadata": "{}",
         "name": "value",
         "type": "\"string\""
        }
       ],
       "type": "table"
      }
     },
     "output_type": "display_data"
    }
   ],
   "source": [
    "SET spark.databricks.delta.schema.autoMerge.enabled = false;"
   ]
  },
  {
   "cell_type": "code",
   "execution_count": 0,
   "metadata": {
    "application/vnd.databricks.v1+cell": {
     "cellMetadata": {
      "byteLimit": 2048000,
      "rowLimit": 10000
     },
     "inputWidgets": {},
     "nuid": "b16c4f94-7c59-4a05-a923-7e1441f2d6cd",
     "showTitle": false,
     "tableResultSettingsMap": {},
     "title": ""
    }
   },
   "outputs": [
    {
     "output_type": "display_data",
     "data": {
      "text/html": [
       "<style scoped>\n",
       "  .table-result-container {\n",
       "    max-height: 300px;\n",
       "    overflow: auto;\n",
       "  }\n",
       "  table, th, td {\n",
       "    border: 1px solid black;\n",
       "    border-collapse: collapse;\n",
       "  }\n",
       "  th, td {\n",
       "    padding: 5px;\n",
       "  }\n",
       "  th {\n",
       "    text-align: left;\n",
       "  }\n",
       "</style><div class='table-result-container'><table class='table-result'><thead style='background-color: white'><tr><th>num_affected_rows</th><th>num_inserted_rows</th></tr></thead><tbody><tr><td>5</td><td>5</td></tr></tbody></table></div>"
      ]
     },
     "metadata": {
      "application/vnd.databricks.v1+output": {
       "addedWidgets": {},
       "aggData": [],
       "aggError": "",
       "aggOverflow": false,
       "aggSchema": [],
       "aggSeriesLimitReached": false,
       "aggType": "",
       "arguments": {},
       "columnCustomDisplayInfos": {},
       "data": [
        [
         5,
         5
        ]
       ],
       "datasetInfos": [],
       "dbfsResultPath": null,
       "isJsonSchema": true,
       "metadata": {
        "isDbfsCommandResult": false
       },
       "overflow": false,
       "plotOptions": {
        "customPlotOptions": {},
        "displayType": "table",
        "pivotAggregation": null,
        "pivotColumns": null,
        "xColumns": null,
        "yColumns": null
       },
       "removedWidgets": [],
       "schema": [
        {
         "metadata": "{}",
         "name": "num_affected_rows",
         "type": "\"long\""
        },
        {
         "metadata": "{}",
         "name": "num_inserted_rows",
         "type": "\"long\""
        }
       ],
       "type": "table"
      }
     },
     "output_type": "display_data"
    }
   ],
   "source": [
    "INSERT INTO deltacatalog.deltadb.invoices_se\n",
    "SELECT customer_id, invoice_no, price, invoice_date, quantity, payment_method \n",
    "FROM PARQUET.`abfss://labdata@dbdeltalabstorageacct.dfs.core.windows.net/invoices/invoices_1_100.parquet`\n",
    "WHERE customer_id BETWEEN 11 AND 15 "
   ]
  },
  {
   "cell_type": "code",
   "execution_count": 0,
   "metadata": {
    "application/vnd.databricks.v1+cell": {
     "cellMetadata": {
      "byteLimit": 2048000,
      "rowLimit": 10000
     },
     "inputWidgets": {},
     "nuid": "7fb2c6d2-b851-48a7-9ae0-b0fecdfb2789",
     "showTitle": false,
     "tableResultSettingsMap": {},
     "title": ""
    }
   },
   "outputs": [
    {
     "output_type": "display_data",
     "data": {
      "text/html": [
       "<style scoped>\n",
       "  .table-result-container {\n",
       "    max-height: 300px;\n",
       "    overflow: auto;\n",
       "  }\n",
       "  table, th, td {\n",
       "    border: 1px solid black;\n",
       "    border-collapse: collapse;\n",
       "  }\n",
       "  th, td {\n",
       "    padding: 5px;\n",
       "  }\n",
       "  th {\n",
       "    text-align: left;\n",
       "  }\n",
       "</style><div class='table-result-container'><table class='table-result'><thead style='background-color: white'><tr><th>customer_id</th><th>invoice_no</th><th>price</th><th>invoice_date</th><th>quantity</th><th>payment_method</th></tr></thead><tbody><tr><td>11</td><td>I235733</td><td>162.64</td><td>2022-01-04</td><td>4</td><td>Cash</td></tr><tr><td>12</td><td>I272400</td><td>5.23</td><td>2022-01-10</td><td>1</td><td>Cash</td></tr><tr><td>13</td><td>I223729</td><td>107.52</td><td>2022-08-02</td><td>3</td><td>Cash</td></tr><tr><td>14</td><td>I299506</td><td>600.17</td><td>2021-01-06</td><td>1</td><td>Cash</td></tr><tr><td>15</td><td>I106485</td><td>30.3</td><td>2022-12-01</td><td>2</td><td>Debit Card</td></tr><tr><td>6</td><td>I303349</td><td>71.68</td><td>2021-06-03</td><td>2</td><td>null</td></tr><tr><td>7</td><td>I336350</td><td>15.15</td><td>2021-11-25</td><td>1</td><td>null</td></tr><tr><td>8</td><td>I134255</td><td>1200.32</td><td>2022-10-13</td><td>4</td><td>null</td></tr><tr><td>9</td><td>I306929</td><td>600.16</td><td>2021-08-06</td><td>2</td><td>null</td></tr><tr><td>10</td><td>I280920</td><td>900.24</td><td>2021-04-23</td><td>3</td><td>null</td></tr><tr><td>1</td><td>I178410</td><td>1500.4</td><td>2021-11-26</td><td>null</td><td>null</td></tr><tr><td>2</td><td>I158163</td><td>1200.34</td><td>2023-03-03</td><td>null</td><td>null</td></tr><tr><td>3</td><td>I262373</td><td>107.52</td><td>2022-12-01</td><td>null</td><td>null</td></tr><tr><td>4</td><td>I334895</td><td>26.15</td><td>2021-08-15</td><td>null</td><td>null</td></tr><tr><td>5</td><td>I202043</td><td>35.84</td><td>2021-07-25</td><td>null</td><td>null</td></tr></tbody></table></div>"
      ]
     },
     "metadata": {
      "application/vnd.databricks.v1+output": {
       "addedWidgets": {},
       "aggData": [],
       "aggError": "",
       "aggOverflow": false,
       "aggSchema": [],
       "aggSeriesLimitReached": false,
       "aggType": "",
       "arguments": {},
       "columnCustomDisplayInfos": {},
       "data": [
        [
         11,
         "I235733",
         162.64,
         "2022-01-04",
         4,
         "Cash"
        ],
        [
         12,
         "I272400",
         5.23,
         "2022-01-10",
         1,
         "Cash"
        ],
        [
         13,
         "I223729",
         107.52,
         "2022-08-02",
         3,
         "Cash"
        ],
        [
         14,
         "I299506",
         600.17,
         "2021-01-06",
         1,
         "Cash"
        ],
        [
         15,
         "I106485",
         30.3,
         "2022-12-01",
         2,
         "Debit Card"
        ],
        [
         6,
         "I303349",
         71.68,
         "2021-06-03",
         2,
         null
        ],
        [
         7,
         "I336350",
         15.15,
         "2021-11-25",
         1,
         null
        ],
        [
         8,
         "I134255",
         1200.32,
         "2022-10-13",
         4,
         null
        ],
        [
         9,
         "I306929",
         600.16,
         "2021-08-06",
         2,
         null
        ],
        [
         10,
         "I280920",
         900.24,
         "2021-04-23",
         3,
         null
        ],
        [
         1,
         "I178410",
         1500.4,
         "2021-11-26",
         null,
         null
        ],
        [
         2,
         "I158163",
         1200.34,
         "2023-03-03",
         null,
         null
        ],
        [
         3,
         "I262373",
         107.52,
         "2022-12-01",
         null,
         null
        ],
        [
         4,
         "I334895",
         26.15,
         "2021-08-15",
         null,
         null
        ],
        [
         5,
         "I202043",
         35.84,
         "2021-07-25",
         null,
         null
        ]
       ],
       "datasetInfos": [],
       "dbfsResultPath": null,
       "isJsonSchema": true,
       "metadata": {
        "isDbfsCommandResult": false
       },
       "overflow": false,
       "plotOptions": {
        "customPlotOptions": {},
        "displayType": "table",
        "pivotAggregation": null,
        "pivotColumns": null,
        "xColumns": null,
        "yColumns": null
       },
       "removedWidgets": [],
       "schema": [
        {
         "metadata": "{}",
         "name": "customer_id",
         "type": "\"integer\""
        },
        {
         "metadata": "{}",
         "name": "invoice_no",
         "type": "\"string\""
        },
        {
         "metadata": "{}",
         "name": "price",
         "type": "\"float\""
        },
        {
         "metadata": "{}",
         "name": "invoice_date",
         "type": "\"date\""
        },
        {
         "metadata": "{}",
         "name": "quantity",
         "type": "\"integer\""
        },
        {
         "metadata": "{}",
         "name": "payment_method",
         "type": "\"string\""
        }
       ],
       "type": "table"
      }
     },
     "output_type": "display_data"
    }
   ],
   "source": [
    "SELECT * FROM deltacatalog.deltadb.invoices_se;"
   ]
  },
  {
   "cell_type": "markdown",
   "metadata": {
    "application/vnd.databricks.v1+cell": {
     "cellMetadata": {},
     "inputWidgets": {},
     "nuid": "655a287b-f568-4f4b-8089-d2b80561912b",
     "showTitle": false,
     "tableResultSettingsMap": {},
     "title": ""
    }
   },
   "source": [
    "#### Scenario 2: Type Widening"
   ]
  },
  {
   "cell_type": "code",
   "execution_count": 0,
   "metadata": {
    "application/vnd.databricks.v1+cell": {
     "cellMetadata": {
      "byteLimit": 2048000,
      "rowLimit": 10000
     },
     "inputWidgets": {},
     "nuid": "fd19463b-34bd-4b79-a607-99a4ffaabb93",
     "showTitle": false,
     "tableResultSettingsMap": {},
     "title": ""
    }
   },
   "outputs": [
    {
     "output_type": "display_data",
     "data": {
      "text/html": [
       "<style scoped>\n",
       "  .table-result-container {\n",
       "    max-height: 300px;\n",
       "    overflow: auto;\n",
       "  }\n",
       "  table, th, td {\n",
       "    border: 1px solid black;\n",
       "    border-collapse: collapse;\n",
       "  }\n",
       "  th, td {\n",
       "    padding: 5px;\n",
       "  }\n",
       "  th {\n",
       "    text-align: left;\n",
       "  }\n",
       "</style><div class='table-result-container'><table class='table-result'><thead style='background-color: white'><tr></tr></thead><tbody></tbody></table></div>"
      ]
     },
     "metadata": {
      "application/vnd.databricks.v1+output": {
       "addedWidgets": {},
       "aggData": [],
       "aggError": "",
       "aggOverflow": false,
       "aggSchema": [],
       "aggSeriesLimitReached": false,
       "aggType": "",
       "arguments": {},
       "columnCustomDisplayInfos": {},
       "data": [],
       "datasetInfos": [],
       "dbfsResultPath": null,
       "isJsonSchema": true,
       "metadata": {
        "isDbfsCommandResult": false
       },
       "overflow": false,
       "plotOptions": {
        "customPlotOptions": {},
        "displayType": "table",
        "pivotAggregation": null,
        "pivotColumns": null,
        "xColumns": null,
        "yColumns": null
       },
       "removedWidgets": [],
       "schema": [],
       "type": "table"
      }
     },
     "output_type": "display_data"
    }
   ],
   "source": [
    "ALTER TABLE deltacatalog.deltadb.invoices_se \n",
    "SET TBLPROPERTIES ('delta.enableTypeWidening' = 'true');"
   ]
  },
  {
   "cell_type": "code",
   "execution_count": 0,
   "metadata": {
    "application/vnd.databricks.v1+cell": {
     "cellMetadata": {
      "byteLimit": 2048000,
      "rowLimit": 10000
     },
     "inputWidgets": {},
     "nuid": "1984ed72-90d2-4ae9-9738-cc82daba5bb3",
     "showTitle": false,
     "tableResultSettingsMap": {},
     "title": ""
    }
   },
   "outputs": [
    {
     "output_type": "display_data",
     "data": {
      "text/html": [
       "<style scoped>\n",
       "  .table-result-container {\n",
       "    max-height: 300px;\n",
       "    overflow: auto;\n",
       "  }\n",
       "  table, th, td {\n",
       "    border: 1px solid black;\n",
       "    border-collapse: collapse;\n",
       "  }\n",
       "  th, td {\n",
       "    padding: 5px;\n",
       "  }\n",
       "  th {\n",
       "    text-align: left;\n",
       "  }\n",
       "</style><div class='table-result-container'><table class='table-result'><thead style='background-color: white'><tr><th>col_name</th><th>data_type</th><th>comment</th></tr></thead><tbody><tr><td>customer_id</td><td>int</td><td>null</td></tr><tr><td>invoice_no</td><td>string</td><td>null</td></tr><tr><td>price</td><td>float</td><td>null</td></tr><tr><td>invoice_date</td><td>date</td><td>null</td></tr><tr><td>quantity</td><td>int</td><td>null</td></tr><tr><td>payment_method</td><td>string</td><td>null</td></tr></tbody></table></div>"
      ]
     },
     "metadata": {
      "application/vnd.databricks.v1+output": {
       "addedWidgets": {},
       "aggData": [],
       "aggError": "",
       "aggOverflow": false,
       "aggSchema": [],
       "aggSeriesLimitReached": false,
       "aggType": "",
       "arguments": {},
       "columnCustomDisplayInfos": {},
       "data": [
        [
         "customer_id",
         "int",
         null
        ],
        [
         "invoice_no",
         "string",
         null
        ],
        [
         "price",
         "float",
         null
        ],
        [
         "invoice_date",
         "date",
         null
        ],
        [
         "quantity",
         "int",
         null
        ],
        [
         "payment_method",
         "string",
         null
        ]
       ],
       "datasetInfos": [],
       "dbfsResultPath": null,
       "isJsonSchema": true,
       "metadata": {
        "isDbfsCommandResult": false
       },
       "overflow": false,
       "plotOptions": {
        "customPlotOptions": {},
        "displayType": "table",
        "pivotAggregation": null,
        "pivotColumns": null,
        "xColumns": null,
        "yColumns": null
       },
       "removedWidgets": [],
       "schema": [
        {
         "metadata": "{\"comment\":\"name of the column\"}",
         "name": "col_name",
         "type": "\"string\""
        },
        {
         "metadata": "{\"comment\":\"data type of the column\"}",
         "name": "data_type",
         "type": "\"string\""
        },
        {
         "metadata": "{\"comment\":\"comment of the column\"}",
         "name": "comment",
         "type": "\"string\""
        }
       ],
       "type": "table"
      }
     },
     "output_type": "display_data"
    }
   ],
   "source": [
    "DESCRIBE TABLE deltacatalog.deltadb.invoices_se; "
   ]
  },
  {
   "cell_type": "code",
   "execution_count": 0,
   "metadata": {
    "application/vnd.databricks.v1+cell": {
     "cellMetadata": {
      "byteLimit": 2048000,
      "rowLimit": 10000
     },
     "inputWidgets": {},
     "nuid": "fbf631b1-2da7-4dee-87f9-42f082d28df5",
     "showTitle": false,
     "tableResultSettingsMap": {},
     "title": ""
    }
   },
   "outputs": [
    {
     "output_type": "display_data",
     "data": {
      "text/html": [
       "<style scoped>\n",
       "  .table-result-container {\n",
       "    max-height: 300px;\n",
       "    overflow: auto;\n",
       "  }\n",
       "  table, th, td {\n",
       "    border: 1px solid black;\n",
       "    border-collapse: collapse;\n",
       "  }\n",
       "  th, td {\n",
       "    padding: 5px;\n",
       "  }\n",
       "  th {\n",
       "    text-align: left;\n",
       "  }\n",
       "</style><div class='table-result-container'><table class='table-result'><thead style='background-color: white'><tr><th>num_affected_rows</th><th>num_inserted_rows</th></tr></thead><tbody><tr><td>1</td><td>1</td></tr></tbody></table></div>"
      ]
     },
     "metadata": {
      "application/vnd.databricks.v1+output": {
       "addedWidgets": {},
       "aggData": [],
       "aggError": "",
       "aggOverflow": false,
       "aggSchema": [],
       "aggSeriesLimitReached": false,
       "aggType": "",
       "arguments": {},
       "columnCustomDisplayInfos": {},
       "data": [
        [
         1,
         1
        ]
       ],
       "datasetInfos": [],
       "dbfsResultPath": null,
       "isJsonSchema": true,
       "metadata": {
        "isDbfsCommandResult": false
       },
       "overflow": false,
       "plotOptions": {
        "customPlotOptions": {},
        "displayType": "table",
        "pivotAggregation": null,
        "pivotColumns": null,
        "xColumns": null,
        "yColumns": null
       },
       "removedWidgets": [],
       "schema": [
        {
         "metadata": "{}",
         "name": "num_affected_rows",
         "type": "\"long\""
        },
        {
         "metadata": "{}",
         "name": "num_inserted_rows",
         "type": "\"long\""
        }
       ],
       "type": "table"
      }
     },
     "output_type": "display_data"
    }
   ],
   "source": [
    "INSERT INTO deltacatalog.deltadb.invoices_se \n",
    "VALUES (123456789012345,\t'I106485',\t30.299999237060547,\t'2022-12-01',\t2,\t'Debit Card')"
   ]
  },
  {
   "cell_type": "code",
   "execution_count": 0,
   "metadata": {
    "application/vnd.databricks.v1+cell": {
     "cellMetadata": {
      "byteLimit": 2048000,
      "rowLimit": 10000
     },
     "inputWidgets": {},
     "nuid": "e3bc0b90-4964-4920-aeb7-c8e99a267d42",
     "showTitle": false,
     "tableResultSettingsMap": {},
     "title": ""
    }
   },
   "outputs": [
    {
     "output_type": "display_data",
     "data": {
      "text/html": [
       "<style scoped>\n",
       "  .table-result-container {\n",
       "    max-height: 300px;\n",
       "    overflow: auto;\n",
       "  }\n",
       "  table, th, td {\n",
       "    border: 1px solid black;\n",
       "    border-collapse: collapse;\n",
       "  }\n",
       "  th, td {\n",
       "    padding: 5px;\n",
       "  }\n",
       "  th {\n",
       "    text-align: left;\n",
       "  }\n",
       "</style><div class='table-result-container'><table class='table-result'><thead style='background-color: white'><tr></tr></thead><tbody></tbody></table></div>"
      ]
     },
     "metadata": {
      "application/vnd.databricks.v1+output": {
       "addedWidgets": {},
       "aggData": [],
       "aggError": "",
       "aggOverflow": false,
       "aggSchema": [],
       "aggSeriesLimitReached": false,
       "aggType": "",
       "arguments": {},
       "columnCustomDisplayInfos": {},
       "data": [],
       "datasetInfos": [],
       "dbfsResultPath": null,
       "isJsonSchema": true,
       "metadata": {
        "isDbfsCommandResult": false
       },
       "overflow": false,
       "plotOptions": {
        "customPlotOptions": {},
        "displayType": "table",
        "pivotAggregation": null,
        "pivotColumns": null,
        "xColumns": null,
        "yColumns": null
       },
       "removedWidgets": [],
       "schema": [],
       "type": "table"
      }
     },
     "output_type": "display_data"
    }
   ],
   "source": [
    "ALTER TABLE deltacatalog.deltadb.invoices_se\n",
    "ALTER COLUMN customer_id TYPE BIGINT;"
   ]
  },
  {
   "cell_type": "code",
   "execution_count": 0,
   "metadata": {
    "application/vnd.databricks.v1+cell": {
     "cellMetadata": {
      "byteLimit": 2048000,
      "rowLimit": 10000
     },
     "inputWidgets": {},
     "nuid": "ba915d75-e902-40e5-ab3d-f36bc31331b2",
     "showTitle": false,
     "tableResultSettingsMap": {},
     "title": ""
    }
   },
   "outputs": [
    {
     "output_type": "display_data",
     "data": {
      "text/html": [
       "<style scoped>\n",
       "  .table-result-container {\n",
       "    max-height: 300px;\n",
       "    overflow: auto;\n",
       "  }\n",
       "  table, th, td {\n",
       "    border: 1px solid black;\n",
       "    border-collapse: collapse;\n",
       "  }\n",
       "  th, td {\n",
       "    padding: 5px;\n",
       "  }\n",
       "  th {\n",
       "    text-align: left;\n",
       "  }\n",
       "</style><div class='table-result-container'><table class='table-result'><thead style='background-color: white'><tr><th>col_name</th><th>data_type</th><th>comment</th></tr></thead><tbody><tr><td>customer_id</td><td>bigint</td><td>null</td></tr><tr><td>invoice_no</td><td>string</td><td>null</td></tr><tr><td>price</td><td>float</td><td>null</td></tr><tr><td>invoice_date</td><td>date</td><td>null</td></tr><tr><td>quantity</td><td>int</td><td>null</td></tr><tr><td>payment_method</td><td>string</td><td>null</td></tr></tbody></table></div>"
      ]
     },
     "metadata": {
      "application/vnd.databricks.v1+output": {
       "addedWidgets": {},
       "aggData": [],
       "aggError": "",
       "aggOverflow": false,
       "aggSchema": [],
       "aggSeriesLimitReached": false,
       "aggType": "",
       "arguments": {},
       "columnCustomDisplayInfos": {},
       "data": [
        [
         "customer_id",
         "bigint",
         null
        ],
        [
         "invoice_no",
         "string",
         null
        ],
        [
         "price",
         "float",
         null
        ],
        [
         "invoice_date",
         "date",
         null
        ],
        [
         "quantity",
         "int",
         null
        ],
        [
         "payment_method",
         "string",
         null
        ]
       ],
       "datasetInfos": [],
       "dbfsResultPath": null,
       "isJsonSchema": true,
       "metadata": {
        "isDbfsCommandResult": false
       },
       "overflow": false,
       "plotOptions": {
        "customPlotOptions": {},
        "displayType": "table",
        "pivotAggregation": null,
        "pivotColumns": null,
        "xColumns": null,
        "yColumns": null
       },
       "removedWidgets": [],
       "schema": [
        {
         "metadata": "{\"comment\":\"name of the column\"}",
         "name": "col_name",
         "type": "\"string\""
        },
        {
         "metadata": "{\"comment\":\"data type of the column\"}",
         "name": "data_type",
         "type": "\"string\""
        },
        {
         "metadata": "{\"comment\":\"comment of the column\"}",
         "name": "comment",
         "type": "\"string\""
        }
       ],
       "type": "table"
      }
     },
     "output_type": "display_data"
    }
   ],
   "source": [
    "DESCRIBE TABLE deltacatalog.deltadb.invoices_se;"
   ]
  },
  {
   "cell_type": "code",
   "execution_count": 0,
   "metadata": {
    "application/vnd.databricks.v1+cell": {
     "cellMetadata": {
      "byteLimit": 2048000,
      "rowLimit": 10000
     },
     "inputWidgets": {},
     "nuid": "55cee028-cfbe-43fd-b882-0b386b508923",
     "showTitle": false,
     "tableResultSettingsMap": {},
     "title": ""
    }
   },
   "outputs": [
    {
     "output_type": "display_data",
     "data": {
      "text/html": [
       "<style scoped>\n",
       "  .table-result-container {\n",
       "    max-height: 300px;\n",
       "    overflow: auto;\n",
       "  }\n",
       "  table, th, td {\n",
       "    border: 1px solid black;\n",
       "    border-collapse: collapse;\n",
       "  }\n",
       "  th, td {\n",
       "    padding: 5px;\n",
       "  }\n",
       "  th {\n",
       "    text-align: left;\n",
       "  }\n",
       "</style><div class='table-result-container'><table class='table-result'><thead style='background-color: white'><tr><th>num_affected_rows</th><th>num_inserted_rows</th></tr></thead><tbody><tr><td>1</td><td>1</td></tr></tbody></table></div>"
      ]
     },
     "metadata": {
      "application/vnd.databricks.v1+output": {
       "addedWidgets": {},
       "aggData": [],
       "aggError": "",
       "aggOverflow": false,
       "aggSchema": [],
       "aggSeriesLimitReached": false,
       "aggType": "",
       "arguments": {},
       "columnCustomDisplayInfos": {},
       "data": [
        [
         1,
         1
        ]
       ],
       "datasetInfos": [],
       "dbfsResultPath": null,
       "isJsonSchema": true,
       "metadata": {
        "isDbfsCommandResult": false
       },
       "overflow": false,
       "plotOptions": {
        "customPlotOptions": {},
        "displayType": "table",
        "pivotAggregation": null,
        "pivotColumns": null,
        "xColumns": null,
        "yColumns": null
       },
       "removedWidgets": [],
       "schema": [
        {
         "metadata": "{}",
         "name": "num_affected_rows",
         "type": "\"long\""
        },
        {
         "metadata": "{}",
         "name": "num_inserted_rows",
         "type": "\"long\""
        }
       ],
       "type": "table"
      }
     },
     "output_type": "display_data"
    }
   ],
   "source": [
    "INSERT INTO deltacatalog.deltadb.invoices_se \n",
    "VALUES (123456789012345,\t'I106485',\t30.299999237060547,\t'2022-12-01',\t2,\t'Debit Card')"
   ]
  },
  {
   "cell_type": "code",
   "execution_count": 0,
   "metadata": {
    "application/vnd.databricks.v1+cell": {
     "cellMetadata": {
      "byteLimit": 2048000,
      "rowLimit": 10000
     },
     "inputWidgets": {},
     "nuid": "82e331f4-e431-474a-9c96-7c61686a17f2",
     "showTitle": false,
     "tableResultSettingsMap": {},
     "title": ""
    }
   },
   "outputs": [
    {
     "output_type": "display_data",
     "data": {
      "text/html": [
       "<style scoped>\n",
       "  .table-result-container {\n",
       "    max-height: 300px;\n",
       "    overflow: auto;\n",
       "  }\n",
       "  table, th, td {\n",
       "    border: 1px solid black;\n",
       "    border-collapse: collapse;\n",
       "  }\n",
       "  th, td {\n",
       "    padding: 5px;\n",
       "  }\n",
       "  th {\n",
       "    text-align: left;\n",
       "  }\n",
       "</style><div class='table-result-container'><table class='table-result'><thead style='background-color: white'><tr><th>customer_id</th><th>invoice_no</th><th>price</th><th>invoice_date</th><th>quantity</th><th>payment_method</th></tr></thead><tbody><tr><td>123456789012345</td><td>I106485</td><td>30.3</td><td>2022-12-01</td><td>2</td><td>Debit Card</td></tr><tr><td>123456789012345</td><td>I106485</td><td>30.3</td><td>2022-12-01</td><td>2</td><td>Debit Card</td></tr></tbody></table></div>"
      ]
     },
     "metadata": {
      "application/vnd.databricks.v1+output": {
       "addedWidgets": {},
       "aggData": [],
       "aggError": "",
       "aggOverflow": false,
       "aggSchema": [],
       "aggSeriesLimitReached": false,
       "aggType": "",
       "arguments": {},
       "columnCustomDisplayInfos": {},
       "data": [
        [
         123456789012345,
         "I106485",
         30.3,
         "2022-12-01",
         2,
         "Debit Card"
        ],
        [
         123456789012345,
         "I106485",
         30.3,
         "2022-12-01",
         2,
         "Debit Card"
        ]
       ],
       "datasetInfos": [],
       "dbfsResultPath": null,
       "isJsonSchema": true,
       "metadata": {
        "isDbfsCommandResult": false
       },
       "overflow": false,
       "plotOptions": {
        "customPlotOptions": {},
        "displayType": "table",
        "pivotAggregation": null,
        "pivotColumns": null,
        "xColumns": null,
        "yColumns": null
       },
       "removedWidgets": [],
       "schema": [
        {
         "metadata": "{\"delta.typeChanges\":[{\"toType\":\"long\",\"fromType\":\"integer\",\"tableVersion\":6}]}",
         "name": "customer_id",
         "type": "\"long\""
        },
        {
         "metadata": "{}",
         "name": "invoice_no",
         "type": "\"string\""
        },
        {
         "metadata": "{}",
         "name": "price",
         "type": "\"float\""
        },
        {
         "metadata": "{}",
         "name": "invoice_date",
         "type": "\"date\""
        },
        {
         "metadata": "{}",
         "name": "quantity",
         "type": "\"integer\""
        },
        {
         "metadata": "{}",
         "name": "payment_method",
         "type": "\"string\""
        }
       ],
       "type": "table"
      }
     },
     "output_type": "display_data"
    }
   ],
   "source": [
    "SELECT * FROM deltacatalog.deltadb.invoices_se\n",
    "WHERE customer_id = 123456789012345;"
   ]
  },
  {
   "cell_type": "markdown",
   "metadata": {
    "application/vnd.databricks.v1+cell": {
     "cellMetadata": {},
     "inputWidgets": {},
     "nuid": "c15875db-6eee-4fa4-8a38-b8e0b35d5e90",
     "showTitle": false,
     "tableResultSettingsMap": {},
     "title": ""
    }
   },
   "source": [
    "#### Scenario 3: Nested Structure Evolution"
   ]
  },
  {
   "cell_type": "code",
   "execution_count": 0,
   "metadata": {
    "application/vnd.databricks.v1+cell": {
     "cellMetadata": {
      "byteLimit": 2048000,
      "rowLimit": 10000
     },
     "inputWidgets": {},
     "nuid": "d1b340e7-632c-49ef-b2f6-de248399dc53",
     "showTitle": false,
     "tableResultSettingsMap": {},
     "title": ""
    }
   },
   "outputs": [
    {
     "output_type": "display_data",
     "data": {
      "text/html": [
       "<style scoped>\n",
       "  .table-result-container {\n",
       "    max-height: 300px;\n",
       "    overflow: auto;\n",
       "  }\n",
       "  table, th, td {\n",
       "    border: 1px solid black;\n",
       "    border-collapse: collapse;\n",
       "  }\n",
       "  th, td {\n",
       "    padding: 5px;\n",
       "  }\n",
       "  th {\n",
       "    text-align: left;\n",
       "  }\n",
       "</style><div class='table-result-container'><table class='table-result'><thead style='background-color: white'><tr></tr></thead><tbody></tbody></table></div>"
      ]
     },
     "metadata": {
      "application/vnd.databricks.v1+output": {
       "addedWidgets": {},
       "aggData": [],
       "aggError": "",
       "aggOverflow": false,
       "aggSchema": [],
       "aggSeriesLimitReached": false,
       "aggType": "",
       "arguments": {},
       "columnCustomDisplayInfos": {},
       "data": [],
       "datasetInfos": [],
       "dbfsResultPath": null,
       "isJsonSchema": true,
       "metadata": {
        "isDbfsCommandResult": false
       },
       "overflow": false,
       "plotOptions": {
        "customPlotOptions": {},
        "displayType": "table",
        "pivotAggregation": null,
        "pivotColumns": null,
        "xColumns": null,
        "yColumns": null
       },
       "removedWidgets": [],
       "schema": [],
       "type": "table"
      }
     },
     "output_type": "display_data"
    }
   ],
   "source": [
    "ALTER TABLE deltacatalog.deltadb.invoices_se\n",
    "ADD COLUMNS purchase_details STRUCT<\n",
    "  mall_pin_code INT,\n",
    "  store_code INT\n",
    ">;"
   ]
  },
  {
   "cell_type": "code",
   "execution_count": 0,
   "metadata": {
    "application/vnd.databricks.v1+cell": {
     "cellMetadata": {
      "byteLimit": 2048000,
      "rowLimit": 10000
     },
     "inputWidgets": {},
     "nuid": "6c4674e3-a57e-45a3-92fb-fbd9549895ab",
     "showTitle": false,
     "tableResultSettingsMap": {},
     "title": ""
    }
   },
   "outputs": [
    {
     "output_type": "display_data",
     "data": {
      "text/html": [
       "<style scoped>\n",
       "  .table-result-container {\n",
       "    max-height: 300px;\n",
       "    overflow: auto;\n",
       "  }\n",
       "  table, th, td {\n",
       "    border: 1px solid black;\n",
       "    border-collapse: collapse;\n",
       "  }\n",
       "  th, td {\n",
       "    padding: 5px;\n",
       "  }\n",
       "  th {\n",
       "    text-align: left;\n",
       "  }\n",
       "</style><div class='table-result-container'><table class='table-result'><thead style='background-color: white'><tr><th>num_affected_rows</th><th>num_inserted_rows</th></tr></thead><tbody><tr><td>1</td><td>1</td></tr></tbody></table></div>"
      ]
     },
     "metadata": {
      "application/vnd.databricks.v1+output": {
       "addedWidgets": {},
       "aggData": [],
       "aggError": "",
       "aggOverflow": false,
       "aggSchema": [],
       "aggSeriesLimitReached": false,
       "aggType": "",
       "arguments": {},
       "columnCustomDisplayInfos": {},
       "data": [
        [
         1,
         1
        ]
       ],
       "datasetInfos": [],
       "dbfsResultPath": null,
       "isJsonSchema": true,
       "metadata": {
        "isDbfsCommandResult": false
       },
       "overflow": false,
       "plotOptions": {
        "customPlotOptions": {},
        "displayType": "table",
        "pivotAggregation": null,
        "pivotColumns": null,
        "xColumns": null,
        "yColumns": null
       },
       "removedWidgets": [],
       "schema": [
        {
         "metadata": "{}",
         "name": "num_affected_rows",
         "type": "\"long\""
        },
        {
         "metadata": "{}",
         "name": "num_inserted_rows",
         "type": "\"long\""
        }
       ],
       "type": "table"
      }
     },
     "output_type": "display_data"
    }
   ],
   "source": [
    "INSERT INTO deltacatalog.deltadb.invoices_se \n",
    "VALUES (16,\t'I106485',\t30.299999237060547,\t'2022-12-01',\t2,\t'Debit Card', STRUCT(12345, 879));"
   ]
  },
  {
   "cell_type": "code",
   "execution_count": 0,
   "metadata": {
    "application/vnd.databricks.v1+cell": {
     "cellMetadata": {
      "byteLimit": 2048000,
      "rowLimit": 10000
     },
     "inputWidgets": {},
     "nuid": "a198f5a5-698c-4305-992a-c99b707ae5e6",
     "showTitle": false,
     "tableResultSettingsMap": {},
     "title": ""
    }
   },
   "outputs": [
    {
     "output_type": "display_data",
     "data": {
      "text/html": [
       "<style scoped>\n",
       "  .table-result-container {\n",
       "    max-height: 300px;\n",
       "    overflow: auto;\n",
       "  }\n",
       "  table, th, td {\n",
       "    border: 1px solid black;\n",
       "    border-collapse: collapse;\n",
       "  }\n",
       "  th, td {\n",
       "    padding: 5px;\n",
       "  }\n",
       "  th {\n",
       "    text-align: left;\n",
       "  }\n",
       "</style><div class='table-result-container'><table class='table-result'><thead style='background-color: white'><tr><th>customer_id</th><th>invoice_no</th><th>price</th><th>invoice_date</th><th>quantity</th><th>payment_method</th><th>purchase_details</th></tr></thead><tbody><tr><td>16</td><td>I106485</td><td>30.3</td><td>2022-12-01</td><td>2</td><td>Debit Card</td><td>List(12345, 879)</td></tr><tr><td>11</td><td>I235733</td><td>162.64</td><td>2022-01-04</td><td>4</td><td>Cash</td><td>null</td></tr><tr><td>12</td><td>I272400</td><td>5.23</td><td>2022-01-10</td><td>1</td><td>Cash</td><td>null</td></tr><tr><td>13</td><td>I223729</td><td>107.52</td><td>2022-08-02</td><td>3</td><td>Cash</td><td>null</td></tr><tr><td>14</td><td>I299506</td><td>600.17</td><td>2021-01-06</td><td>1</td><td>Cash</td><td>null</td></tr><tr><td>15</td><td>I106485</td><td>30.3</td><td>2022-12-01</td><td>2</td><td>Debit Card</td><td>null</td></tr><tr><td>123456789012345</td><td>I106485</td><td>30.3</td><td>2022-12-01</td><td>2</td><td>Debit Card</td><td>null</td></tr><tr><td>123456789012345</td><td>I106485</td><td>30.3</td><td>2022-12-01</td><td>2</td><td>Debit Card</td><td>null</td></tr><tr><td>6</td><td>I303349</td><td>71.68</td><td>2021-06-03</td><td>2</td><td>null</td><td>null</td></tr><tr><td>7</td><td>I336350</td><td>15.15</td><td>2021-11-25</td><td>1</td><td>null</td><td>null</td></tr><tr><td>8</td><td>I134255</td><td>1200.32</td><td>2022-10-13</td><td>4</td><td>null</td><td>null</td></tr><tr><td>9</td><td>I306929</td><td>600.16</td><td>2021-08-06</td><td>2</td><td>null</td><td>null</td></tr><tr><td>10</td><td>I280920</td><td>900.24</td><td>2021-04-23</td><td>3</td><td>null</td><td>null</td></tr><tr><td>1</td><td>I178410</td><td>1500.4</td><td>2021-11-26</td><td>null</td><td>null</td><td>null</td></tr><tr><td>2</td><td>I158163</td><td>1200.34</td><td>2023-03-03</td><td>null</td><td>null</td><td>null</td></tr><tr><td>3</td><td>I262373</td><td>107.52</td><td>2022-12-01</td><td>null</td><td>null</td><td>null</td></tr><tr><td>4</td><td>I334895</td><td>26.15</td><td>2021-08-15</td><td>null</td><td>null</td><td>null</td></tr><tr><td>5</td><td>I202043</td><td>35.84</td><td>2021-07-25</td><td>null</td><td>null</td><td>null</td></tr></tbody></table></div>"
      ]
     },
     "metadata": {
      "application/vnd.databricks.v1+output": {
       "addedWidgets": {},
       "aggData": [],
       "aggError": "",
       "aggOverflow": false,
       "aggSchema": [],
       "aggSeriesLimitReached": false,
       "aggType": "",
       "arguments": {},
       "columnCustomDisplayInfos": {},
       "data": [
        [
         16,
         "I106485",
         30.3,
         "2022-12-01",
         2,
         "Debit Card",
         [
          12345,
          879
         ]
        ],
        [
         11,
         "I235733",
         162.64,
         "2022-01-04",
         4,
         "Cash",
         null
        ],
        [
         12,
         "I272400",
         5.23,
         "2022-01-10",
         1,
         "Cash",
         null
        ],
        [
         13,
         "I223729",
         107.52,
         "2022-08-02",
         3,
         "Cash",
         null
        ],
        [
         14,
         "I299506",
         600.17,
         "2021-01-06",
         1,
         "Cash",
         null
        ],
        [
         15,
         "I106485",
         30.3,
         "2022-12-01",
         2,
         "Debit Card",
         null
        ],
        [
         123456789012345,
         "I106485",
         30.3,
         "2022-12-01",
         2,
         "Debit Card",
         null
        ],
        [
         123456789012345,
         "I106485",
         30.3,
         "2022-12-01",
         2,
         "Debit Card",
         null
        ],
        [
         6,
         "I303349",
         71.68,
         "2021-06-03",
         2,
         null,
         null
        ],
        [
         7,
         "I336350",
         15.15,
         "2021-11-25",
         1,
         null,
         null
        ],
        [
         8,
         "I134255",
         1200.32,
         "2022-10-13",
         4,
         null,
         null
        ],
        [
         9,
         "I306929",
         600.16,
         "2021-08-06",
         2,
         null,
         null
        ],
        [
         10,
         "I280920",
         900.24,
         "2021-04-23",
         3,
         null,
         null
        ],
        [
         1,
         "I178410",
         1500.4,
         "2021-11-26",
         null,
         null,
         null
        ],
        [
         2,
         "I158163",
         1200.34,
         "2023-03-03",
         null,
         null,
         null
        ],
        [
         3,
         "I262373",
         107.52,
         "2022-12-01",
         null,
         null,
         null
        ],
        [
         4,
         "I334895",
         26.15,
         "2021-08-15",
         null,
         null,
         null
        ],
        [
         5,
         "I202043",
         35.84,
         "2021-07-25",
         null,
         null,
         null
        ]
       ],
       "datasetInfos": [],
       "dbfsResultPath": null,
       "isJsonSchema": true,
       "metadata": {
        "isDbfsCommandResult": false
       },
       "overflow": false,
       "plotOptions": {
        "customPlotOptions": {},
        "displayType": "table",
        "pivotAggregation": null,
        "pivotColumns": null,
        "xColumns": null,
        "yColumns": null
       },
       "removedWidgets": [],
       "schema": [
        {
         "metadata": "{\"delta.typeChanges\":[{\"toType\":\"long\",\"fromType\":\"integer\",\"tableVersion\":6}]}",
         "name": "customer_id",
         "type": "\"long\""
        },
        {
         "metadata": "{}",
         "name": "invoice_no",
         "type": "\"string\""
        },
        {
         "metadata": "{}",
         "name": "price",
         "type": "\"float\""
        },
        {
         "metadata": "{}",
         "name": "invoice_date",
         "type": "\"date\""
        },
        {
         "metadata": "{}",
         "name": "quantity",
         "type": "\"integer\""
        },
        {
         "metadata": "{}",
         "name": "payment_method",
         "type": "\"string\""
        },
        {
         "metadata": "{}",
         "name": "purchase_details",
         "type": "{\"type\":\"struct\",\"fields\":[{\"name\":\"mall_pin_code\",\"type\":\"integer\",\"nullable\":true,\"metadata\":{}},{\"name\":\"store_code\",\"type\":\"integer\",\"nullable\":true,\"metadata\":{}}]}"
        }
       ],
       "type": "table"
      }
     },
     "output_type": "display_data"
    }
   ],
   "source": [
    "SELECT * FROM deltacatalog.deltadb.invoices_se;"
   ]
  },
  {
   "cell_type": "code",
   "execution_count": 0,
   "metadata": {
    "application/vnd.databricks.v1+cell": {
     "cellMetadata": {
      "byteLimit": 2048000,
      "rowLimit": 10000
     },
     "inputWidgets": {},
     "nuid": "d44472dd-4ad0-451d-95c0-9662cca3f215",
     "showTitle": false,
     "tableResultSettingsMap": {},
     "title": ""
    }
   },
   "outputs": [
    {
     "output_type": "display_data",
     "data": {
      "text/html": [
       "<style scoped>\n",
       "  .table-result-container {\n",
       "    max-height: 300px;\n",
       "    overflow: auto;\n",
       "  }\n",
       "  table, th, td {\n",
       "    border: 1px solid black;\n",
       "    border-collapse: collapse;\n",
       "  }\n",
       "  th, td {\n",
       "    padding: 5px;\n",
       "  }\n",
       "  th {\n",
       "    text-align: left;\n",
       "  }\n",
       "</style><div class='table-result-container'><table class='table-result'><thead style='background-color: white'><tr></tr></thead><tbody></tbody></table></div>"
      ]
     },
     "metadata": {
      "application/vnd.databricks.v1+output": {
       "addedWidgets": {},
       "aggData": [],
       "aggError": "",
       "aggOverflow": false,
       "aggSchema": [],
       "aggSeriesLimitReached": false,
       "aggType": "",
       "arguments": {},
       "columnCustomDisplayInfos": {},
       "data": [],
       "datasetInfos": [],
       "dbfsResultPath": null,
       "isJsonSchema": true,
       "metadata": {
        "isDbfsCommandResult": false
       },
       "overflow": false,
       "plotOptions": {
        "customPlotOptions": {},
        "displayType": "table",
        "pivotAggregation": null,
        "pivotColumns": null,
        "xColumns": null,
        "yColumns": null
       },
       "removedWidgets": [],
       "schema": [],
       "type": "table"
      }
     },
     "output_type": "display_data"
    }
   ],
   "source": [
    "ALTER TABLE deltacatalog.deltadb.invoices_se\n",
    "ALTER COLUMN purchase_details.mall_pin_code TYPE BIGINT;"
   ]
  },
  {
   "cell_type": "code",
   "execution_count": 0,
   "metadata": {
    "application/vnd.databricks.v1+cell": {
     "cellMetadata": {
      "byteLimit": 2048000,
      "rowLimit": 10000
     },
     "inputWidgets": {},
     "nuid": "57fa6105-2399-48b9-af22-5679866145f5",
     "showTitle": false,
     "tableResultSettingsMap": {},
     "title": ""
    }
   },
   "outputs": [
    {
     "output_type": "display_data",
     "data": {
      "text/html": [
       "<style scoped>\n",
       "  .table-result-container {\n",
       "    max-height: 300px;\n",
       "    overflow: auto;\n",
       "  }\n",
       "  table, th, td {\n",
       "    border: 1px solid black;\n",
       "    border-collapse: collapse;\n",
       "  }\n",
       "  th, td {\n",
       "    padding: 5px;\n",
       "  }\n",
       "  th {\n",
       "    text-align: left;\n",
       "  }\n",
       "</style><div class='table-result-container'><table class='table-result'><thead style='background-color: white'><tr><th>num_affected_rows</th><th>num_inserted_rows</th></tr></thead><tbody><tr><td>1</td><td>1</td></tr></tbody></table></div>"
      ]
     },
     "metadata": {
      "application/vnd.databricks.v1+output": {
       "addedWidgets": {},
       "aggData": [],
       "aggError": "",
       "aggOverflow": false,
       "aggSchema": [],
       "aggSeriesLimitReached": false,
       "aggType": "",
       "arguments": {},
       "columnCustomDisplayInfos": {},
       "data": [
        [
         1,
         1
        ]
       ],
       "datasetInfos": [],
       "dbfsResultPath": null,
       "isJsonSchema": true,
       "metadata": {
        "isDbfsCommandResult": false
       },
       "overflow": false,
       "plotOptions": {
        "customPlotOptions": {},
        "displayType": "table",
        "pivotAggregation": null,
        "pivotColumns": null,
        "xColumns": null,
        "yColumns": null
       },
       "removedWidgets": [],
       "schema": [
        {
         "metadata": "{}",
         "name": "num_affected_rows",
         "type": "\"long\""
        },
        {
         "metadata": "{}",
         "name": "num_inserted_rows",
         "type": "\"long\""
        }
       ],
       "type": "table"
      }
     },
     "output_type": "display_data"
    }
   ],
   "source": [
    "INSERT INTO deltacatalog.deltadb.invoices_se \n",
    "VALUES (17,\t'I106485',\t30.299999237060547,\t'2022-12-01',\t2,\t'Debit Card', STRUCT(123456789012346, 765));"
   ]
  },
  {
   "cell_type": "code",
   "execution_count": 0,
   "metadata": {
    "application/vnd.databricks.v1+cell": {
     "cellMetadata": {
      "byteLimit": 2048000,
      "rowLimit": 10000
     },
     "inputWidgets": {},
     "nuid": "e9237c81-7ad9-4b3e-ad92-9276ea7f80e3",
     "showTitle": false,
     "tableResultSettingsMap": {},
     "title": ""
    }
   },
   "outputs": [
    {
     "output_type": "display_data",
     "data": {
      "text/html": [
       "<style scoped>\n",
       "  .table-result-container {\n",
       "    max-height: 300px;\n",
       "    overflow: auto;\n",
       "  }\n",
       "  table, th, td {\n",
       "    border: 1px solid black;\n",
       "    border-collapse: collapse;\n",
       "  }\n",
       "  th, td {\n",
       "    padding: 5px;\n",
       "  }\n",
       "  th {\n",
       "    text-align: left;\n",
       "  }\n",
       "</style><div class='table-result-container'><table class='table-result'><thead style='background-color: white'><tr><th>customer_id</th><th>invoice_no</th><th>price</th><th>invoice_date</th><th>quantity</th><th>payment_method</th><th>purchase_details</th></tr></thead><tbody><tr><td>17</td><td>I106485</td><td>30.3</td><td>2022-12-01</td><td>2</td><td>Debit Card</td><td>List(123456789012346, 765)</td></tr><tr><td>16</td><td>I106485</td><td>30.3</td><td>2022-12-01</td><td>2</td><td>Debit Card</td><td>List(12345, 879)</td></tr><tr><td>11</td><td>I235733</td><td>162.64</td><td>2022-01-04</td><td>4</td><td>Cash</td><td>null</td></tr><tr><td>12</td><td>I272400</td><td>5.23</td><td>2022-01-10</td><td>1</td><td>Cash</td><td>null</td></tr><tr><td>13</td><td>I223729</td><td>107.52</td><td>2022-08-02</td><td>3</td><td>Cash</td><td>null</td></tr><tr><td>14</td><td>I299506</td><td>600.17</td><td>2021-01-06</td><td>1</td><td>Cash</td><td>null</td></tr><tr><td>15</td><td>I106485</td><td>30.3</td><td>2022-12-01</td><td>2</td><td>Debit Card</td><td>null</td></tr><tr><td>123456789012345</td><td>I106485</td><td>30.3</td><td>2022-12-01</td><td>2</td><td>Debit Card</td><td>null</td></tr><tr><td>123456789012345</td><td>I106485</td><td>30.3</td><td>2022-12-01</td><td>2</td><td>Debit Card</td><td>null</td></tr><tr><td>6</td><td>I303349</td><td>71.68</td><td>2021-06-03</td><td>2</td><td>null</td><td>null</td></tr><tr><td>7</td><td>I336350</td><td>15.15</td><td>2021-11-25</td><td>1</td><td>null</td><td>null</td></tr><tr><td>8</td><td>I134255</td><td>1200.32</td><td>2022-10-13</td><td>4</td><td>null</td><td>null</td></tr><tr><td>9</td><td>I306929</td><td>600.16</td><td>2021-08-06</td><td>2</td><td>null</td><td>null</td></tr><tr><td>10</td><td>I280920</td><td>900.24</td><td>2021-04-23</td><td>3</td><td>null</td><td>null</td></tr><tr><td>1</td><td>I178410</td><td>1500.4</td><td>2021-11-26</td><td>null</td><td>null</td><td>null</td></tr><tr><td>2</td><td>I158163</td><td>1200.34</td><td>2023-03-03</td><td>null</td><td>null</td><td>null</td></tr><tr><td>3</td><td>I262373</td><td>107.52</td><td>2022-12-01</td><td>null</td><td>null</td><td>null</td></tr><tr><td>4</td><td>I334895</td><td>26.15</td><td>2021-08-15</td><td>null</td><td>null</td><td>null</td></tr><tr><td>5</td><td>I202043</td><td>35.84</td><td>2021-07-25</td><td>null</td><td>null</td><td>null</td></tr></tbody></table></div>"
      ]
     },
     "metadata": {
      "application/vnd.databricks.v1+output": {
       "addedWidgets": {},
       "aggData": [],
       "aggError": "",
       "aggOverflow": false,
       "aggSchema": [],
       "aggSeriesLimitReached": false,
       "aggType": "",
       "arguments": {},
       "columnCustomDisplayInfos": {},
       "data": [
        [
         17,
         "I106485",
         30.3,
         "2022-12-01",
         2,
         "Debit Card",
         [
          123456789012346,
          765
         ]
        ],
        [
         16,
         "I106485",
         30.3,
         "2022-12-01",
         2,
         "Debit Card",
         [
          12345,
          879
         ]
        ],
        [
         11,
         "I235733",
         162.64,
         "2022-01-04",
         4,
         "Cash",
         null
        ],
        [
         12,
         "I272400",
         5.23,
         "2022-01-10",
         1,
         "Cash",
         null
        ],
        [
         13,
         "I223729",
         107.52,
         "2022-08-02",
         3,
         "Cash",
         null
        ],
        [
         14,
         "I299506",
         600.17,
         "2021-01-06",
         1,
         "Cash",
         null
        ],
        [
         15,
         "I106485",
         30.3,
         "2022-12-01",
         2,
         "Debit Card",
         null
        ],
        [
         123456789012345,
         "I106485",
         30.3,
         "2022-12-01",
         2,
         "Debit Card",
         null
        ],
        [
         123456789012345,
         "I106485",
         30.3,
         "2022-12-01",
         2,
         "Debit Card",
         null
        ],
        [
         6,
         "I303349",
         71.68,
         "2021-06-03",
         2,
         null,
         null
        ],
        [
         7,
         "I336350",
         15.15,
         "2021-11-25",
         1,
         null,
         null
        ],
        [
         8,
         "I134255",
         1200.32,
         "2022-10-13",
         4,
         null,
         null
        ],
        [
         9,
         "I306929",
         600.16,
         "2021-08-06",
         2,
         null,
         null
        ],
        [
         10,
         "I280920",
         900.24,
         "2021-04-23",
         3,
         null,
         null
        ],
        [
         1,
         "I178410",
         1500.4,
         "2021-11-26",
         null,
         null,
         null
        ],
        [
         2,
         "I158163",
         1200.34,
         "2023-03-03",
         null,
         null,
         null
        ],
        [
         3,
         "I262373",
         107.52,
         "2022-12-01",
         null,
         null,
         null
        ],
        [
         4,
         "I334895",
         26.15,
         "2021-08-15",
         null,
         null,
         null
        ],
        [
         5,
         "I202043",
         35.84,
         "2021-07-25",
         null,
         null,
         null
        ]
       ],
       "datasetInfos": [],
       "dbfsResultPath": null,
       "isJsonSchema": true,
       "metadata": {
        "isDbfsCommandResult": false
       },
       "overflow": false,
       "plotOptions": {
        "customPlotOptions": {},
        "displayType": "table",
        "pivotAggregation": null,
        "pivotColumns": null,
        "xColumns": null,
        "yColumns": null
       },
       "removedWidgets": [],
       "schema": [
        {
         "metadata": "{\"delta.typeChanges\":[{\"toType\":\"long\",\"fromType\":\"integer\",\"tableVersion\":6}]}",
         "name": "customer_id",
         "type": "\"long\""
        },
        {
         "metadata": "{}",
         "name": "invoice_no",
         "type": "\"string\""
        },
        {
         "metadata": "{}",
         "name": "price",
         "type": "\"float\""
        },
        {
         "metadata": "{}",
         "name": "invoice_date",
         "type": "\"date\""
        },
        {
         "metadata": "{}",
         "name": "quantity",
         "type": "\"integer\""
        },
        {
         "metadata": "{}",
         "name": "payment_method",
         "type": "\"string\""
        },
        {
         "metadata": "{}",
         "name": "purchase_details",
         "type": "{\"type\":\"struct\",\"fields\":[{\"name\":\"mall_pin_code\",\"type\":\"long\",\"nullable\":true,\"metadata\":{\"delta.typeChanges\":[{\"toType\":\"long\",\"fromType\":\"integer\",\"tableVersion\":10}]}},{\"name\":\"store_code\",\"type\":\"integer\",\"nullable\":true,\"metadata\":{}}]}"
        }
       ],
       "type": "table"
      }
     },
     "output_type": "display_data"
    }
   ],
   "source": [
    "SELECT * FROM deltacatalog.deltadb.invoices_se;"
   ]
  },
  {
   "cell_type": "code",
   "execution_count": 0,
   "metadata": {
    "application/vnd.databricks.v1+cell": {
     "cellMetadata": {
      "byteLimit": 2048000,
      "rowLimit": 10000
     },
     "inputWidgets": {},
     "nuid": "e7f5fae9-0249-4433-a130-2b039003889c",
     "showTitle": false,
     "tableResultSettingsMap": {},
     "title": ""
    }
   },
   "outputs": [
    {
     "output_type": "display_data",
     "data": {
      "text/html": [
       "<style scoped>\n",
       "  .table-result-container {\n",
       "    max-height: 300px;\n",
       "    overflow: auto;\n",
       "  }\n",
       "  table, th, td {\n",
       "    border: 1px solid black;\n",
       "    border-collapse: collapse;\n",
       "  }\n",
       "  th, td {\n",
       "    padding: 5px;\n",
       "  }\n",
       "  th {\n",
       "    text-align: left;\n",
       "  }\n",
       "</style><div class='table-result-container'><table class='table-result'><thead style='background-color: white'><tr></tr></thead><tbody></tbody></table></div>"
      ]
     },
     "metadata": {
      "application/vnd.databricks.v1+output": {
       "addedWidgets": {},
       "aggData": [],
       "aggError": "",
       "aggOverflow": false,
       "aggSchema": [],
       "aggSeriesLimitReached": false,
       "aggType": "",
       "arguments": {},
       "columnCustomDisplayInfos": {},
       "data": [],
       "datasetInfos": [],
       "dbfsResultPath": null,
       "isJsonSchema": true,
       "metadata": {
        "isDbfsCommandResult": false
       },
       "overflow": false,
       "plotOptions": {
        "customPlotOptions": {},
        "displayType": "table",
        "pivotAggregation": null,
        "pivotColumns": null,
        "xColumns": null,
        "yColumns": null
       },
       "removedWidgets": [],
       "schema": [],
       "type": "table"
      }
     },
     "output_type": "display_data"
    }
   ],
   "source": [
    "ALTER TABLE deltacatalog.deltadb.invoices_se\n",
    "ADD COLUMN purchase_details.store_loc STRING;"
   ]
  },
  {
   "cell_type": "code",
   "execution_count": 0,
   "metadata": {
    "application/vnd.databricks.v1+cell": {
     "cellMetadata": {
      "byteLimit": 2048000,
      "rowLimit": 10000
     },
     "inputWidgets": {},
     "nuid": "ab0c5cd6-cc9a-485f-a7f6-b91663ed288f",
     "showTitle": false,
     "tableResultSettingsMap": {},
     "title": ""
    }
   },
   "outputs": [
    {
     "output_type": "display_data",
     "data": {
      "text/html": [
       "<style scoped>\n",
       "  .table-result-container {\n",
       "    max-height: 300px;\n",
       "    overflow: auto;\n",
       "  }\n",
       "  table, th, td {\n",
       "    border: 1px solid black;\n",
       "    border-collapse: collapse;\n",
       "  }\n",
       "  th, td {\n",
       "    padding: 5px;\n",
       "  }\n",
       "  th {\n",
       "    text-align: left;\n",
       "  }\n",
       "</style><div class='table-result-container'><table class='table-result'><thead style='background-color: white'><tr><th>num_affected_rows</th><th>num_inserted_rows</th></tr></thead><tbody><tr><td>1</td><td>1</td></tr></tbody></table></div>"
      ]
     },
     "metadata": {
      "application/vnd.databricks.v1+output": {
       "addedWidgets": {},
       "aggData": [],
       "aggError": "",
       "aggOverflow": false,
       "aggSchema": [],
       "aggSeriesLimitReached": false,
       "aggType": "",
       "arguments": {},
       "columnCustomDisplayInfos": {},
       "data": [
        [
         1,
         1
        ]
       ],
       "datasetInfos": [],
       "dbfsResultPath": null,
       "isJsonSchema": true,
       "metadata": {
        "isDbfsCommandResult": false
       },
       "overflow": false,
       "plotOptions": {
        "customPlotOptions": {},
        "displayType": "table",
        "pivotAggregation": null,
        "pivotColumns": null,
        "xColumns": null,
        "yColumns": null
       },
       "removedWidgets": [],
       "schema": [
        {
         "metadata": "{}",
         "name": "num_affected_rows",
         "type": "\"long\""
        },
        {
         "metadata": "{}",
         "name": "num_inserted_rows",
         "type": "\"long\""
        }
       ],
       "type": "table"
      }
     },
     "output_type": "display_data"
    }
   ],
   "source": [
    "INSERT INTO deltacatalog.deltadb.invoices_se \n",
    "VALUES (17,\t'I106485',\t30.299999237060547,\t'2022-12-01',\t2,\t'Debit Card', STRUCT(7612, 765, 'ground floor'));"
   ]
  },
  {
   "cell_type": "code",
   "execution_count": 0,
   "metadata": {
    "application/vnd.databricks.v1+cell": {
     "cellMetadata": {
      "byteLimit": 2048000,
      "rowLimit": 10000
     },
     "inputWidgets": {},
     "nuid": "ab18f29a-cd7b-4de4-a947-52c6ed6b6e3c",
     "showTitle": false,
     "tableResultSettingsMap": {},
     "title": ""
    }
   },
   "outputs": [
    {
     "output_type": "display_data",
     "data": {
      "text/html": [
       "<style scoped>\n",
       "  .table-result-container {\n",
       "    max-height: 300px;\n",
       "    overflow: auto;\n",
       "  }\n",
       "  table, th, td {\n",
       "    border: 1px solid black;\n",
       "    border-collapse: collapse;\n",
       "  }\n",
       "  th, td {\n",
       "    padding: 5px;\n",
       "  }\n",
       "  th {\n",
       "    text-align: left;\n",
       "  }\n",
       "</style><div class='table-result-container'><table class='table-result'><thead style='background-color: white'><tr><th>customer_id</th><th>invoice_no</th><th>price</th><th>invoice_date</th><th>quantity</th><th>payment_method</th><th>purchase_details</th></tr></thead><tbody><tr><td>17</td><td>I106485</td><td>30.3</td><td>2022-12-01</td><td>2</td><td>Debit Card</td><td>List(7612, 765, ground floor)</td></tr><tr><td>17</td><td>I106485</td><td>30.3</td><td>2022-12-01</td><td>2</td><td>Debit Card</td><td>List(123456789012346, 765, null)</td></tr><tr><td>16</td><td>I106485</td><td>30.3</td><td>2022-12-01</td><td>2</td><td>Debit Card</td><td>List(12345, 879, null)</td></tr><tr><td>11</td><td>I235733</td><td>162.64</td><td>2022-01-04</td><td>4</td><td>Cash</td><td>null</td></tr><tr><td>12</td><td>I272400</td><td>5.23</td><td>2022-01-10</td><td>1</td><td>Cash</td><td>null</td></tr><tr><td>13</td><td>I223729</td><td>107.52</td><td>2022-08-02</td><td>3</td><td>Cash</td><td>null</td></tr><tr><td>14</td><td>I299506</td><td>600.17</td><td>2021-01-06</td><td>1</td><td>Cash</td><td>null</td></tr><tr><td>15</td><td>I106485</td><td>30.3</td><td>2022-12-01</td><td>2</td><td>Debit Card</td><td>null</td></tr><tr><td>123456789012345</td><td>I106485</td><td>30.3</td><td>2022-12-01</td><td>2</td><td>Debit Card</td><td>null</td></tr><tr><td>123456789012345</td><td>I106485</td><td>30.3</td><td>2022-12-01</td><td>2</td><td>Debit Card</td><td>null</td></tr><tr><td>6</td><td>I303349</td><td>71.68</td><td>2021-06-03</td><td>2</td><td>null</td><td>null</td></tr><tr><td>7</td><td>I336350</td><td>15.15</td><td>2021-11-25</td><td>1</td><td>null</td><td>null</td></tr><tr><td>8</td><td>I134255</td><td>1200.32</td><td>2022-10-13</td><td>4</td><td>null</td><td>null</td></tr><tr><td>9</td><td>I306929</td><td>600.16</td><td>2021-08-06</td><td>2</td><td>null</td><td>null</td></tr><tr><td>10</td><td>I280920</td><td>900.24</td><td>2021-04-23</td><td>3</td><td>null</td><td>null</td></tr><tr><td>1</td><td>I178410</td><td>1500.4</td><td>2021-11-26</td><td>null</td><td>null</td><td>null</td></tr><tr><td>2</td><td>I158163</td><td>1200.34</td><td>2023-03-03</td><td>null</td><td>null</td><td>null</td></tr><tr><td>3</td><td>I262373</td><td>107.52</td><td>2022-12-01</td><td>null</td><td>null</td><td>null</td></tr><tr><td>4</td><td>I334895</td><td>26.15</td><td>2021-08-15</td><td>null</td><td>null</td><td>null</td></tr><tr><td>5</td><td>I202043</td><td>35.84</td><td>2021-07-25</td><td>null</td><td>null</td><td>null</td></tr></tbody></table></div>"
      ]
     },
     "metadata": {
      "application/vnd.databricks.v1+output": {
       "addedWidgets": {},
       "aggData": [],
       "aggError": "",
       "aggOverflow": false,
       "aggSchema": [],
       "aggSeriesLimitReached": false,
       "aggType": "",
       "arguments": {},
       "columnCustomDisplayInfos": {},
       "data": [
        [
         17,
         "I106485",
         30.3,
         "2022-12-01",
         2,
         "Debit Card",
         [
          7612,
          765,
          "ground floor"
         ]
        ],
        [
         17,
         "I106485",
         30.3,
         "2022-12-01",
         2,
         "Debit Card",
         [
          123456789012346,
          765,
          null
         ]
        ],
        [
         16,
         "I106485",
         30.3,
         "2022-12-01",
         2,
         "Debit Card",
         [
          12345,
          879,
          null
         ]
        ],
        [
         11,
         "I235733",
         162.64,
         "2022-01-04",
         4,
         "Cash",
         null
        ],
        [
         12,
         "I272400",
         5.23,
         "2022-01-10",
         1,
         "Cash",
         null
        ],
        [
         13,
         "I223729",
         107.52,
         "2022-08-02",
         3,
         "Cash",
         null
        ],
        [
         14,
         "I299506",
         600.17,
         "2021-01-06",
         1,
         "Cash",
         null
        ],
        [
         15,
         "I106485",
         30.3,
         "2022-12-01",
         2,
         "Debit Card",
         null
        ],
        [
         123456789012345,
         "I106485",
         30.3,
         "2022-12-01",
         2,
         "Debit Card",
         null
        ],
        [
         123456789012345,
         "I106485",
         30.3,
         "2022-12-01",
         2,
         "Debit Card",
         null
        ],
        [
         6,
         "I303349",
         71.68,
         "2021-06-03",
         2,
         null,
         null
        ],
        [
         7,
         "I336350",
         15.15,
         "2021-11-25",
         1,
         null,
         null
        ],
        [
         8,
         "I134255",
         1200.32,
         "2022-10-13",
         4,
         null,
         null
        ],
        [
         9,
         "I306929",
         600.16,
         "2021-08-06",
         2,
         null,
         null
        ],
        [
         10,
         "I280920",
         900.24,
         "2021-04-23",
         3,
         null,
         null
        ],
        [
         1,
         "I178410",
         1500.4,
         "2021-11-26",
         null,
         null,
         null
        ],
        [
         2,
         "I158163",
         1200.34,
         "2023-03-03",
         null,
         null,
         null
        ],
        [
         3,
         "I262373",
         107.52,
         "2022-12-01",
         null,
         null,
         null
        ],
        [
         4,
         "I334895",
         26.15,
         "2021-08-15",
         null,
         null,
         null
        ],
        [
         5,
         "I202043",
         35.84,
         "2021-07-25",
         null,
         null,
         null
        ]
       ],
       "datasetInfos": [],
       "dbfsResultPath": null,
       "isJsonSchema": true,
       "metadata": {
        "isDbfsCommandResult": false
       },
       "overflow": false,
       "plotOptions": {
        "customPlotOptions": {},
        "displayType": "table",
        "pivotAggregation": null,
        "pivotColumns": null,
        "xColumns": null,
        "yColumns": null
       },
       "removedWidgets": [],
       "schema": [
        {
         "metadata": "{\"delta.typeChanges\":[{\"toType\":\"long\",\"fromType\":\"integer\",\"tableVersion\":6}]}",
         "name": "customer_id",
         "type": "\"long\""
        },
        {
         "metadata": "{}",
         "name": "invoice_no",
         "type": "\"string\""
        },
        {
         "metadata": "{}",
         "name": "price",
         "type": "\"float\""
        },
        {
         "metadata": "{}",
         "name": "invoice_date",
         "type": "\"date\""
        },
        {
         "metadata": "{}",
         "name": "quantity",
         "type": "\"integer\""
        },
        {
         "metadata": "{}",
         "name": "payment_method",
         "type": "\"string\""
        },
        {
         "metadata": "{}",
         "name": "purchase_details",
         "type": "{\"type\":\"struct\",\"fields\":[{\"name\":\"mall_pin_code\",\"type\":\"long\",\"nullable\":true,\"metadata\":{\"delta.typeChanges\":[{\"toType\":\"long\",\"fromType\":\"integer\",\"tableVersion\":10}]}},{\"name\":\"store_code\",\"type\":\"integer\",\"nullable\":true,\"metadata\":{}},{\"name\":\"store_loc\",\"type\":\"string\",\"nullable\":true,\"metadata\":{}}]}"
        }
       ],
       "type": "table"
      }
     },
     "output_type": "display_data"
    }
   ],
   "source": [
    "SELECT * FROM deltacatalog.deltadb.invoices_se;"
   ]
  },
  {
   "cell_type": "code",
   "execution_count": 0,
   "metadata": {
    "application/vnd.databricks.v1+cell": {
     "cellMetadata": {
      "byteLimit": 2048000,
      "rowLimit": 10000
     },
     "inputWidgets": {},
     "nuid": "b6b62e2c-68b1-4aca-8459-2e7cfd051f43",
     "showTitle": false,
     "tableResultSettingsMap": {},
     "title": ""
    }
   },
   "outputs": [
    {
     "output_type": "display_data",
     "data": {
      "text/html": [
       "<style scoped>\n",
       "  .table-result-container {\n",
       "    max-height: 300px;\n",
       "    overflow: auto;\n",
       "  }\n",
       "  table, th, td {\n",
       "    border: 1px solid black;\n",
       "    border-collapse: collapse;\n",
       "  }\n",
       "  th, td {\n",
       "    padding: 5px;\n",
       "  }\n",
       "  th {\n",
       "    text-align: left;\n",
       "  }\n",
       "</style><div class='table-result-container'><table class='table-result'><thead style='background-color: white'><tr><th>num_affected_rows</th><th>num_inserted_rows</th></tr></thead><tbody><tr><td>1</td><td>1</td></tr></tbody></table></div>"
      ]
     },
     "metadata": {
      "application/vnd.databricks.v1+output": {
       "addedWidgets": {},
       "aggData": [],
       "aggError": "",
       "aggOverflow": false,
       "aggSchema": [],
       "aggSeriesLimitReached": false,
       "aggType": "",
       "arguments": {},
       "columnCustomDisplayInfos": {},
       "data": [
        [
         1,
         1
        ]
       ],
       "datasetInfos": [],
       "dbfsResultPath": null,
       "isJsonSchema": true,
       "metadata": {
        "isDbfsCommandResult": false
       },
       "overflow": false,
       "plotOptions": {
        "customPlotOptions": {},
        "displayType": "table",
        "pivotAggregation": null,
        "pivotColumns": null,
        "xColumns": null,
        "yColumns": null
       },
       "removedWidgets": [],
       "schema": [
        {
         "metadata": "{}",
         "name": "num_affected_rows",
         "type": "\"long\""
        },
        {
         "metadata": "{}",
         "name": "num_inserted_rows",
         "type": "\"long\""
        }
       ],
       "type": "table"
      }
     },
     "output_type": "display_data"
    }
   ],
   "source": [
    "INSERT INTO deltacatalog.deltadb.invoices_se \n",
    "VALUES (21,\t'I106485',\t30.299999237060547,\t'2022-12-01',\t2,\t'Debit Card', \n",
    "  NAMED_STRUCT(\n",
    "    'mall_pin_code', 7612, \n",
    "    'store_code', 765, \n",
    "    'store_loc', 'ground floor', \n",
    "    'staff_id', 'ST12736'\n",
    "  )\n",
    ");"
   ]
  },
  {
   "cell_type": "code",
   "execution_count": 0,
   "metadata": {
    "application/vnd.databricks.v1+cell": {
     "cellMetadata": {
      "byteLimit": 2048000,
      "rowLimit": 10000
     },
     "inputWidgets": {},
     "nuid": "a8618b01-c240-4463-a78e-ce4b0f5d2550",
     "showTitle": false,
     "tableResultSettingsMap": {},
     "title": ""
    }
   },
   "outputs": [
    {
     "output_type": "display_data",
     "data": {
      "text/html": [
       "<style scoped>\n",
       "  .table-result-container {\n",
       "    max-height: 300px;\n",
       "    overflow: auto;\n",
       "  }\n",
       "  table, th, td {\n",
       "    border: 1px solid black;\n",
       "    border-collapse: collapse;\n",
       "  }\n",
       "  th, td {\n",
       "    padding: 5px;\n",
       "  }\n",
       "  th {\n",
       "    text-align: left;\n",
       "  }\n",
       "</style><div class='table-result-container'><table class='table-result'><thead style='background-color: white'><tr><th>customer_id</th><th>invoice_no</th><th>price</th><th>invoice_date</th><th>quantity</th><th>payment_method</th><th>purchase_details</th></tr></thead><tbody><tr><td>21</td><td>I106485</td><td>30.3</td><td>2022-12-01</td><td>2</td><td>Debit Card</td><td>List(7612, 765, ground floor, ST12736)</td></tr><tr><td>17</td><td>I106485</td><td>30.3</td><td>2022-12-01</td><td>2</td><td>Debit Card</td><td>List(7612, 765, ground floor, null)</td></tr><tr><td>17</td><td>I106485</td><td>30.3</td><td>2022-12-01</td><td>2</td><td>Debit Card</td><td>List(123456789012346, 765, null, null)</td></tr><tr><td>16</td><td>I106485</td><td>30.3</td><td>2022-12-01</td><td>2</td><td>Debit Card</td><td>List(12345, 879, null, null)</td></tr><tr><td>11</td><td>I235733</td><td>162.64</td><td>2022-01-04</td><td>4</td><td>Cash</td><td>null</td></tr><tr><td>12</td><td>I272400</td><td>5.23</td><td>2022-01-10</td><td>1</td><td>Cash</td><td>null</td></tr><tr><td>13</td><td>I223729</td><td>107.52</td><td>2022-08-02</td><td>3</td><td>Cash</td><td>null</td></tr><tr><td>14</td><td>I299506</td><td>600.17</td><td>2021-01-06</td><td>1</td><td>Cash</td><td>null</td></tr><tr><td>15</td><td>I106485</td><td>30.3</td><td>2022-12-01</td><td>2</td><td>Debit Card</td><td>null</td></tr><tr><td>123456789012345</td><td>I106485</td><td>30.3</td><td>2022-12-01</td><td>2</td><td>Debit Card</td><td>null</td></tr><tr><td>123456789012345</td><td>I106485</td><td>30.3</td><td>2022-12-01</td><td>2</td><td>Debit Card</td><td>null</td></tr><tr><td>6</td><td>I303349</td><td>71.68</td><td>2021-06-03</td><td>2</td><td>null</td><td>null</td></tr><tr><td>7</td><td>I336350</td><td>15.15</td><td>2021-11-25</td><td>1</td><td>null</td><td>null</td></tr><tr><td>8</td><td>I134255</td><td>1200.32</td><td>2022-10-13</td><td>4</td><td>null</td><td>null</td></tr><tr><td>9</td><td>I306929</td><td>600.16</td><td>2021-08-06</td><td>2</td><td>null</td><td>null</td></tr><tr><td>10</td><td>I280920</td><td>900.24</td><td>2021-04-23</td><td>3</td><td>null</td><td>null</td></tr><tr><td>1</td><td>I178410</td><td>1500.4</td><td>2021-11-26</td><td>null</td><td>null</td><td>null</td></tr><tr><td>2</td><td>I158163</td><td>1200.34</td><td>2023-03-03</td><td>null</td><td>null</td><td>null</td></tr><tr><td>3</td><td>I262373</td><td>107.52</td><td>2022-12-01</td><td>null</td><td>null</td><td>null</td></tr><tr><td>4</td><td>I334895</td><td>26.15</td><td>2021-08-15</td><td>null</td><td>null</td><td>null</td></tr><tr><td>5</td><td>I202043</td><td>35.84</td><td>2021-07-25</td><td>null</td><td>null</td><td>null</td></tr></tbody></table></div>"
      ]
     },
     "metadata": {
      "application/vnd.databricks.v1+output": {
       "addedWidgets": {},
       "aggData": [],
       "aggError": "",
       "aggOverflow": false,
       "aggSchema": [],
       "aggSeriesLimitReached": false,
       "aggType": "",
       "arguments": {},
       "columnCustomDisplayInfos": {},
       "data": [
        [
         21,
         "I106485",
         30.3,
         "2022-12-01",
         2,
         "Debit Card",
         [
          7612,
          765,
          "ground floor",
          "ST12736"
         ]
        ],
        [
         17,
         "I106485",
         30.3,
         "2022-12-01",
         2,
         "Debit Card",
         [
          7612,
          765,
          "ground floor",
          null
         ]
        ],
        [
         17,
         "I106485",
         30.3,
         "2022-12-01",
         2,
         "Debit Card",
         [
          123456789012346,
          765,
          null,
          null
         ]
        ],
        [
         16,
         "I106485",
         30.3,
         "2022-12-01",
         2,
         "Debit Card",
         [
          12345,
          879,
          null,
          null
         ]
        ],
        [
         11,
         "I235733",
         162.64,
         "2022-01-04",
         4,
         "Cash",
         null
        ],
        [
         12,
         "I272400",
         5.23,
         "2022-01-10",
         1,
         "Cash",
         null
        ],
        [
         13,
         "I223729",
         107.52,
         "2022-08-02",
         3,
         "Cash",
         null
        ],
        [
         14,
         "I299506",
         600.17,
         "2021-01-06",
         1,
         "Cash",
         null
        ],
        [
         15,
         "I106485",
         30.3,
         "2022-12-01",
         2,
         "Debit Card",
         null
        ],
        [
         123456789012345,
         "I106485",
         30.3,
         "2022-12-01",
         2,
         "Debit Card",
         null
        ],
        [
         123456789012345,
         "I106485",
         30.3,
         "2022-12-01",
         2,
         "Debit Card",
         null
        ],
        [
         6,
         "I303349",
         71.68,
         "2021-06-03",
         2,
         null,
         null
        ],
        [
         7,
         "I336350",
         15.15,
         "2021-11-25",
         1,
         null,
         null
        ],
        [
         8,
         "I134255",
         1200.32,
         "2022-10-13",
         4,
         null,
         null
        ],
        [
         9,
         "I306929",
         600.16,
         "2021-08-06",
         2,
         null,
         null
        ],
        [
         10,
         "I280920",
         900.24,
         "2021-04-23",
         3,
         null,
         null
        ],
        [
         1,
         "I178410",
         1500.4,
         "2021-11-26",
         null,
         null,
         null
        ],
        [
         2,
         "I158163",
         1200.34,
         "2023-03-03",
         null,
         null,
         null
        ],
        [
         3,
         "I262373",
         107.52,
         "2022-12-01",
         null,
         null,
         null
        ],
        [
         4,
         "I334895",
         26.15,
         "2021-08-15",
         null,
         null,
         null
        ],
        [
         5,
         "I202043",
         35.84,
         "2021-07-25",
         null,
         null,
         null
        ]
       ],
       "datasetInfos": [],
       "dbfsResultPath": null,
       "isJsonSchema": true,
       "metadata": {
        "isDbfsCommandResult": false
       },
       "overflow": false,
       "plotOptions": {
        "customPlotOptions": {},
        "displayType": "table",
        "pivotAggregation": null,
        "pivotColumns": null,
        "xColumns": null,
        "yColumns": null
       },
       "removedWidgets": [],
       "schema": [
        {
         "metadata": "{\"delta.typeChanges\":[{\"toType\":\"long\",\"fromType\":\"integer\",\"tableVersion\":6}]}",
         "name": "customer_id",
         "type": "\"long\""
        },
        {
         "metadata": "{}",
         "name": "invoice_no",
         "type": "\"string\""
        },
        {
         "metadata": "{}",
         "name": "price",
         "type": "\"float\""
        },
        {
         "metadata": "{}",
         "name": "invoice_date",
         "type": "\"date\""
        },
        {
         "metadata": "{}",
         "name": "quantity",
         "type": "\"integer\""
        },
        {
         "metadata": "{}",
         "name": "payment_method",
         "type": "\"string\""
        },
        {
         "metadata": "{}",
         "name": "purchase_details",
         "type": "{\"type\":\"struct\",\"fields\":[{\"name\":\"mall_pin_code\",\"type\":\"long\",\"nullable\":true,\"metadata\":{\"delta.typeChanges\":[{\"toType\":\"long\",\"fromType\":\"integer\",\"tableVersion\":10}]}},{\"name\":\"store_code\",\"type\":\"integer\",\"nullable\":true,\"metadata\":{}},{\"name\":\"store_loc\",\"type\":\"string\",\"nullable\":true,\"metadata\":{}},{\"name\":\"staff_id\",\"type\":\"string\",\"nullable\":true,\"metadata\":{}}]}"
        }
       ],
       "type": "table"
      }
     },
     "output_type": "display_data"
    }
   ],
   "source": [
    "SELECT * FROM deltacatalog.deltadb.invoices_se;"
   ]
  },
  {
   "cell_type": "markdown",
   "metadata": {
    "application/vnd.databricks.v1+cell": {
     "cellMetadata": {},
     "inputWidgets": {},
     "nuid": "10f3f4a8-29f0-4315-a2be-42e7921d4b85",
     "showTitle": false,
     "tableResultSettingsMap": {},
     "title": ""
    }
   },
   "source": [
    "#### Scenario 4: Column Position Changes"
   ]
  },
  {
   "cell_type": "code",
   "execution_count": 0,
   "metadata": {
    "application/vnd.databricks.v1+cell": {
     "cellMetadata": {
      "byteLimit": 2048000,
      "rowLimit": 10000
     },
     "inputWidgets": {},
     "nuid": "a625a483-bcfa-4155-9f49-fe0a1b776276",
     "showTitle": false,
     "tableResultSettingsMap": {},
     "title": ""
    }
   },
   "outputs": [
    {
     "output_type": "display_data",
     "data": {
      "text/html": [
       "<style scoped>\n",
       "  .table-result-container {\n",
       "    max-height: 300px;\n",
       "    overflow: auto;\n",
       "  }\n",
       "  table, th, td {\n",
       "    border: 1px solid black;\n",
       "    border-collapse: collapse;\n",
       "  }\n",
       "  th, td {\n",
       "    padding: 5px;\n",
       "  }\n",
       "  th {\n",
       "    text-align: left;\n",
       "  }\n",
       "</style><div class='table-result-container'><table class='table-result'><thead style='background-color: white'><tr><th>key</th><th>value</th></tr></thead><tbody><tr><td>spark.databricks.delta.schema.autoMerge.enabled</td><td>false</td></tr></tbody></table></div>"
      ]
     },
     "metadata": {
      "application/vnd.databricks.v1+output": {
       "addedWidgets": {},
       "aggData": [],
       "aggError": "",
       "aggOverflow": false,
       "aggSchema": [],
       "aggSeriesLimitReached": false,
       "aggType": "",
       "arguments": {},
       "columnCustomDisplayInfos": {},
       "data": [
        [
         "spark.databricks.delta.schema.autoMerge.enabled",
         "false"
        ]
       ],
       "datasetInfos": [],
       "dbfsResultPath": null,
       "isJsonSchema": true,
       "metadata": {
        "isDbfsCommandResult": false
       },
       "overflow": false,
       "plotOptions": {
        "customPlotOptions": {},
        "displayType": "table",
        "pivotAggregation": null,
        "pivotColumns": null,
        "xColumns": null,
        "yColumns": null
       },
       "removedWidgets": [],
       "schema": [
        {
         "metadata": "{}",
         "name": "key",
         "type": "\"string\""
        },
        {
         "metadata": "{}",
         "name": "value",
         "type": "\"string\""
        }
       ],
       "type": "table"
      }
     },
     "output_type": "display_data"
    }
   ],
   "source": [
    "SET spark.databricks.delta.schema.autoMerge.enabled=false;"
   ]
  },
  {
   "cell_type": "code",
   "execution_count": 0,
   "metadata": {
    "application/vnd.databricks.v1+cell": {
     "cellMetadata": {
      "byteLimit": 2048000,
      "rowLimit": 10000
     },
     "inputWidgets": {},
     "nuid": "68c11960-653a-4923-bef7-8f3efd0faeef",
     "showTitle": false,
     "tableResultSettingsMap": {},
     "title": ""
    }
   },
   "outputs": [
    {
     "output_type": "display_data",
     "data": {
      "text/html": [
       "<style scoped>\n",
       "  .table-result-container {\n",
       "    max-height: 300px;\n",
       "    overflow: auto;\n",
       "  }\n",
       "  table, th, td {\n",
       "    border: 1px solid black;\n",
       "    border-collapse: collapse;\n",
       "  }\n",
       "  th, td {\n",
       "    padding: 5px;\n",
       "  }\n",
       "  th {\n",
       "    text-align: left;\n",
       "  }\n",
       "</style><div class='table-result-container'><table class='table-result'><thead style='background-color: white'><tr><th>customer_id</th><th>invoice_no</th><th>price</th><th>age</th><th>invoice_date</th><th>quantity</th><th>payment_method</th><th>purchase_details</th></tr></thead><tbody><tr><td>50</td><td>I349253</td><td>143.36</td><td>42</td><td>2022-10-02</td><td>4</td><td>Cash</td><td>null</td></tr><tr><td>51</td><td>I192284</td><td>107.52</td><td>33</td><td>2023-01-05</td><td>3</td><td>Cash</td><td>null</td></tr><tr><td>52</td><td>I766439</td><td>35.84</td><td>37</td><td>2023-01-26</td><td>1</td><td>Cash</td><td>null</td></tr><tr><td>53</td><td>I142150</td><td>81.32</td><td>63</td><td>2021-01-31</td><td>2</td><td>Cash</td><td>null</td></tr><tr><td>54</td><td>I383710</td><td>4200.0</td><td>35</td><td>2021-12-12</td><td>4</td><td>Debit Card</td><td>null</td></tr><tr><td>55</td><td>I279206</td><td>300.08</td><td>64</td><td>2021-11-02</td><td>1</td><td>Credit Card</td><td>null</td></tr><tr><td>21</td><td>I106485</td><td>30.3</td><td>null</td><td>2022-12-01</td><td>2</td><td>Debit Card</td><td>List(7612, 765, ground floor, ST12736)</td></tr><tr><td>17</td><td>I106485</td><td>30.3</td><td>null</td><td>2022-12-01</td><td>2</td><td>Debit Card</td><td>List(7612, 765, ground floor, null)</td></tr><tr><td>17</td><td>I106485</td><td>30.3</td><td>null</td><td>2022-12-01</td><td>2</td><td>Debit Card</td><td>List(123456789012346, 765, null, null)</td></tr><tr><td>16</td><td>I106485</td><td>30.3</td><td>null</td><td>2022-12-01</td><td>2</td><td>Debit Card</td><td>List(12345, 879, null, null)</td></tr><tr><td>11</td><td>I235733</td><td>162.64</td><td>null</td><td>2022-01-04</td><td>4</td><td>Cash</td><td>null</td></tr><tr><td>12</td><td>I272400</td><td>5.23</td><td>null</td><td>2022-01-10</td><td>1</td><td>Cash</td><td>null</td></tr><tr><td>13</td><td>I223729</td><td>107.52</td><td>null</td><td>2022-08-02</td><td>3</td><td>Cash</td><td>null</td></tr><tr><td>14</td><td>I299506</td><td>600.17</td><td>null</td><td>2021-01-06</td><td>1</td><td>Cash</td><td>null</td></tr><tr><td>15</td><td>I106485</td><td>30.3</td><td>null</td><td>2022-12-01</td><td>2</td><td>Debit Card</td><td>null</td></tr><tr><td>123456789012345</td><td>I106485</td><td>30.3</td><td>null</td><td>2022-12-01</td><td>2</td><td>Debit Card</td><td>null</td></tr><tr><td>123456789012345</td><td>I106485</td><td>30.3</td><td>null</td><td>2022-12-01</td><td>2</td><td>Debit Card</td><td>null</td></tr><tr><td>6</td><td>I303349</td><td>71.68</td><td>null</td><td>2021-06-03</td><td>2</td><td>null</td><td>null</td></tr><tr><td>7</td><td>I336350</td><td>15.15</td><td>null</td><td>2021-11-25</td><td>1</td><td>null</td><td>null</td></tr><tr><td>8</td><td>I134255</td><td>1200.32</td><td>null</td><td>2022-10-13</td><td>4</td><td>null</td><td>null</td></tr><tr><td>9</td><td>I306929</td><td>600.16</td><td>null</td><td>2021-08-06</td><td>2</td><td>null</td><td>null</td></tr><tr><td>10</td><td>I280920</td><td>900.24</td><td>null</td><td>2021-04-23</td><td>3</td><td>null</td><td>null</td></tr><tr><td>1</td><td>I178410</td><td>1500.4</td><td>null</td><td>2021-11-26</td><td>null</td><td>null</td><td>null</td></tr><tr><td>2</td><td>I158163</td><td>1200.34</td><td>null</td><td>2023-03-03</td><td>null</td><td>null</td><td>null</td></tr><tr><td>3</td><td>I262373</td><td>107.52</td><td>null</td><td>2022-12-01</td><td>null</td><td>null</td><td>null</td></tr><tr><td>4</td><td>I334895</td><td>26.15</td><td>null</td><td>2021-08-15</td><td>null</td><td>null</td><td>null</td></tr><tr><td>5</td><td>I202043</td><td>35.84</td><td>null</td><td>2021-07-25</td><td>null</td><td>null</td><td>null</td></tr></tbody></table></div>"
      ]
     },
     "metadata": {
      "application/vnd.databricks.v1+output": {
       "addedWidgets": {},
       "aggData": [],
       "aggError": "",
       "aggOverflow": false,
       "aggSchema": [],
       "aggSeriesLimitReached": false,
       "aggType": "",
       "arguments": {},
       "columnCustomDisplayInfos": {},
       "data": [
        [
         50,
         "I349253",
         143.36,
         42,
         "2022-10-02",
         4,
         "Cash",
         null
        ],
        [
         51,
         "I192284",
         107.52,
         33,
         "2023-01-05",
         3,
         "Cash",
         null
        ],
        [
         52,
         "I766439",
         35.84,
         37,
         "2023-01-26",
         1,
         "Cash",
         null
        ],
        [
         53,
         "I142150",
         81.32,
         63,
         "2021-01-31",
         2,
         "Cash",
         null
        ],
        [
         54,
         "I383710",
         4200.0,
         35,
         "2021-12-12",
         4,
         "Debit Card",
         null
        ],
        [
         55,
         "I279206",
         300.08,
         64,
         "2021-11-02",
         1,
         "Credit Card",
         null
        ],
        [
         21,
         "I106485",
         30.3,
         null,
         "2022-12-01",
         2,
         "Debit Card",
         [
          7612,
          765,
          "ground floor",
          "ST12736"
         ]
        ],
        [
         17,
         "I106485",
         30.3,
         null,
         "2022-12-01",
         2,
         "Debit Card",
         [
          7612,
          765,
          "ground floor",
          null
         ]
        ],
        [
         17,
         "I106485",
         30.3,
         null,
         "2022-12-01",
         2,
         "Debit Card",
         [
          123456789012346,
          765,
          null,
          null
         ]
        ],
        [
         16,
         "I106485",
         30.3,
         null,
         "2022-12-01",
         2,
         "Debit Card",
         [
          12345,
          879,
          null,
          null
         ]
        ],
        [
         11,
         "I235733",
         162.64,
         null,
         "2022-01-04",
         4,
         "Cash",
         null
        ],
        [
         12,
         "I272400",
         5.23,
         null,
         "2022-01-10",
         1,
         "Cash",
         null
        ],
        [
         13,
         "I223729",
         107.52,
         null,
         "2022-08-02",
         3,
         "Cash",
         null
        ],
        [
         14,
         "I299506",
         600.17,
         null,
         "2021-01-06",
         1,
         "Cash",
         null
        ],
        [
         15,
         "I106485",
         30.3,
         null,
         "2022-12-01",
         2,
         "Debit Card",
         null
        ],
        [
         123456789012345,
         "I106485",
         30.3,
         null,
         "2022-12-01",
         2,
         "Debit Card",
         null
        ],
        [
         123456789012345,
         "I106485",
         30.3,
         null,
         "2022-12-01",
         2,
         "Debit Card",
         null
        ],
        [
         6,
         "I303349",
         71.68,
         null,
         "2021-06-03",
         2,
         null,
         null
        ],
        [
         7,
         "I336350",
         15.15,
         null,
         "2021-11-25",
         1,
         null,
         null
        ],
        [
         8,
         "I134255",
         1200.32,
         null,
         "2022-10-13",
         4,
         null,
         null
        ],
        [
         9,
         "I306929",
         600.16,
         null,
         "2021-08-06",
         2,
         null,
         null
        ],
        [
         10,
         "I280920",
         900.24,
         null,
         "2021-04-23",
         3,
         null,
         null
        ],
        [
         1,
         "I178410",
         1500.4,
         null,
         "2021-11-26",
         null,
         null,
         null
        ],
        [
         2,
         "I158163",
         1200.34,
         null,
         "2023-03-03",
         null,
         null,
         null
        ],
        [
         3,
         "I262373",
         107.52,
         null,
         "2022-12-01",
         null,
         null,
         null
        ],
        [
         4,
         "I334895",
         26.15,
         null,
         "2021-08-15",
         null,
         null,
         null
        ],
        [
         5,
         "I202043",
         35.84,
         null,
         "2021-07-25",
         null,
         null,
         null
        ]
       ],
       "datasetInfos": [],
       "dbfsResultPath": null,
       "isJsonSchema": true,
       "metadata": {
        "isDbfsCommandResult": false
       },
       "overflow": false,
       "plotOptions": {
        "customPlotOptions": {},
        "displayType": "table",
        "pivotAggregation": null,
        "pivotColumns": null,
        "xColumns": null,
        "yColumns": null
       },
       "removedWidgets": [],
       "schema": [
        {
         "metadata": "{\"delta.typeChanges\":[{\"toType\":\"long\",\"fromType\":\"integer\",\"tableVersion\":6}]}",
         "name": "customer_id",
         "type": "\"long\""
        },
        {
         "metadata": "{}",
         "name": "invoice_no",
         "type": "\"string\""
        },
        {
         "metadata": "{}",
         "name": "price",
         "type": "\"float\""
        },
        {
         "metadata": "{}",
         "name": "age",
         "type": "\"integer\""
        },
        {
         "metadata": "{}",
         "name": "invoice_date",
         "type": "\"date\""
        },
        {
         "metadata": "{}",
         "name": "quantity",
         "type": "\"integer\""
        },
        {
         "metadata": "{}",
         "name": "payment_method",
         "type": "\"string\""
        },
        {
         "metadata": "{}",
         "name": "purchase_details",
         "type": "{\"type\":\"struct\",\"fields\":[{\"name\":\"mall_pin_code\",\"type\":\"long\",\"nullable\":true,\"metadata\":{\"delta.typeChanges\":[{\"toType\":\"long\",\"fromType\":\"integer\",\"tableVersion\":10}]}},{\"name\":\"store_code\",\"type\":\"integer\",\"nullable\":true,\"metadata\":{}},{\"name\":\"store_loc\",\"type\":\"string\",\"nullable\":true,\"metadata\":{}},{\"name\":\"staff_id\",\"type\":\"string\",\"nullable\":true,\"metadata\":{}}]}"
        }
       ],
       "type": "table"
      }
     },
     "output_type": "display_data"
    }
   ],
   "source": [
    "SELECT * FROM deltacatalog.deltadb.invoices_se;"
   ]
  },
  {
   "cell_type": "code",
   "execution_count": 0,
   "metadata": {
    "application/vnd.databricks.v1+cell": {
     "cellMetadata": {
      "byteLimit": 2048000,
      "rowLimit": 10000
     },
     "inputWidgets": {},
     "nuid": "e5021b65-cdd3-4daa-85be-75364e73922d",
     "showTitle": false,
     "tableResultSettingsMap": {},
     "title": ""
    }
   },
   "outputs": [
    {
     "output_type": "display_data",
     "data": {
      "text/html": [
       "<style scoped>\n",
       "  .table-result-container {\n",
       "    max-height: 300px;\n",
       "    overflow: auto;\n",
       "  }\n",
       "  table, th, td {\n",
       "    border: 1px solid black;\n",
       "    border-collapse: collapse;\n",
       "  }\n",
       "  th, td {\n",
       "    padding: 5px;\n",
       "  }\n",
       "  th {\n",
       "    text-align: left;\n",
       "  }\n",
       "</style><div class='table-result-container'><table class='table-result'><thead style='background-color: white'><tr></tr></thead><tbody></tbody></table></div>"
      ]
     },
     "metadata": {
      "application/vnd.databricks.v1+output": {
       "addedWidgets": {},
       "aggData": [],
       "aggError": "",
       "aggOverflow": false,
       "aggSchema": [],
       "aggSeriesLimitReached": false,
       "aggType": "",
       "arguments": {},
       "columnCustomDisplayInfos": {},
       "data": [],
       "datasetInfos": [],
       "dbfsResultPath": null,
       "isJsonSchema": true,
       "metadata": {
        "isDbfsCommandResult": false
       },
       "overflow": false,
       "plotOptions": {
        "customPlotOptions": {},
        "displayType": "table",
        "pivotAggregation": null,
        "pivotColumns": null,
        "xColumns": null,
        "yColumns": null
       },
       "removedWidgets": [],
       "schema": [],
       "type": "table"
      }
     },
     "output_type": "display_data"
    }
   ],
   "source": [
    "-- ALTER TABLE deltacatalog.deltadb.invoices_se ADD COLUMNS (age INT FIRST);\n",
    "ALTER TABLE deltacatalog.deltadb.invoices_se ADD COLUMNS (age INT AFTER price)"
   ]
  },
  {
   "cell_type": "code",
   "execution_count": 0,
   "metadata": {
    "application/vnd.databricks.v1+cell": {
     "cellMetadata": {
      "byteLimit": 2048000,
      "rowLimit": 10000
     },
     "inputWidgets": {},
     "nuid": "428a29cc-84ad-460e-91c6-42c7b42ba6d6",
     "showTitle": false,
     "tableResultSettingsMap": {},
     "title": ""
    }
   },
   "outputs": [
    {
     "output_type": "display_data",
     "data": {
      "text/html": [
       "<style scoped>\n",
       "  .table-result-container {\n",
       "    max-height: 300px;\n",
       "    overflow: auto;\n",
       "  }\n",
       "  table, th, td {\n",
       "    border: 1px solid black;\n",
       "    border-collapse: collapse;\n",
       "  }\n",
       "  th, td {\n",
       "    padding: 5px;\n",
       "  }\n",
       "  th {\n",
       "    text-align: left;\n",
       "  }\n",
       "</style><div class='table-result-container'><table class='table-result'><thead style='background-color: white'><tr><th>num_affected_rows</th><th>num_inserted_rows</th></tr></thead><tbody><tr><td>6</td><td>6</td></tr></tbody></table></div>"
      ]
     },
     "metadata": {
      "application/vnd.databricks.v1+output": {
       "addedWidgets": {},
       "aggData": [],
       "aggError": "",
       "aggOverflow": false,
       "aggSchema": [],
       "aggSeriesLimitReached": false,
       "aggType": "",
       "arguments": {},
       "columnCustomDisplayInfos": {},
       "data": [
        [
         6,
         6
        ]
       ],
       "datasetInfos": [],
       "dbfsResultPath": null,
       "isJsonSchema": true,
       "metadata": {
        "isDbfsCommandResult": false
       },
       "overflow": false,
       "plotOptions": {
        "customPlotOptions": {},
        "displayType": "table",
        "pivotAggregation": null,
        "pivotColumns": null,
        "xColumns": null,
        "yColumns": null
       },
       "removedWidgets": [],
       "schema": [
        {
         "metadata": "{}",
         "name": "num_affected_rows",
         "type": "\"long\""
        },
        {
         "metadata": "{}",
         "name": "num_inserted_rows",
         "type": "\"long\""
        }
       ],
       "type": "table"
      }
     },
     "output_type": "display_data"
    }
   ],
   "source": [
    "INSERT INTO deltacatalog.deltadb.invoices_se\n",
    "SELECT customer_id, invoice_no, price, age, invoice_date, quantity, payment_method, NULL AS purchase_details\n",
    "FROM PARQUET.`abfss://labdata@dbdeltalabstorageacct.dfs.core.windows.net/invoices/invoices_1_100.parquet`\n",
    "WHERE customer_id BETWEEN 50 AND 55"
   ]
  },
  {
   "cell_type": "code",
   "execution_count": 0,
   "metadata": {
    "application/vnd.databricks.v1+cell": {
     "cellMetadata": {
      "byteLimit": 2048000,
      "rowLimit": 10000
     },
     "inputWidgets": {},
     "nuid": "10efa74b-7d65-4164-beb4-e10d2fe327f0",
     "showTitle": false,
     "tableResultSettingsMap": {},
     "title": ""
    }
   },
   "outputs": [
    {
     "output_type": "display_data",
     "data": {
      "text/html": [
       "<style scoped>\n",
       "  .table-result-container {\n",
       "    max-height: 300px;\n",
       "    overflow: auto;\n",
       "  }\n",
       "  table, th, td {\n",
       "    border: 1px solid black;\n",
       "    border-collapse: collapse;\n",
       "  }\n",
       "  th, td {\n",
       "    padding: 5px;\n",
       "  }\n",
       "  th {\n",
       "    text-align: left;\n",
       "  }\n",
       "</style><div class='table-result-container'><table class='table-result'><thead style='background-color: white'><tr><th>key</th><th>value</th></tr></thead><tbody><tr><td>spark.databricks.delta.schema.autoMerge.enabled</td><td>true</td></tr></tbody></table></div>"
      ]
     },
     "metadata": {
      "application/vnd.databricks.v1+output": {
       "addedWidgets": {},
       "aggData": [],
       "aggError": "",
       "aggOverflow": false,
       "aggSchema": [],
       "aggSeriesLimitReached": false,
       "aggType": "",
       "arguments": {},
       "columnCustomDisplayInfos": {},
       "data": [
        [
         "spark.databricks.delta.schema.autoMerge.enabled",
         "true"
        ]
       ],
       "datasetInfos": [],
       "dbfsResultPath": null,
       "isJsonSchema": true,
       "metadata": {
        "isDbfsCommandResult": false
       },
       "overflow": false,
       "plotOptions": {
        "customPlotOptions": {},
        "displayType": "table",
        "pivotAggregation": null,
        "pivotColumns": null,
        "xColumns": null,
        "yColumns": null
       },
       "removedWidgets": [],
       "schema": [
        {
         "metadata": "{}",
         "name": "key",
         "type": "\"string\""
        },
        {
         "metadata": "{}",
         "name": "value",
         "type": "\"string\""
        }
       ],
       "type": "table"
      }
     },
     "output_type": "display_data"
    }
   ],
   "source": [
    "SET spark.databricks.delta.schema.autoMerge.enabled = true;"
   ]
  },
  {
   "cell_type": "code",
   "execution_count": 0,
   "metadata": {
    "application/vnd.databricks.v1+cell": {
     "cellMetadata": {
      "byteLimit": 2048000,
      "rowLimit": 10000
     },
     "inputWidgets": {},
     "nuid": "fc152c5e-e008-42f7-b270-058aacdcb4f3",
     "showTitle": false,
     "tableResultSettingsMap": {},
     "title": ""
    }
   },
   "outputs": [
    {
     "output_type": "display_data",
     "data": {
      "text/html": [
       "<style scoped>\n",
       "  .table-result-container {\n",
       "    max-height: 300px;\n",
       "    overflow: auto;\n",
       "  }\n",
       "  table, th, td {\n",
       "    border: 1px solid black;\n",
       "    border-collapse: collapse;\n",
       "  }\n",
       "  th, td {\n",
       "    padding: 5px;\n",
       "  }\n",
       "  th {\n",
       "    text-align: left;\n",
       "  }\n",
       "</style><div class='table-result-container'><table class='table-result'><thead style='background-color: white'><tr><th>customer_id</th><th>invoice_no</th><th>price</th><th>age</th><th>invoice_date</th><th>quantity</th><th>payment_method</th><th>purchase_details</th></tr></thead><tbody><tr><td>50</td><td>I349253</td><td>143.36</td><td>42</td><td>2022-10-02</td><td>4</td><td>Cash</td><td>null</td></tr><tr><td>51</td><td>I192284</td><td>107.52</td><td>33</td><td>2023-01-05</td><td>3</td><td>Cash</td><td>null</td></tr><tr><td>52</td><td>I766439</td><td>35.84</td><td>37</td><td>2023-01-26</td><td>1</td><td>Cash</td><td>null</td></tr><tr><td>53</td><td>I142150</td><td>81.32</td><td>63</td><td>2021-01-31</td><td>2</td><td>Cash</td><td>null</td></tr><tr><td>54</td><td>I383710</td><td>4200.0</td><td>35</td><td>2021-12-12</td><td>4</td><td>Debit Card</td><td>null</td></tr><tr><td>55</td><td>I279206</td><td>300.08</td><td>64</td><td>2021-11-02</td><td>1</td><td>Credit Card</td><td>null</td></tr><tr><td>21</td><td>I106485</td><td>30.3</td><td>null</td><td>2022-12-01</td><td>2</td><td>Debit Card</td><td>List(7612, 765, ground floor, ST12736)</td></tr><tr><td>17</td><td>I106485</td><td>30.3</td><td>null</td><td>2022-12-01</td><td>2</td><td>Debit Card</td><td>List(7612, 765, ground floor, null)</td></tr><tr><td>17</td><td>I106485</td><td>30.3</td><td>null</td><td>2022-12-01</td><td>2</td><td>Debit Card</td><td>List(123456789012346, 765, null, null)</td></tr><tr><td>16</td><td>I106485</td><td>30.3</td><td>null</td><td>2022-12-01</td><td>2</td><td>Debit Card</td><td>List(12345, 879, null, null)</td></tr><tr><td>11</td><td>I235733</td><td>162.64</td><td>null</td><td>2022-01-04</td><td>4</td><td>Cash</td><td>null</td></tr><tr><td>12</td><td>I272400</td><td>5.23</td><td>null</td><td>2022-01-10</td><td>1</td><td>Cash</td><td>null</td></tr><tr><td>13</td><td>I223729</td><td>107.52</td><td>null</td><td>2022-08-02</td><td>3</td><td>Cash</td><td>null</td></tr><tr><td>14</td><td>I299506</td><td>600.17</td><td>null</td><td>2021-01-06</td><td>1</td><td>Cash</td><td>null</td></tr><tr><td>15</td><td>I106485</td><td>30.3</td><td>null</td><td>2022-12-01</td><td>2</td><td>Debit Card</td><td>null</td></tr><tr><td>123456789012345</td><td>I106485</td><td>30.3</td><td>null</td><td>2022-12-01</td><td>2</td><td>Debit Card</td><td>null</td></tr><tr><td>123456789012345</td><td>I106485</td><td>30.3</td><td>null</td><td>2022-12-01</td><td>2</td><td>Debit Card</td><td>null</td></tr><tr><td>6</td><td>I303349</td><td>71.68</td><td>null</td><td>2021-06-03</td><td>2</td><td>null</td><td>null</td></tr><tr><td>7</td><td>I336350</td><td>15.15</td><td>null</td><td>2021-11-25</td><td>1</td><td>null</td><td>null</td></tr><tr><td>8</td><td>I134255</td><td>1200.32</td><td>null</td><td>2022-10-13</td><td>4</td><td>null</td><td>null</td></tr><tr><td>9</td><td>I306929</td><td>600.16</td><td>null</td><td>2021-08-06</td><td>2</td><td>null</td><td>null</td></tr><tr><td>10</td><td>I280920</td><td>900.24</td><td>null</td><td>2021-04-23</td><td>3</td><td>null</td><td>null</td></tr><tr><td>1</td><td>I178410</td><td>1500.4</td><td>null</td><td>2021-11-26</td><td>null</td><td>null</td><td>null</td></tr><tr><td>2</td><td>I158163</td><td>1200.34</td><td>null</td><td>2023-03-03</td><td>null</td><td>null</td><td>null</td></tr><tr><td>3</td><td>I262373</td><td>107.52</td><td>null</td><td>2022-12-01</td><td>null</td><td>null</td><td>null</td></tr><tr><td>4</td><td>I334895</td><td>26.15</td><td>null</td><td>2021-08-15</td><td>null</td><td>null</td><td>null</td></tr><tr><td>5</td><td>I202043</td><td>35.84</td><td>null</td><td>2021-07-25</td><td>null</td><td>null</td><td>null</td></tr></tbody></table></div>"
      ]
     },
     "metadata": {
      "application/vnd.databricks.v1+output": {
       "addedWidgets": {},
       "aggData": [],
       "aggError": "",
       "aggOverflow": false,
       "aggSchema": [],
       "aggSeriesLimitReached": false,
       "aggType": "",
       "arguments": {},
       "columnCustomDisplayInfos": {},
       "data": [
        [
         50,
         "I349253",
         143.36,
         42,
         "2022-10-02",
         4,
         "Cash",
         null
        ],
        [
         51,
         "I192284",
         107.52,
         33,
         "2023-01-05",
         3,
         "Cash",
         null
        ],
        [
         52,
         "I766439",
         35.84,
         37,
         "2023-01-26",
         1,
         "Cash",
         null
        ],
        [
         53,
         "I142150",
         81.32,
         63,
         "2021-01-31",
         2,
         "Cash",
         null
        ],
        [
         54,
         "I383710",
         4200.0,
         35,
         "2021-12-12",
         4,
         "Debit Card",
         null
        ],
        [
         55,
         "I279206",
         300.08,
         64,
         "2021-11-02",
         1,
         "Credit Card",
         null
        ],
        [
         21,
         "I106485",
         30.3,
         null,
         "2022-12-01",
         2,
         "Debit Card",
         [
          7612,
          765,
          "ground floor",
          "ST12736"
         ]
        ],
        [
         17,
         "I106485",
         30.3,
         null,
         "2022-12-01",
         2,
         "Debit Card",
         [
          7612,
          765,
          "ground floor",
          null
         ]
        ],
        [
         17,
         "I106485",
         30.3,
         null,
         "2022-12-01",
         2,
         "Debit Card",
         [
          123456789012346,
          765,
          null,
          null
         ]
        ],
        [
         16,
         "I106485",
         30.3,
         null,
         "2022-12-01",
         2,
         "Debit Card",
         [
          12345,
          879,
          null,
          null
         ]
        ],
        [
         11,
         "I235733",
         162.64,
         null,
         "2022-01-04",
         4,
         "Cash",
         null
        ],
        [
         12,
         "I272400",
         5.23,
         null,
         "2022-01-10",
         1,
         "Cash",
         null
        ],
        [
         13,
         "I223729",
         107.52,
         null,
         "2022-08-02",
         3,
         "Cash",
         null
        ],
        [
         14,
         "I299506",
         600.17,
         null,
         "2021-01-06",
         1,
         "Cash",
         null
        ],
        [
         15,
         "I106485",
         30.3,
         null,
         "2022-12-01",
         2,
         "Debit Card",
         null
        ],
        [
         123456789012345,
         "I106485",
         30.3,
         null,
         "2022-12-01",
         2,
         "Debit Card",
         null
        ],
        [
         123456789012345,
         "I106485",
         30.3,
         null,
         "2022-12-01",
         2,
         "Debit Card",
         null
        ],
        [
         6,
         "I303349",
         71.68,
         null,
         "2021-06-03",
         2,
         null,
         null
        ],
        [
         7,
         "I336350",
         15.15,
         null,
         "2021-11-25",
         1,
         null,
         null
        ],
        [
         8,
         "I134255",
         1200.32,
         null,
         "2022-10-13",
         4,
         null,
         null
        ],
        [
         9,
         "I306929",
         600.16,
         null,
         "2021-08-06",
         2,
         null,
         null
        ],
        [
         10,
         "I280920",
         900.24,
         null,
         "2021-04-23",
         3,
         null,
         null
        ],
        [
         1,
         "I178410",
         1500.4,
         null,
         "2021-11-26",
         null,
         null,
         null
        ],
        [
         2,
         "I158163",
         1200.34,
         null,
         "2023-03-03",
         null,
         null,
         null
        ],
        [
         3,
         "I262373",
         107.52,
         null,
         "2022-12-01",
         null,
         null,
         null
        ],
        [
         4,
         "I334895",
         26.15,
         null,
         "2021-08-15",
         null,
         null,
         null
        ],
        [
         5,
         "I202043",
         35.84,
         null,
         "2021-07-25",
         null,
         null,
         null
        ]
       ],
       "datasetInfos": [],
       "dbfsResultPath": null,
       "isJsonSchema": true,
       "metadata": {
        "isDbfsCommandResult": false
       },
       "overflow": false,
       "plotOptions": {
        "customPlotOptions": {},
        "displayType": "table",
        "pivotAggregation": null,
        "pivotColumns": null,
        "xColumns": null,
        "yColumns": null
       },
       "removedWidgets": [],
       "schema": [
        {
         "metadata": "{\"delta.typeChanges\":[{\"toType\":\"long\",\"fromType\":\"integer\",\"tableVersion\":6}]}",
         "name": "customer_id",
         "type": "\"long\""
        },
        {
         "metadata": "{}",
         "name": "invoice_no",
         "type": "\"string\""
        },
        {
         "metadata": "{}",
         "name": "price",
         "type": "\"float\""
        },
        {
         "metadata": "{}",
         "name": "age",
         "type": "\"integer\""
        },
        {
         "metadata": "{}",
         "name": "invoice_date",
         "type": "\"date\""
        },
        {
         "metadata": "{}",
         "name": "quantity",
         "type": "\"integer\""
        },
        {
         "metadata": "{}",
         "name": "payment_method",
         "type": "\"string\""
        },
        {
         "metadata": "{}",
         "name": "purchase_details",
         "type": "{\"type\":\"struct\",\"fields\":[{\"name\":\"mall_pin_code\",\"type\":\"long\",\"nullable\":true,\"metadata\":{\"delta.typeChanges\":[{\"toType\":\"long\",\"fromType\":\"integer\",\"tableVersion\":10}]}},{\"name\":\"store_code\",\"type\":\"integer\",\"nullable\":true,\"metadata\":{}},{\"name\":\"store_loc\",\"type\":\"string\",\"nullable\":true,\"metadata\":{}},{\"name\":\"staff_id\",\"type\":\"string\",\"nullable\":true,\"metadata\":{}}]}"
        }
       ],
       "type": "table"
      }
     },
     "output_type": "display_data"
    }
   ],
   "source": [
    "SELECT * FROM deltacatalog.deltadb.invoices_se;"
   ]
  },
  {
   "cell_type": "code",
   "execution_count": 0,
   "metadata": {
    "application/vnd.databricks.v1+cell": {
     "cellMetadata": {
      "byteLimit": 2048000,
      "rowLimit": 10000
     },
     "inputWidgets": {},
     "nuid": "5ac189d3-8907-40b5-9610-117314cba47b",
     "showTitle": false,
     "tableResultSettingsMap": {},
     "title": ""
    }
   },
   "outputs": [
    {
     "output_type": "display_data",
     "data": {
      "text/plain": [
       "org.apache.spark.sql.catalyst.ExtendedAnalysisException: [DATATYPE_MISMATCH.CAST_WITHOUT_SUGGESTION] Cannot resolve \"category\" due to data type mismatch: cannot cast \"STRING\" to \"STRUCT<mall_pin_code: BIGINT, store_code: INT, store_loc: STRING, staff_id: STRING>\". SQLSTATE: 42K09; line 1 pos 0;\n",
       "'AppendData RelationV2[customer_id#11171L, invoice_no#11172, price#11173, age#11174, invoice_date#11175, quantity#11176, payment_method#11177, purchase_details#11178] deltacatalog.deltadb.invoices_se deltacatalog.deltadb.invoices_se, false, true\n",
       "+- 'Project [cast(customer_id#11179 as bigint) AS customer_id#11193L, invoice_no#11180 AS invoice_no#11194, price#11185 AS price#11195, age#11182 AS age#11196, invoice_date#11187 AS invoice_date#11197, quantity#11184 AS quantity#11198, payment_method#11186 AS payment_method#11199, cast(category#11183 as struct<mall_pin_code:bigint,store_code:int,store_loc:string,staff_id:string>) AS purchase_details#11200, purchase_details#11170]\n",
       "   +- Project [customer_id#11179, invoice_no#11180, price#11185, age#11182, invoice_date#11187, quantity#11184, payment_method#11186, category#11183, null AS purchase_details#11170]\n",
       "      +- Filter between(customer_id#11179, 56, 60)\n",
       "         +- Relation [customer_id#11179,invoice_no#11180,gender#11181,age#11182,category#11183,quantity#11184,price#11185,payment_method#11186,invoice_date#11187,shopping_mall#11188,_rescued_data#11189] parquet\n",
       "\n",
       "\tat org.apache.spark.sql.catalyst.analysis.package$AnalysisErrorAt.dataTypeMismatch(package.scala:76)\n",
       "\tat org.apache.spark.sql.catalyst.analysis.CheckAnalysis.$anonfun$checkAnalysis0$8(CheckAnalysis.scala:348)\n",
       "\tat org.apache.spark.sql.catalyst.analysis.CheckAnalysis.$anonfun$checkAnalysis0$8$adapted(CheckAnalysis.scala:322)\n",
       "\tat org.apache.spark.sql.catalyst.trees.TreeNode.foreachUp(TreeNode.scala:287)\n",
       "\tat org.apache.spark.sql.catalyst.trees.TreeNode.$anonfun$foreachUp$1(TreeNode.scala:286)\n",
       "\tat org.apache.spark.sql.catalyst.trees.TreeNode.$anonfun$foreachUp$1$adapted(TreeNode.scala:286)\n",
       "\tat scala.collection.Iterator.foreach(Iterator.scala:943)\n",
       "\tat scala.collection.Iterator.foreach$(Iterator.scala:943)\n",
       "\tat scala.collection.AbstractIterator.foreach(Iterator.scala:1431)\n",
       "\tat scala.collection.IterableLike.foreach(IterableLike.scala:74)\n",
       "\tat scala.collection.IterableLike.foreach$(IterableLike.scala:73)\n",
       "\tat scala.collection.AbstractIterable.foreach(Iterable.scala:56)\n",
       "\tat org.apache.spark.sql.catalyst.trees.TreeNode.foreachUp(TreeNode.scala:286)\n",
       "\tat org.apache.spark.sql.catalyst.trees.TreeNode.$anonfun$foreachUp$1(TreeNode.scala:286)\n",
       "\tat org.apache.spark.sql.catalyst.trees.TreeNode.$anonfun$foreachUp$1$adapted(TreeNode.scala:286)\n",
       "\tat scala.collection.Iterator.foreach(Iterator.scala:943)\n",
       "\tat scala.collection.Iterator.foreach$(Iterator.scala:943)\n",
       "\tat scala.collection.AbstractIterator.foreach(Iterator.scala:1431)\n",
       "\tat scala.collection.IterableLike.foreach(IterableLike.scala:74)\n",
       "\tat scala.collection.IterableLike.foreach$(IterableLike.scala:73)\n",
       "\tat scala.collection.AbstractIterable.foreach(Iterable.scala:56)\n",
       "\tat org.apache.spark.sql.catalyst.trees.TreeNode.foreachUp(TreeNode.scala:286)\n",
       "\tat org.apache.spark.sql.catalyst.analysis.CheckAnalysis.$anonfun$checkAnalysis0$7(CheckAnalysis.scala:322)\n",
       "\tat org.apache.spark.sql.catalyst.analysis.CheckAnalysis.$anonfun$checkAnalysis0$7$adapted(CheckAnalysis.scala:322)\n",
       "\tat scala.collection.immutable.Stream.foreach(Stream.scala:533)\n",
       "\tat org.apache.spark.sql.catalyst.analysis.CheckAnalysis.$anonfun$checkAnalysis0$2(CheckAnalysis.scala:322)\n",
       "\tat org.apache.spark.sql.catalyst.analysis.CheckAnalysis.$anonfun$checkAnalysis0$2$adapted(CheckAnalysis.scala:197)\n",
       "\tat org.apache.spark.sql.catalyst.trees.TreeNode.foreachUp(TreeNode.scala:287)\n",
       "\tat org.apache.spark.sql.catalyst.trees.TreeNode.$anonfun$foreachUp$1(TreeNode.scala:286)\n",
       "\tat org.apache.spark.sql.catalyst.trees.TreeNode.$anonfun$foreachUp$1$adapted(TreeNode.scala:286)\n",
       "\tat scala.collection.Iterator.foreach(Iterator.scala:943)\n",
       "\tat scala.collection.Iterator.foreach$(Iterator.scala:943)\n",
       "\tat scala.collection.AbstractIterator.foreach(Iterator.scala:1431)\n",
       "\tat scala.collection.IterableLike.foreach(IterableLike.scala:74)\n",
       "\tat scala.collection.IterableLike.foreach$(IterableLike.scala:73)\n",
       "\tat scala.collection.AbstractIterable.foreach(Iterable.scala:56)\n",
       "\tat org.apache.spark.sql.catalyst.trees.TreeNode.foreachUp(TreeNode.scala:286)\n",
       "\tat org.apache.spark.sql.catalyst.analysis.CheckAnalysis.checkAnalysis0(CheckAnalysis.scala:197)\n",
       "\tat org.apache.spark.sql.catalyst.analysis.CheckAnalysis.checkAnalysis0$(CheckAnalysis.scala:179)\n",
       "\tat org.apache.spark.sql.catalyst.analysis.Analyzer.checkAnalysis0(Analyzer.scala:369)\n",
       "\tat org.apache.spark.sql.catalyst.analysis.CheckAnalysis.$anonfun$checkAnalysis$1(CheckAnalysis.scala:167)\n",
       "\tat scala.runtime.java8.JFunction0$mcV$sp.apply(JFunction0$mcV$sp.java:23)\n",
       "\tat com.databricks.spark.util.FrameProfiler$.record(FrameProfiler.scala:94)\n",
       "\tat org.apache.spark.sql.catalyst.analysis.CheckAnalysis.checkAnalysis(CheckAnalysis.scala:155)\n",
       "\tat org.apache.spark.sql.catalyst.analysis.CheckAnalysis.checkAnalysis$(CheckAnalysis.scala:155)\n",
       "\tat org.apache.spark.sql.catalyst.analysis.Analyzer.checkAnalysis(Analyzer.scala:369)\n",
       "\tat org.apache.spark.sql.catalyst.analysis.Analyzer.$anonfun$executeAndCheck$2(Analyzer.scala:424)\n",
       "\tat scala.runtime.java8.JFunction0$mcV$sp.apply(JFunction0$mcV$sp.java:23)\n",
       "\tat org.apache.spark.sql.catalyst.QueryPlanningTracker$.withTracker(QueryPlanningTracker.scala:184)\n",
       "\tat org.apache.spark.sql.catalyst.analysis.Analyzer.$anonfun$executeAndCheck$1(Analyzer.scala:424)\n",
       "\tat org.apache.spark.sql.catalyst.plans.logical.AnalysisHelper$.markInAnalyzer(AnalysisHelper.scala:443)\n",
       "\tat org.apache.spark.sql.catalyst.analysis.Analyzer.executeAndCheck(Analyzer.scala:421)\n",
       "\tat org.apache.spark.sql.execution.QueryExecution.$anonfun$analyzed$1(QueryExecution.scala:287)\n",
       "\tat com.databricks.spark.util.FrameProfiler$.record(FrameProfiler.scala:94)\n",
       "\tat org.apache.spark.sql.catalyst.QueryPlanningTracker.measurePhase(QueryPlanningTracker.scala:460)\n",
       "\tat org.apache.spark.sql.execution.QueryExecution.$anonfun$executePhase$5(QueryExecution.scala:638)\n",
       "\tat org.apache.spark.sql.execution.SQLExecution$.withExecutionPhase(SQLExecution.scala:144)\n",
       "\tat org.apache.spark.sql.execution.QueryExecution.$anonfun$executePhase$4(QueryExecution.scala:638)\n",
       "\tat org.apache.spark.sql.execution.QueryExecution$.withInternalError(QueryExecution.scala:1204)\n",
       "\tat org.apache.spark.sql.execution.QueryExecution.$anonfun$executePhase$2(QueryExecution.scala:637)\n",
       "\tat com.databricks.util.LexicalThreadLocal$Handle.runWith(LexicalThreadLocal.scala:63)\n",
       "\tat org.apache.spark.sql.execution.QueryExecution.$anonfun$executePhase$1(QueryExecution.scala:633)\n",
       "\tat org.apache.spark.sql.SparkSession.withActive(SparkSession.scala:1184)\n",
       "\tat org.apache.spark.sql.execution.QueryExecution.executePhase(QueryExecution.scala:633)\n",
       "\tat org.apache.spark.sql.execution.QueryExecution.analyzed$lzycompute(QueryExecution.scala:281)\n",
       "\tat org.apache.spark.sql.execution.QueryExecution.analyzed(QueryExecution.scala:280)\n",
       "\tat org.apache.spark.sql.execution.QueryExecution.assertAnalyzed(QueryExecution.scala:262)\n",
       "\tat org.apache.spark.sql.Dataset$.$anonfun$ofRows$2(Dataset.scala:130)\n",
       "\tat org.apache.spark.sql.SparkSession.withActive(SparkSession.scala:1184)\n",
       "\tat org.apache.spark.sql.SparkSession.$anonfun$withActiveAndFrameProfiler$1(SparkSession.scala:1191)\n",
       "\tat com.databricks.spark.util.FrameProfiler$.record(FrameProfiler.scala:94)\n",
       "\tat org.apache.spark.sql.SparkSession.withActiveAndFrameProfiler(SparkSession.scala:1191)\n",
       "\tat org.apache.spark.sql.Dataset$.ofRows(Dataset.scala:122)\n",
       "\tat org.apache.spark.sql.SparkSession.$anonfun$sql$4(SparkSession.scala:963)\n",
       "\tat org.apache.spark.sql.SparkSession.withActive(SparkSession.scala:1184)\n",
       "\tat org.apache.spark.sql.SparkSession.sql(SparkSession.scala:947)\n",
       "\tat org.apache.spark.sql.SparkSession.sql(SparkSession.scala:986)\n",
       "\tat com.databricks.backend.daemon.driver.DriverLocal$DbClassicStrategy.executeSQLQuery(DriverLocal.scala:301)\n",
       "\tat com.databricks.backend.daemon.driver.DriverLocal.executeSQLSubCommand(DriverLocal.scala:401)\n",
       "\tat com.databricks.backend.daemon.driver.DriverLocal.$anonfun$executeSql$1(DriverLocal.scala:423)\n",
       "\tat scala.collection.immutable.List.map(List.scala:293)\n",
       "\tat com.databricks.backend.daemon.driver.DriverLocal.executeSql(DriverLocal.scala:418)\n",
       "\tat com.databricks.backend.daemon.driver.SQLDriverLocal.repl(SQLDriverLocal.scala:40)\n",
       "\tat com.databricks.backend.daemon.driver.DriverLocal.$anonfun$execute$33(DriverLocal.scala:1172)\n",
       "\tat com.databricks.unity.UCSEphemeralState$Handle.runWith(UCSEphemeralState.scala:51)\n",
       "\tat com.databricks.unity.HandleImpl.runWith(UCSHandle.scala:104)\n",
       "\tat com.databricks.backend.daemon.driver.DriverLocal.$anonfun$execute$28(DriverLocal.scala:1163)\n",
       "\tat com.databricks.logging.AttributionContextTracing.$anonfun$withAttributionContext$1(AttributionContextTracing.scala:48)\n",
       "\tat com.databricks.logging.AttributionContext$.$anonfun$withValue$1(AttributionContext.scala:276)\n",
       "\tat scala.util.DynamicVariable.withValue(DynamicVariable.scala:62)\n",
       "\tat com.databricks.logging.AttributionContext$.withValue(AttributionContext.scala:272)\n",
       "\tat com.databricks.logging.AttributionContextTracing.withAttributionContext(AttributionContextTracing.scala:46)\n",
       "\tat com.databricks.logging.AttributionContextTracing.withAttributionContext$(AttributionContextTracing.scala:43)\n",
       "\tat com.databricks.backend.daemon.driver.DriverLocal.withAttributionContext(DriverLocal.scala:96)\n",
       "\tat com.databricks.logging.AttributionContextTracing.withAttributionTags(AttributionContextTracing.scala:95)\n",
       "\tat com.databricks.logging.AttributionContextTracing.withAttributionTags$(AttributionContextTracing.scala:76)\n",
       "\tat com.databricks.backend.daemon.driver.DriverLocal.withAttributionTags(DriverLocal.scala:96)\n",
       "\tat com.databricks.backend.daemon.driver.DriverLocal.$anonfun$execute$1(DriverLocal.scala:1099)\n",
       "\tat com.databricks.backend.daemon.driver.DriverLocal$.$anonfun$maybeSynchronizeExecution$4(DriverLocal.scala:1519)\n",
       "\tat com.databricks.backend.daemon.driver.DriverLocal.execute(DriverLocal.scala:776)\n",
       "\tat com.databricks.backend.daemon.driver.DriverWrapper.$anonfun$tryExecutingCommand$2(DriverWrapper.scala:932)\n",
       "\tat scala.util.Try$.apply(Try.scala:213)\n",
       "\tat com.databricks.backend.daemon.driver.DriverWrapper.$anonfun$tryExecutingCommand$1(DriverWrapper.scala:921)\n",
       "\tat com.databricks.backend.daemon.driver.DriverWrapper.$anonfun$tryExecutingCommand$3(DriverWrapper.scala:967)\n",
       "\tat com.databricks.logging.UsageLogging.executeThunkAndCaptureResultTags$1(UsageLogging.scala:633)\n",
       "\tat com.databricks.logging.UsageLogging.$anonfun$recordOperationWithResultTags$4(UsageLogging.scala:656)\n",
       "\tat com.databricks.logging.AttributionContextTracing.$anonfun$withAttributionContext$1(AttributionContextTracing.scala:48)\n",
       "\tat com.databricks.logging.AttributionContext$.$anonfun$withValue$1(AttributionContext.scala:276)\n",
       "\tat scala.util.DynamicVariable.withValue(DynamicVariable.scala:62)\n",
       "\tat com.databricks.logging.AttributionContext$.withValue(AttributionContext.scala:272)\n",
       "\tat com.databricks.logging.AttributionContextTracing.withAttributionContext(AttributionContextTracing.scala:46)\n",
       "\tat com.databricks.logging.AttributionContextTracing.withAttributionContext$(AttributionContextTracing.scala:43)\n",
       "\tat com.databricks.backend.daemon.driver.DriverWrapper.withAttributionContext(DriverWrapper.scala:73)\n",
       "\tat com.databricks.logging.AttributionContextTracing.withAttributionTags(AttributionContextTracing.scala:95)\n",
       "\tat com.databricks.logging.AttributionContextTracing.withAttributionTags$(AttributionContextTracing.scala:76)\n",
       "\tat com.databricks.backend.daemon.driver.DriverWrapper.withAttributionTags(DriverWrapper.scala:73)\n",
       "\tat com.databricks.logging.UsageLogging.recordOperationWithResultTags(UsageLogging.scala:628)\n",
       "\tat com.databricks.logging.UsageLogging.recordOperationWithResultTags$(UsageLogging.scala:537)\n",
       "\tat com.databricks.backend.daemon.driver.DriverWrapper.recordOperationWithResultTags(DriverWrapper.scala:73)\n",
       "\tat com.databricks.backend.daemon.driver.DriverWrapper.tryExecutingCommand(DriverWrapper.scala:967)\n",
       "\tat com.databricks.backend.daemon.driver.DriverWrapper.executeCommandAndGetError(DriverWrapper.scala:717)\n",
       "\tat com.databricks.backend.daemon.driver.DriverWrapper.executeCommand(DriverWrapper.scala:785)\n",
       "\tat com.databricks.backend.daemon.driver.DriverWrapper.$anonfun$runInnerLoop$1(DriverWrapper.scala:590)\n",
       "\tat scala.runtime.java8.JFunction0$mcV$sp.apply(JFunction0$mcV$sp.java:23)\n",
       "\tat com.databricks.logging.AttributionContextTracing.$anonfun$withAttributionContext$1(AttributionContextTracing.scala:48)\n",
       "\tat com.databricks.logging.AttributionContext$.$anonfun$withValue$1(AttributionContext.scala:276)\n",
       "\tat scala.util.DynamicVariable.withValue(DynamicVariable.scala:62)\n",
       "\tat com.databricks.logging.AttributionContext$.withValue(AttributionContext.scala:272)\n",
       "\tat com.databricks.logging.AttributionContextTracing.withAttributionContext(AttributionContextTracing.scala:46)\n",
       "\tat com.databricks.logging.AttributionContextTracing.withAttributionContext$(AttributionContextTracing.scala:43)\n",
       "\tat com.databricks.backend.daemon.driver.DriverWrapper.withAttributionContext(DriverWrapper.scala:73)\n",
       "\tat com.databricks.backend.daemon.driver.DriverWrapper.runInnerLoop(DriverWrapper.scala:590)\n",
       "\tat com.databricks.backend.daemon.driver.DriverWrapper.runInner(DriverWrapper.scala:512)\n",
       "\tat com.databricks.backend.daemon.driver.DriverWrapper.run(DriverWrapper.scala:306)\n",
       "\tat java.lang.Thread.run(Thread.java:750)\n"
      ]
     },
     "metadata": {
      "application/vnd.databricks.v1+output": {
       "addedWidgets": {},
       "arguments": {},
       "datasetInfos": [],
       "jupyterProps": null,
       "metadata": {
        "errorSummary": "[DATATYPE_MISMATCH.CAST_WITHOUT_SUGGESTION] Cannot resolve \"category\" due to data type mismatch: cannot cast \"STRING\" to \"STRUCT<mall_pin_code: BIGINT, store_code: INT, store_loc: STRING, staff_id: STRING>\". SQLSTATE: 42K09"
       },
       "removedWidgets": [],
       "sqlProps": {
        "breakingChangeInfo": null,
        "errorClass": "DATATYPE_MISMATCH.CAST_WITHOUT_SUGGESTION",
        "pysparkCallSite": null,
        "pysparkFragment": null,
        "pysparkSummary": null,
        "sqlState": "42K09",
        "stackTrace": null,
        "startIndex": 0,
        "stopIndex": 43
       },
       "stackFrames": [
        "org.apache.spark.sql.catalyst.ExtendedAnalysisException: [DATATYPE_MISMATCH.CAST_WITHOUT_SUGGESTION] Cannot resolve \"category\" due to data type mismatch: cannot cast \"STRING\" to \"STRUCT<mall_pin_code: BIGINT, store_code: INT, store_loc: STRING, staff_id: STRING>\". SQLSTATE: 42K09; line 1 pos 0;\n'AppendData RelationV2[customer_id#11171L, invoice_no#11172, price#11173, age#11174, invoice_date#11175, quantity#11176, payment_method#11177, purchase_details#11178] deltacatalog.deltadb.invoices_se deltacatalog.deltadb.invoices_se, false, true\n+- 'Project [cast(customer_id#11179 as bigint) AS customer_id#11193L, invoice_no#11180 AS invoice_no#11194, price#11185 AS price#11195, age#11182 AS age#11196, invoice_date#11187 AS invoice_date#11197, quantity#11184 AS quantity#11198, payment_method#11186 AS payment_method#11199, cast(category#11183 as struct<mall_pin_code:bigint,store_code:int,store_loc:string,staff_id:string>) AS purchase_details#11200, purchase_details#11170]\n   +- Project [customer_id#11179, invoice_no#11180, price#11185, age#11182, invoice_date#11187, quantity#11184, payment_method#11186, category#11183, null AS purchase_details#11170]\n      +- Filter between(customer_id#11179, 56, 60)\n         +- Relation [customer_id#11179,invoice_no#11180,gender#11181,age#11182,category#11183,quantity#11184,price#11185,payment_method#11186,invoice_date#11187,shopping_mall#11188,_rescued_data#11189] parquet\n\n\tat org.apache.spark.sql.catalyst.analysis.package$AnalysisErrorAt.dataTypeMismatch(package.scala:76)\n\tat org.apache.spark.sql.catalyst.analysis.CheckAnalysis.$anonfun$checkAnalysis0$8(CheckAnalysis.scala:348)\n\tat org.apache.spark.sql.catalyst.analysis.CheckAnalysis.$anonfun$checkAnalysis0$8$adapted(CheckAnalysis.scala:322)\n\tat org.apache.spark.sql.catalyst.trees.TreeNode.foreachUp(TreeNode.scala:287)\n\tat org.apache.spark.sql.catalyst.trees.TreeNode.$anonfun$foreachUp$1(TreeNode.scala:286)\n\tat org.apache.spark.sql.catalyst.trees.TreeNode.$anonfun$foreachUp$1$adapted(TreeNode.scala:286)\n\tat scala.collection.Iterator.foreach(Iterator.scala:943)\n\tat scala.collection.Iterator.foreach$(Iterator.scala:943)\n\tat scala.collection.AbstractIterator.foreach(Iterator.scala:1431)\n\tat scala.collection.IterableLike.foreach(IterableLike.scala:74)\n\tat scala.collection.IterableLike.foreach$(IterableLike.scala:73)\n\tat scala.collection.AbstractIterable.foreach(Iterable.scala:56)\n\tat org.apache.spark.sql.catalyst.trees.TreeNode.foreachUp(TreeNode.scala:286)\n\tat org.apache.spark.sql.catalyst.trees.TreeNode.$anonfun$foreachUp$1(TreeNode.scala:286)\n\tat org.apache.spark.sql.catalyst.trees.TreeNode.$anonfun$foreachUp$1$adapted(TreeNode.scala:286)\n\tat scala.collection.Iterator.foreach(Iterator.scala:943)\n\tat scala.collection.Iterator.foreach$(Iterator.scala:943)\n\tat scala.collection.AbstractIterator.foreach(Iterator.scala:1431)\n\tat scala.collection.IterableLike.foreach(IterableLike.scala:74)\n\tat scala.collection.IterableLike.foreach$(IterableLike.scala:73)\n\tat scala.collection.AbstractIterable.foreach(Iterable.scala:56)\n\tat org.apache.spark.sql.catalyst.trees.TreeNode.foreachUp(TreeNode.scala:286)\n\tat org.apache.spark.sql.catalyst.analysis.CheckAnalysis.$anonfun$checkAnalysis0$7(CheckAnalysis.scala:322)\n\tat org.apache.spark.sql.catalyst.analysis.CheckAnalysis.$anonfun$checkAnalysis0$7$adapted(CheckAnalysis.scala:322)\n\tat scala.collection.immutable.Stream.foreach(Stream.scala:533)\n\tat org.apache.spark.sql.catalyst.analysis.CheckAnalysis.$anonfun$checkAnalysis0$2(CheckAnalysis.scala:322)\n\tat org.apache.spark.sql.catalyst.analysis.CheckAnalysis.$anonfun$checkAnalysis0$2$adapted(CheckAnalysis.scala:197)\n\tat org.apache.spark.sql.catalyst.trees.TreeNode.foreachUp(TreeNode.scala:287)\n\tat org.apache.spark.sql.catalyst.trees.TreeNode.$anonfun$foreachUp$1(TreeNode.scala:286)\n\tat org.apache.spark.sql.catalyst.trees.TreeNode.$anonfun$foreachUp$1$adapted(TreeNode.scala:286)\n\tat scala.collection.Iterator.foreach(Iterator.scala:943)\n\tat scala.collection.Iterator.foreach$(Iterator.scala:943)\n\tat scala.collection.AbstractIterator.foreach(Iterator.scala:1431)\n\tat scala.collection.IterableLike.foreach(IterableLike.scala:74)\n\tat scala.collection.IterableLike.foreach$(IterableLike.scala:73)\n\tat scala.collection.AbstractIterable.foreach(Iterable.scala:56)\n\tat org.apache.spark.sql.catalyst.trees.TreeNode.foreachUp(TreeNode.scala:286)\n\tat org.apache.spark.sql.catalyst.analysis.CheckAnalysis.checkAnalysis0(CheckAnalysis.scala:197)\n\tat org.apache.spark.sql.catalyst.analysis.CheckAnalysis.checkAnalysis0$(CheckAnalysis.scala:179)\n\tat org.apache.spark.sql.catalyst.analysis.Analyzer.checkAnalysis0(Analyzer.scala:369)\n\tat org.apache.spark.sql.catalyst.analysis.CheckAnalysis.$anonfun$checkAnalysis$1(CheckAnalysis.scala:167)\n\tat scala.runtime.java8.JFunction0$mcV$sp.apply(JFunction0$mcV$sp.java:23)\n\tat com.databricks.spark.util.FrameProfiler$.record(FrameProfiler.scala:94)\n\tat org.apache.spark.sql.catalyst.analysis.CheckAnalysis.checkAnalysis(CheckAnalysis.scala:155)\n\tat org.apache.spark.sql.catalyst.analysis.CheckAnalysis.checkAnalysis$(CheckAnalysis.scala:155)\n\tat org.apache.spark.sql.catalyst.analysis.Analyzer.checkAnalysis(Analyzer.scala:369)\n\tat org.apache.spark.sql.catalyst.analysis.Analyzer.$anonfun$executeAndCheck$2(Analyzer.scala:424)\n\tat scala.runtime.java8.JFunction0$mcV$sp.apply(JFunction0$mcV$sp.java:23)\n\tat org.apache.spark.sql.catalyst.QueryPlanningTracker$.withTracker(QueryPlanningTracker.scala:184)\n\tat org.apache.spark.sql.catalyst.analysis.Analyzer.$anonfun$executeAndCheck$1(Analyzer.scala:424)\n\tat org.apache.spark.sql.catalyst.plans.logical.AnalysisHelper$.markInAnalyzer(AnalysisHelper.scala:443)\n\tat org.apache.spark.sql.catalyst.analysis.Analyzer.executeAndCheck(Analyzer.scala:421)\n\tat org.apache.spark.sql.execution.QueryExecution.$anonfun$analyzed$1(QueryExecution.scala:287)\n\tat com.databricks.spark.util.FrameProfiler$.record(FrameProfiler.scala:94)\n\tat org.apache.spark.sql.catalyst.QueryPlanningTracker.measurePhase(QueryPlanningTracker.scala:460)\n\tat org.apache.spark.sql.execution.QueryExecution.$anonfun$executePhase$5(QueryExecution.scala:638)\n\tat org.apache.spark.sql.execution.SQLExecution$.withExecutionPhase(SQLExecution.scala:144)\n\tat org.apache.spark.sql.execution.QueryExecution.$anonfun$executePhase$4(QueryExecution.scala:638)\n\tat org.apache.spark.sql.execution.QueryExecution$.withInternalError(QueryExecution.scala:1204)\n\tat org.apache.spark.sql.execution.QueryExecution.$anonfun$executePhase$2(QueryExecution.scala:637)\n\tat com.databricks.util.LexicalThreadLocal$Handle.runWith(LexicalThreadLocal.scala:63)\n\tat org.apache.spark.sql.execution.QueryExecution.$anonfun$executePhase$1(QueryExecution.scala:633)\n\tat org.apache.spark.sql.SparkSession.withActive(SparkSession.scala:1184)\n\tat org.apache.spark.sql.execution.QueryExecution.executePhase(QueryExecution.scala:633)\n\tat org.apache.spark.sql.execution.QueryExecution.analyzed$lzycompute(QueryExecution.scala:281)\n\tat org.apache.spark.sql.execution.QueryExecution.analyzed(QueryExecution.scala:280)\n\tat org.apache.spark.sql.execution.QueryExecution.assertAnalyzed(QueryExecution.scala:262)\n\tat org.apache.spark.sql.Dataset$.$anonfun$ofRows$2(Dataset.scala:130)\n\tat org.apache.spark.sql.SparkSession.withActive(SparkSession.scala:1184)\n\tat org.apache.spark.sql.SparkSession.$anonfun$withActiveAndFrameProfiler$1(SparkSession.scala:1191)\n\tat com.databricks.spark.util.FrameProfiler$.record(FrameProfiler.scala:94)\n\tat org.apache.spark.sql.SparkSession.withActiveAndFrameProfiler(SparkSession.scala:1191)\n\tat org.apache.spark.sql.Dataset$.ofRows(Dataset.scala:122)\n\tat org.apache.spark.sql.SparkSession.$anonfun$sql$4(SparkSession.scala:963)\n\tat org.apache.spark.sql.SparkSession.withActive(SparkSession.scala:1184)\n\tat org.apache.spark.sql.SparkSession.sql(SparkSession.scala:947)\n\tat org.apache.spark.sql.SparkSession.sql(SparkSession.scala:986)\n\tat com.databricks.backend.daemon.driver.DriverLocal$DbClassicStrategy.executeSQLQuery(DriverLocal.scala:301)\n\tat com.databricks.backend.daemon.driver.DriverLocal.executeSQLSubCommand(DriverLocal.scala:401)\n\tat com.databricks.backend.daemon.driver.DriverLocal.$anonfun$executeSql$1(DriverLocal.scala:423)\n\tat scala.collection.immutable.List.map(List.scala:293)\n\tat com.databricks.backend.daemon.driver.DriverLocal.executeSql(DriverLocal.scala:418)\n\tat com.databricks.backend.daemon.driver.SQLDriverLocal.repl(SQLDriverLocal.scala:40)\n\tat com.databricks.backend.daemon.driver.DriverLocal.$anonfun$execute$33(DriverLocal.scala:1172)\n\tat com.databricks.unity.UCSEphemeralState$Handle.runWith(UCSEphemeralState.scala:51)\n\tat com.databricks.unity.HandleImpl.runWith(UCSHandle.scala:104)\n\tat com.databricks.backend.daemon.driver.DriverLocal.$anonfun$execute$28(DriverLocal.scala:1163)\n\tat com.databricks.logging.AttributionContextTracing.$anonfun$withAttributionContext$1(AttributionContextTracing.scala:48)\n\tat com.databricks.logging.AttributionContext$.$anonfun$withValue$1(AttributionContext.scala:276)\n\tat scala.util.DynamicVariable.withValue(DynamicVariable.scala:62)\n\tat com.databricks.logging.AttributionContext$.withValue(AttributionContext.scala:272)\n\tat com.databricks.logging.AttributionContextTracing.withAttributionContext(AttributionContextTracing.scala:46)\n\tat com.databricks.logging.AttributionContextTracing.withAttributionContext$(AttributionContextTracing.scala:43)\n\tat com.databricks.backend.daemon.driver.DriverLocal.withAttributionContext(DriverLocal.scala:96)\n\tat com.databricks.logging.AttributionContextTracing.withAttributionTags(AttributionContextTracing.scala:95)\n\tat com.databricks.logging.AttributionContextTracing.withAttributionTags$(AttributionContextTracing.scala:76)\n\tat com.databricks.backend.daemon.driver.DriverLocal.withAttributionTags(DriverLocal.scala:96)\n\tat com.databricks.backend.daemon.driver.DriverLocal.$anonfun$execute$1(DriverLocal.scala:1099)\n\tat com.databricks.backend.daemon.driver.DriverLocal$.$anonfun$maybeSynchronizeExecution$4(DriverLocal.scala:1519)\n\tat com.databricks.backend.daemon.driver.DriverLocal.execute(DriverLocal.scala:776)\n\tat com.databricks.backend.daemon.driver.DriverWrapper.$anonfun$tryExecutingCommand$2(DriverWrapper.scala:932)\n\tat scala.util.Try$.apply(Try.scala:213)\n\tat com.databricks.backend.daemon.driver.DriverWrapper.$anonfun$tryExecutingCommand$1(DriverWrapper.scala:921)\n\tat com.databricks.backend.daemon.driver.DriverWrapper.$anonfun$tryExecutingCommand$3(DriverWrapper.scala:967)\n\tat com.databricks.logging.UsageLogging.executeThunkAndCaptureResultTags$1(UsageLogging.scala:633)\n\tat com.databricks.logging.UsageLogging.$anonfun$recordOperationWithResultTags$4(UsageLogging.scala:656)\n\tat com.databricks.logging.AttributionContextTracing.$anonfun$withAttributionContext$1(AttributionContextTracing.scala:48)\n\tat com.databricks.logging.AttributionContext$.$anonfun$withValue$1(AttributionContext.scala:276)\n\tat scala.util.DynamicVariable.withValue(DynamicVariable.scala:62)\n\tat com.databricks.logging.AttributionContext$.withValue(AttributionContext.scala:272)\n\tat com.databricks.logging.AttributionContextTracing.withAttributionContext(AttributionContextTracing.scala:46)\n\tat com.databricks.logging.AttributionContextTracing.withAttributionContext$(AttributionContextTracing.scala:43)\n\tat com.databricks.backend.daemon.driver.DriverWrapper.withAttributionContext(DriverWrapper.scala:73)\n\tat com.databricks.logging.AttributionContextTracing.withAttributionTags(AttributionContextTracing.scala:95)\n\tat com.databricks.logging.AttributionContextTracing.withAttributionTags$(AttributionContextTracing.scala:76)\n\tat com.databricks.backend.daemon.driver.DriverWrapper.withAttributionTags(DriverWrapper.scala:73)\n\tat com.databricks.logging.UsageLogging.recordOperationWithResultTags(UsageLogging.scala:628)\n\tat com.databricks.logging.UsageLogging.recordOperationWithResultTags$(UsageLogging.scala:537)\n\tat com.databricks.backend.daemon.driver.DriverWrapper.recordOperationWithResultTags(DriverWrapper.scala:73)\n\tat com.databricks.backend.daemon.driver.DriverWrapper.tryExecutingCommand(DriverWrapper.scala:967)\n\tat com.databricks.backend.daemon.driver.DriverWrapper.executeCommandAndGetError(DriverWrapper.scala:717)\n\tat com.databricks.backend.daemon.driver.DriverWrapper.executeCommand(DriverWrapper.scala:785)\n\tat com.databricks.backend.daemon.driver.DriverWrapper.$anonfun$runInnerLoop$1(DriverWrapper.scala:590)\n\tat scala.runtime.java8.JFunction0$mcV$sp.apply(JFunction0$mcV$sp.java:23)\n\tat com.databricks.logging.AttributionContextTracing.$anonfun$withAttributionContext$1(AttributionContextTracing.scala:48)\n\tat com.databricks.logging.AttributionContext$.$anonfun$withValue$1(AttributionContext.scala:276)\n\tat scala.util.DynamicVariable.withValue(DynamicVariable.scala:62)\n\tat com.databricks.logging.AttributionContext$.withValue(AttributionContext.scala:272)\n\tat com.databricks.logging.AttributionContextTracing.withAttributionContext(AttributionContextTracing.scala:46)\n\tat com.databricks.logging.AttributionContextTracing.withAttributionContext$(AttributionContextTracing.scala:43)\n\tat com.databricks.backend.daemon.driver.DriverWrapper.withAttributionContext(DriverWrapper.scala:73)\n\tat com.databricks.backend.daemon.driver.DriverWrapper.runInnerLoop(DriverWrapper.scala:590)\n\tat com.databricks.backend.daemon.driver.DriverWrapper.runInner(DriverWrapper.scala:512)\n\tat com.databricks.backend.daemon.driver.DriverWrapper.run(DriverWrapper.scala:306)\n\tat java.lang.Thread.run(Thread.java:750)\n"
       ],
       "type": "baseError"
      }
     },
     "output_type": "display_data"
    }
   ],
   "source": [
    "INSERT INTO deltacatalog.deltadb.invoices_se\n",
    "SELECT customer_id, invoice_no, price, age, invoice_date, quantity, payment_method, category, NULL AS purchase_details\n",
    "FROM PARQUET.`abfss://labdata@dbdeltalabstorageacct.dfs.core.windows.net/invoices/invoices_1_100.parquet`\n",
    "WHERE customer_id BETWEEN 56 AND 60"
   ]
  },
  {
   "cell_type": "code",
   "execution_count": 0,
   "metadata": {
    "application/vnd.databricks.v1+cell": {
     "cellMetadata": {
      "byteLimit": 2048000,
      "rowLimit": 10000
     },
     "inputWidgets": {},
     "nuid": "d0911eee-f7a7-4696-b30d-38514fbea751",
     "showTitle": false,
     "tableResultSettingsMap": {},
     "title": ""
    }
   },
   "outputs": [
    {
     "output_type": "display_data",
     "data": {
      "text/html": [
       "<style scoped>\n",
       "  .table-result-container {\n",
       "    max-height: 300px;\n",
       "    overflow: auto;\n",
       "  }\n",
       "  table, th, td {\n",
       "    border: 1px solid black;\n",
       "    border-collapse: collapse;\n",
       "  }\n",
       "  th, td {\n",
       "    padding: 5px;\n",
       "  }\n",
       "  th {\n",
       "    text-align: left;\n",
       "  }\n",
       "</style><div class='table-result-container'><table class='table-result'><thead style='background-color: white'><tr><th>num_affected_rows</th><th>num_updated_rows</th><th>num_deleted_rows</th><th>num_inserted_rows</th></tr></thead><tbody><tr><td>5</td><td>0</td><td>0</td><td>5</td></tr></tbody></table></div>"
      ]
     },
     "metadata": {
      "application/vnd.databricks.v1+output": {
       "addedWidgets": {},
       "aggData": [],
       "aggError": "",
       "aggOverflow": false,
       "aggSchema": [],
       "aggSeriesLimitReached": false,
       "aggType": "",
       "arguments": {},
       "columnCustomDisplayInfos": {},
       "data": [
        [
         5,
         0,
         0,
         5
        ]
       ],
       "datasetInfos": [],
       "dbfsResultPath": null,
       "isJsonSchema": true,
       "metadata": {
        "isDbfsCommandResult": false
       },
       "overflow": false,
       "plotOptions": {
        "customPlotOptions": {},
        "displayType": "table",
        "pivotAggregation": null,
        "pivotColumns": null,
        "xColumns": null,
        "yColumns": null
       },
       "removedWidgets": [],
       "schema": [
        {
         "metadata": "{}",
         "name": "num_affected_rows",
         "type": "\"long\""
        },
        {
         "metadata": "{}",
         "name": "num_updated_rows",
         "type": "\"long\""
        },
        {
         "metadata": "{}",
         "name": "num_deleted_rows",
         "type": "\"long\""
        },
        {
         "metadata": "{}",
         "name": "num_inserted_rows",
         "type": "\"long\""
        }
       ],
       "type": "table"
      }
     },
     "output_type": "display_data"
    }
   ],
   "source": [
    "MERGE INTO deltacatalog.deltadb.invoices_se tgt\n",
    "USING (\n",
    "  SELECT customer_id, invoice_no, price, age, invoice_date, quantity, payment_method, category, NULL AS purchase_details\n",
    "  FROM PARQUET.`abfss://labdata@dbdeltalabstorageacct.dfs.core.windows.net/invoices/invoices_1_100.parquet`\n",
    "  WHERE customer_id BETWEEN 56 AND 60\n",
    ") src \n",
    "ON tgt.customer_id = src.customer_id\n",
    "WHEN NOT MATCHED THEN\n",
    "  INSERT *"
   ]
  },
  {
   "cell_type": "code",
   "execution_count": 0,
   "metadata": {
    "application/vnd.databricks.v1+cell": {
     "cellMetadata": {
      "byteLimit": 2048000,
      "rowLimit": 10000
     },
     "inputWidgets": {},
     "nuid": "4ed8455c-b8f4-4076-aa45-190e2aae9cca",
     "showTitle": false,
     "tableResultSettingsMap": {},
     "title": ""
    }
   },
   "outputs": [
    {
     "output_type": "display_data",
     "data": {
      "text/html": [
       "<style scoped>\n",
       "  .table-result-container {\n",
       "    max-height: 300px;\n",
       "    overflow: auto;\n",
       "  }\n",
       "  table, th, td {\n",
       "    border: 1px solid black;\n",
       "    border-collapse: collapse;\n",
       "  }\n",
       "  th, td {\n",
       "    padding: 5px;\n",
       "  }\n",
       "  th {\n",
       "    text-align: left;\n",
       "  }\n",
       "</style><div class='table-result-container'><table class='table-result'><thead style='background-color: white'><tr><th>customer_id</th><th>invoice_no</th><th>price</th><th>age</th><th>invoice_date</th><th>quantity</th><th>payment_method</th><th>purchase_details</th><th>category</th></tr></thead><tbody><tr><td>57</td><td>I306026</td><td>2400.68</td><td>62</td><td>2022-11-24</td><td>4</td><td>Credit Card</td><td>null</td><td>Shoes</td></tr><tr><td>58</td><td>I100522</td><td>1500.4</td><td>26</td><td>2021-11-06</td><td>5</td><td>Cash</td><td>null</td><td>Clothing</td></tr><tr><td>56</td><td>I260809</td><td>203.3</td><td>59</td><td>2022-07-30</td><td>5</td><td>Cash</td><td>null</td><td>Cosmetics</td></tr><tr><td>59</td><td>I284099</td><td>2400.68</td><td>30</td><td>2021-01-24</td><td>4</td><td>Cash</td><td>null</td><td>Shoes</td></tr><tr><td>60</td><td>I290521</td><td>71.68</td><td>26</td><td>2022-03-22</td><td>2</td><td>Debit Card</td><td>null</td><td>Toys</td></tr><tr><td>50</td><td>I349253</td><td>143.36000061035156</td><td>42</td><td>2022-10-02</td><td>4</td><td>Cash</td><td>null</td><td>null</td></tr><tr><td>51</td><td>I192284</td><td>107.5199966430664</td><td>33</td><td>2023-01-05</td><td>3</td><td>Cash</td><td>null</td><td>null</td></tr><tr><td>52</td><td>I766439</td><td>35.84000015258789</td><td>37</td><td>2023-01-26</td><td>1</td><td>Cash</td><td>null</td><td>null</td></tr><tr><td>53</td><td>I142150</td><td>81.31999969482422</td><td>63</td><td>2021-01-31</td><td>2</td><td>Cash</td><td>null</td><td>null</td></tr><tr><td>54</td><td>I383710</td><td>4200.0</td><td>35</td><td>2021-12-12</td><td>4</td><td>Debit Card</td><td>null</td><td>null</td></tr><tr><td>55</td><td>I279206</td><td>300.0799865722656</td><td>64</td><td>2021-11-02</td><td>1</td><td>Credit Card</td><td>null</td><td>null</td></tr><tr><td>21</td><td>I106485</td><td>30.299999237060547</td><td>null</td><td>2022-12-01</td><td>2</td><td>Debit Card</td><td>List(7612, 765, ground floor, ST12736)</td><td>null</td></tr><tr><td>17</td><td>I106485</td><td>30.299999237060547</td><td>null</td><td>2022-12-01</td><td>2</td><td>Debit Card</td><td>List(7612, 765, ground floor, null)</td><td>null</td></tr><tr><td>17</td><td>I106485</td><td>30.299999237060547</td><td>null</td><td>2022-12-01</td><td>2</td><td>Debit Card</td><td>List(123456789012346, 765, null, null)</td><td>null</td></tr><tr><td>16</td><td>I106485</td><td>30.299999237060547</td><td>null</td><td>2022-12-01</td><td>2</td><td>Debit Card</td><td>List(12345, 879, null, null)</td><td>null</td></tr><tr><td>11</td><td>I235733</td><td>162.63999938964844</td><td>null</td><td>2022-01-04</td><td>4</td><td>Cash</td><td>null</td><td>null</td></tr><tr><td>12</td><td>I272400</td><td>5.230000019073486</td><td>null</td><td>2022-01-10</td><td>1</td><td>Cash</td><td>null</td><td>null</td></tr><tr><td>13</td><td>I223729</td><td>107.5199966430664</td><td>null</td><td>2022-08-02</td><td>3</td><td>Cash</td><td>null</td><td>null</td></tr><tr><td>14</td><td>I299506</td><td>600.1699829101562</td><td>null</td><td>2021-01-06</td><td>1</td><td>Cash</td><td>null</td><td>null</td></tr><tr><td>15</td><td>I106485</td><td>30.299999237060547</td><td>null</td><td>2022-12-01</td><td>2</td><td>Debit Card</td><td>null</td><td>null</td></tr><tr><td>123456789012345</td><td>I106485</td><td>30.299999237060547</td><td>null</td><td>2022-12-01</td><td>2</td><td>Debit Card</td><td>null</td><td>null</td></tr><tr><td>123456789012345</td><td>I106485</td><td>30.299999237060547</td><td>null</td><td>2022-12-01</td><td>2</td><td>Debit Card</td><td>null</td><td>null</td></tr><tr><td>6</td><td>I303349</td><td>71.68000030517578</td><td>null</td><td>2021-06-03</td><td>2</td><td>null</td><td>null</td><td>null</td></tr><tr><td>7</td><td>I336350</td><td>15.149999618530273</td><td>null</td><td>2021-11-25</td><td>1</td><td>null</td><td>null</td><td>null</td></tr><tr><td>8</td><td>I134255</td><td>1200.3199462890625</td><td>null</td><td>2022-10-13</td><td>4</td><td>null</td><td>null</td><td>null</td></tr><tr><td>9</td><td>I306929</td><td>600.1599731445312</td><td>null</td><td>2021-08-06</td><td>2</td><td>null</td><td>null</td><td>null</td></tr><tr><td>10</td><td>I280920</td><td>900.239990234375</td><td>null</td><td>2021-04-23</td><td>3</td><td>null</td><td>null</td><td>null</td></tr><tr><td>1</td><td>I178410</td><td>1500.4000244140625</td><td>null</td><td>2021-11-26</td><td>null</td><td>null</td><td>null</td><td>null</td></tr><tr><td>2</td><td>I158163</td><td>1200.3399658203125</td><td>null</td><td>2023-03-03</td><td>null</td><td>null</td><td>null</td><td>null</td></tr><tr><td>3</td><td>I262373</td><td>107.5199966430664</td><td>null</td><td>2022-12-01</td><td>null</td><td>null</td><td>null</td><td>null</td></tr><tr><td>4</td><td>I334895</td><td>26.149999618530273</td><td>null</td><td>2021-08-15</td><td>null</td><td>null</td><td>null</td><td>null</td></tr><tr><td>5</td><td>I202043</td><td>35.84000015258789</td><td>null</td><td>2021-07-25</td><td>null</td><td>null</td><td>null</td><td>null</td></tr></tbody></table></div>"
      ]
     },
     "metadata": {
      "application/vnd.databricks.v1+output": {
       "addedWidgets": {},
       "aggData": [],
       "aggError": "",
       "aggOverflow": false,
       "aggSchema": [],
       "aggSeriesLimitReached": false,
       "aggType": "",
       "arguments": {},
       "columnCustomDisplayInfos": {},
       "data": [
        [
         57,
         "I306026",
         2400.68,
         62,
         "2022-11-24",
         4,
         "Credit Card",
         null,
         "Shoes"
        ],
        [
         58,
         "I100522",
         1500.4,
         26,
         "2021-11-06",
         5,
         "Cash",
         null,
         "Clothing"
        ],
        [
         56,
         "I260809",
         203.3,
         59,
         "2022-07-30",
         5,
         "Cash",
         null,
         "Cosmetics"
        ],
        [
         59,
         "I284099",
         2400.68,
         30,
         "2021-01-24",
         4,
         "Cash",
         null,
         "Shoes"
        ],
        [
         60,
         "I290521",
         71.68,
         26,
         "2022-03-22",
         2,
         "Debit Card",
         null,
         "Toys"
        ],
        [
         50,
         "I349253",
         143.36000061035156,
         42,
         "2022-10-02",
         4,
         "Cash",
         null,
         null
        ],
        [
         51,
         "I192284",
         107.5199966430664,
         33,
         "2023-01-05",
         3,
         "Cash",
         null,
         null
        ],
        [
         52,
         "I766439",
         35.84000015258789,
         37,
         "2023-01-26",
         1,
         "Cash",
         null,
         null
        ],
        [
         53,
         "I142150",
         81.31999969482422,
         63,
         "2021-01-31",
         2,
         "Cash",
         null,
         null
        ],
        [
         54,
         "I383710",
         4200.0,
         35,
         "2021-12-12",
         4,
         "Debit Card",
         null,
         null
        ],
        [
         55,
         "I279206",
         300.0799865722656,
         64,
         "2021-11-02",
         1,
         "Credit Card",
         null,
         null
        ],
        [
         21,
         "I106485",
         30.299999237060547,
         null,
         "2022-12-01",
         2,
         "Debit Card",
         [
          7612,
          765,
          "ground floor",
          "ST12736"
         ],
         null
        ],
        [
         17,
         "I106485",
         30.299999237060547,
         null,
         "2022-12-01",
         2,
         "Debit Card",
         [
          7612,
          765,
          "ground floor",
          null
         ],
         null
        ],
        [
         17,
         "I106485",
         30.299999237060547,
         null,
         "2022-12-01",
         2,
         "Debit Card",
         [
          123456789012346,
          765,
          null,
          null
         ],
         null
        ],
        [
         16,
         "I106485",
         30.299999237060547,
         null,
         "2022-12-01",
         2,
         "Debit Card",
         [
          12345,
          879,
          null,
          null
         ],
         null
        ],
        [
         11,
         "I235733",
         162.63999938964844,
         null,
         "2022-01-04",
         4,
         "Cash",
         null,
         null
        ],
        [
         12,
         "I272400",
         5.230000019073486,
         null,
         "2022-01-10",
         1,
         "Cash",
         null,
         null
        ],
        [
         13,
         "I223729",
         107.5199966430664,
         null,
         "2022-08-02",
         3,
         "Cash",
         null,
         null
        ],
        [
         14,
         "I299506",
         600.1699829101562,
         null,
         "2021-01-06",
         1,
         "Cash",
         null,
         null
        ],
        [
         15,
         "I106485",
         30.299999237060547,
         null,
         "2022-12-01",
         2,
         "Debit Card",
         null,
         null
        ],
        [
         123456789012345,
         "I106485",
         30.299999237060547,
         null,
         "2022-12-01",
         2,
         "Debit Card",
         null,
         null
        ],
        [
         123456789012345,
         "I106485",
         30.299999237060547,
         null,
         "2022-12-01",
         2,
         "Debit Card",
         null,
         null
        ],
        [
         6,
         "I303349",
         71.68000030517578,
         null,
         "2021-06-03",
         2,
         null,
         null,
         null
        ],
        [
         7,
         "I336350",
         15.149999618530273,
         null,
         "2021-11-25",
         1,
         null,
         null,
         null
        ],
        [
         8,
         "I134255",
         1200.3199462890625,
         null,
         "2022-10-13",
         4,
         null,
         null,
         null
        ],
        [
         9,
         "I306929",
         600.1599731445312,
         null,
         "2021-08-06",
         2,
         null,
         null,
         null
        ],
        [
         10,
         "I280920",
         900.239990234375,
         null,
         "2021-04-23",
         3,
         null,
         null,
         null
        ],
        [
         1,
         "I178410",
         1500.4000244140625,
         null,
         "2021-11-26",
         null,
         null,
         null,
         null
        ],
        [
         2,
         "I158163",
         1200.3399658203125,
         null,
         "2023-03-03",
         null,
         null,
         null,
         null
        ],
        [
         3,
         "I262373",
         107.5199966430664,
         null,
         "2022-12-01",
         null,
         null,
         null,
         null
        ],
        [
         4,
         "I334895",
         26.149999618530273,
         null,
         "2021-08-15",
         null,
         null,
         null,
         null
        ],
        [
         5,
         "I202043",
         35.84000015258789,
         null,
         "2021-07-25",
         null,
         null,
         null,
         null
        ]
       ],
       "datasetInfos": [],
       "dbfsResultPath": null,
       "isJsonSchema": true,
       "metadata": {
        "isDbfsCommandResult": false
       },
       "overflow": false,
       "plotOptions": {
        "customPlotOptions": {},
        "displayType": "table",
        "pivotAggregation": null,
        "pivotColumns": null,
        "xColumns": null,
        "yColumns": null
       },
       "removedWidgets": [],
       "schema": [
        {
         "metadata": "{\"delta.typeChanges\":[{\"toType\":\"long\",\"fromType\":\"integer\",\"tableVersion\":6}]}",
         "name": "customer_id",
         "type": "\"long\""
        },
        {
         "metadata": "{}",
         "name": "invoice_no",
         "type": "\"string\""
        },
        {
         "metadata": "{\"delta.typeChanges\":[{\"toType\":\"double\",\"fromType\":\"float\",\"tableVersion\":20}]}",
         "name": "price",
         "type": "\"double\""
        },
        {
         "metadata": "{}",
         "name": "age",
         "type": "\"integer\""
        },
        {
         "metadata": "{}",
         "name": "invoice_date",
         "type": "\"date\""
        },
        {
         "metadata": "{}",
         "name": "quantity",
         "type": "\"integer\""
        },
        {
         "metadata": "{}",
         "name": "payment_method",
         "type": "\"string\""
        },
        {
         "metadata": "{}",
         "name": "purchase_details",
         "type": "{\"type\":\"struct\",\"fields\":[{\"name\":\"mall_pin_code\",\"type\":\"long\",\"nullable\":true,\"metadata\":{\"delta.typeChanges\":[{\"toType\":\"long\",\"fromType\":\"integer\",\"tableVersion\":10}]}},{\"name\":\"store_code\",\"type\":\"integer\",\"nullable\":true,\"metadata\":{}},{\"name\":\"store_loc\",\"type\":\"string\",\"nullable\":true,\"metadata\":{}},{\"name\":\"staff_id\",\"type\":\"string\",\"nullable\":true,\"metadata\":{}}]}"
        },
        {
         "metadata": "{}",
         "name": "category",
         "type": "\"string\""
        }
       ],
       "type": "table"
      }
     },
     "output_type": "display_data"
    }
   ],
   "source": [
    "SELECT * FROM deltacatalog.deltadb.invoices_se;"
   ]
  },
  {
   "cell_type": "code",
   "execution_count": 0,
   "metadata": {
    "application/vnd.databricks.v1+cell": {
     "cellMetadata": {
      "byteLimit": 2048000,
      "rowLimit": 10000
     },
     "inputWidgets": {},
     "nuid": "c6c5eff7-a54e-450e-a038-9e76fa1f468e",
     "showTitle": false,
     "tableResultSettingsMap": {},
     "title": ""
    }
   },
   "outputs": [],
   "source": [
    "%python\n",
    "from pyspark.sql.functions import *\n",
    "df = (\n",
    "  spark.read.parquet(\"abfss://labdata@dbdeltalabstorageacct.dfs.core.windows.net/invoices/invoices_1_100.parquet\")\n",
    "  .filter(col(\"customer_id\").between(1, 10))\n",
    "  .select(\"customer_id\", \"price\", \"invoice_date\")\n",
    ")\n",
    "df.write.saveAsTable(\"deltacatalog.deltadb.invoices_se_spark_df\")"
   ]
  },
  {
   "cell_type": "code",
   "execution_count": 0,
   "metadata": {
    "application/vnd.databricks.v1+cell": {
     "cellMetadata": {
      "byteLimit": 2048000,
      "rowLimit": 10000
     },
     "inputWidgets": {},
     "nuid": "03a70f2a-0654-4d93-bab7-512c852e1e44",
     "showTitle": false,
     "tableResultSettingsMap": {},
     "title": ""
    }
   },
   "outputs": [],
   "source": [
    "%python\n",
    "df = (\n",
    "  spark.read.parquet(\"abfss://labdata@dbdeltalabstorageacct.dfs.core.windows.net/invoices/invoices_1_100.parquet\")\n",
    "  .filter(col(\"customer_id\").between(11, 25))\n",
    "  .select(\"customer_id\", \"price\", \"invoice_date\", \"quantity\", \"payment_method\")\n",
    ")\n",
    "df.write.mode(\"append\").option(\"mergeSchema\", \"true\").saveAsTable(\"deltacatalog.deltadb.invoices_se_spark_df\")"
   ]
  },
  {
   "cell_type": "code",
   "execution_count": 0,
   "metadata": {
    "application/vnd.databricks.v1+cell": {
     "cellMetadata": {},
     "inputWidgets": {},
     "nuid": "c38c1645-b7da-4feb-b1e6-f3113e463080",
     "showTitle": false,
     "tableResultSettingsMap": {},
     "title": ""
    }
   },
   "outputs": [],
   "source": []
  }
 ],
 "metadata": {
  "application/vnd.databricks.v1+notebook": {
   "computePreferences": null,
   "dashboards": [],
   "environmentMetadata": {
    "base_environment": "",
    "environment_version": "2"
   },
   "inputWidgetPreferences": null,
   "language": "sql",
   "notebookMetadata": {
    "pythonIndentUnit": 4
   },
   "notebookName": "03 Schema Evolution",
   "widgets": {}
  },
  "language_info": {
   "name": "sql"
  }
 },
 "nbformat": 4,
 "nbformat_minor": 0
}